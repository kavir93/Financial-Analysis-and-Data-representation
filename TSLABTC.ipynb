{
  "nbformat": 4,
  "nbformat_minor": 0,
  "metadata": {
    "colab": {
      "name": "Untitled3.ipynb",
      "provenance": [],
      "authorship_tag": "ABX9TyNeZjZSwjsR56d4wQ+7dwx9",
      "include_colab_link": true
    },
    "kernelspec": {
      "name": "python3",
      "display_name": "Python 3"
    }
  },
  "cells": [
    {
      "cell_type": "markdown",
      "metadata": {
        "id": "view-in-github",
        "colab_type": "text"
      },
      "source": [
        "<a href=\"https://colab.research.google.com/github/kavir93/Financial-Analysis-and-Data-representation/blob/main/TSLABTC.ipynb\" target=\"_parent\"><img src=\"https://colab.research.google.com/assets/colab-badge.svg\" alt=\"Open In Colab\"/></a>"
      ]
    },
    {
      "cell_type": "code",
      "metadata": {
        "colab": {
          "base_uri": "https://localhost:8080/"
        },
        "id": "9-aWfN3Bs_qe",
        "outputId": "1067199a-7c0c-4447-e267-a8a2f4c2b38c"
      },
      "source": [
        "from google.colab import drive\r\n",
        "drive.mount('/content/drive')"
      ],
      "execution_count": 2,
      "outputs": [
        {
          "output_type": "stream",
          "text": [
            "Mounted at /content/drive\n"
          ],
          "name": "stdout"
        }
      ]
    },
    {
      "cell_type": "code",
      "metadata": {
        "id": "7vwVCxPetktY"
      },
      "source": [
        "import pandas as pd\r\n",
        "import matplotlib.pyplot as plt\r\n",
        "import numpy as np\r\n",
        "import plotly.express as px\r\n",
        "import plotly.figure_factory as ff\r\n",
        "from copy import copy"
      ],
      "execution_count": 70,
      "outputs": []
    },
    {
      "cell_type": "code",
      "metadata": {
        "colab": {
          "base_uri": "https://localhost:8080/",
          "height": 419
        },
        "id": "-zW_sJkCuDcU",
        "outputId": "b6512c6b-6016-44cb-f155-8cbc2cede9dd"
      },
      "source": [
        "bitcoin_data1 = pd.read_csv('/content/drive/MyDrive/BTC-USD (1).csv')\r\n",
        "\r\n",
        "bitcoin_data1\r\n",
        "\r\n"
      ],
      "execution_count": 88,
      "outputs": [
        {
          "output_type": "execute_result",
          "data": {
            "text/html": [
              "<div>\n",
              "<style scoped>\n",
              "    .dataframe tbody tr th:only-of-type {\n",
              "        vertical-align: middle;\n",
              "    }\n",
              "\n",
              "    .dataframe tbody tr th {\n",
              "        vertical-align: top;\n",
              "    }\n",
              "\n",
              "    .dataframe thead th {\n",
              "        text-align: right;\n",
              "    }\n",
              "</style>\n",
              "<table border=\"1\" class=\"dataframe\">\n",
              "  <thead>\n",
              "    <tr style=\"text-align: right;\">\n",
              "      <th></th>\n",
              "      <th>Date</th>\n",
              "      <th>Open</th>\n",
              "      <th>High</th>\n",
              "      <th>Low</th>\n",
              "      <th>Close</th>\n",
              "      <th>Adj Close</th>\n",
              "      <th>Volume</th>\n",
              "    </tr>\n",
              "  </thead>\n",
              "  <tbody>\n",
              "    <tr>\n",
              "      <th>0</th>\n",
              "      <td>2015-01-01</td>\n",
              "      <td>320.434998</td>\n",
              "      <td>320.434998</td>\n",
              "      <td>314.002991</td>\n",
              "      <td>314.248993</td>\n",
              "      <td>314.248993</td>\n",
              "      <td>8.036550e+06</td>\n",
              "    </tr>\n",
              "    <tr>\n",
              "      <th>1</th>\n",
              "      <td>2015-01-02</td>\n",
              "      <td>314.079010</td>\n",
              "      <td>315.838989</td>\n",
              "      <td>313.565002</td>\n",
              "      <td>315.032013</td>\n",
              "      <td>315.032013</td>\n",
              "      <td>7.860650e+06</td>\n",
              "    </tr>\n",
              "    <tr>\n",
              "      <th>2</th>\n",
              "      <td>2015-01-03</td>\n",
              "      <td>314.846008</td>\n",
              "      <td>315.149994</td>\n",
              "      <td>281.082001</td>\n",
              "      <td>281.082001</td>\n",
              "      <td>281.082001</td>\n",
              "      <td>3.305440e+07</td>\n",
              "    </tr>\n",
              "    <tr>\n",
              "      <th>3</th>\n",
              "      <td>2015-01-04</td>\n",
              "      <td>281.145996</td>\n",
              "      <td>287.230011</td>\n",
              "      <td>257.612000</td>\n",
              "      <td>264.195007</td>\n",
              "      <td>264.195007</td>\n",
              "      <td>5.562910e+07</td>\n",
              "    </tr>\n",
              "    <tr>\n",
              "      <th>4</th>\n",
              "      <td>2015-01-05</td>\n",
              "      <td>265.084015</td>\n",
              "      <td>278.341003</td>\n",
              "      <td>265.084015</td>\n",
              "      <td>274.473999</td>\n",
              "      <td>274.473999</td>\n",
              "      <td>4.396280e+07</td>\n",
              "    </tr>\n",
              "    <tr>\n",
              "      <th>...</th>\n",
              "      <td>...</td>\n",
              "      <td>...</td>\n",
              "      <td>...</td>\n",
              "      <td>...</td>\n",
              "      <td>...</td>\n",
              "      <td>...</td>\n",
              "      <td>...</td>\n",
              "    </tr>\n",
              "    <tr>\n",
              "      <th>2227</th>\n",
              "      <td>2021-02-05</td>\n",
              "      <td>36931.546875</td>\n",
              "      <td>38225.906250</td>\n",
              "      <td>36658.761719</td>\n",
              "      <td>38144.308594</td>\n",
              "      <td>38144.308594</td>\n",
              "      <td>5.859807e+10</td>\n",
              "    </tr>\n",
              "    <tr>\n",
              "      <th>2228</th>\n",
              "      <td>2021-02-06</td>\n",
              "      <td>38138.386719</td>\n",
              "      <td>40846.546875</td>\n",
              "      <td>38138.386719</td>\n",
              "      <td>39266.011719</td>\n",
              "      <td>39266.011719</td>\n",
              "      <td>7.132603e+10</td>\n",
              "    </tr>\n",
              "    <tr>\n",
              "      <th>2229</th>\n",
              "      <td>2021-02-07</td>\n",
              "      <td>39250.191406</td>\n",
              "      <td>39621.835938</td>\n",
              "      <td>37446.152344</td>\n",
              "      <td>38903.441406</td>\n",
              "      <td>38903.441406</td>\n",
              "      <td>6.550064e+10</td>\n",
              "    </tr>\n",
              "    <tr>\n",
              "      <th>2230</th>\n",
              "      <td>2021-02-08</td>\n",
              "      <td>38886.828125</td>\n",
              "      <td>46203.929688</td>\n",
              "      <td>38076.324219</td>\n",
              "      <td>46196.464844</td>\n",
              "      <td>46196.464844</td>\n",
              "      <td>1.014672e+11</td>\n",
              "    </tr>\n",
              "    <tr>\n",
              "      <th>2231</th>\n",
              "      <td>2021-02-09</td>\n",
              "      <td>46666.515625</td>\n",
              "      <td>47899.585938</td>\n",
              "      <td>45166.960938</td>\n",
              "      <td>46174.859375</td>\n",
              "      <td>46174.859375</td>\n",
              "      <td>1.108476e+11</td>\n",
              "    </tr>\n",
              "  </tbody>\n",
              "</table>\n",
              "<p>2232 rows × 7 columns</p>\n",
              "</div>"
            ],
            "text/plain": [
              "            Date          Open  ...     Adj Close        Volume\n",
              "0     2015-01-01    320.434998  ...    314.248993  8.036550e+06\n",
              "1     2015-01-02    314.079010  ...    315.032013  7.860650e+06\n",
              "2     2015-01-03    314.846008  ...    281.082001  3.305440e+07\n",
              "3     2015-01-04    281.145996  ...    264.195007  5.562910e+07\n",
              "4     2015-01-05    265.084015  ...    274.473999  4.396280e+07\n",
              "...          ...           ...  ...           ...           ...\n",
              "2227  2021-02-05  36931.546875  ...  38144.308594  5.859807e+10\n",
              "2228  2021-02-06  38138.386719  ...  39266.011719  7.132603e+10\n",
              "2229  2021-02-07  39250.191406  ...  38903.441406  6.550064e+10\n",
              "2230  2021-02-08  38886.828125  ...  46196.464844  1.014672e+11\n",
              "2231  2021-02-09  46666.515625  ...  46174.859375  1.108476e+11\n",
              "\n",
              "[2232 rows x 7 columns]"
            ]
          },
          "metadata": {
            "tags": []
          },
          "execution_count": 88
        }
      ]
    },
    {
      "cell_type": "code",
      "metadata": {
        "colab": {
          "base_uri": "https://localhost:8080/",
          "height": 419
        },
        "id": "Ecvwh7CswUt3",
        "outputId": "b16c136c-a0e5-4b63-99ae-b4e643c70f99"
      },
      "source": [
        "tesla_data1 = pd.read_csv('/content/drive/MyDrive/TSLA (1).csv')\r\n",
        "tesla_data1"
      ],
      "execution_count": 89,
      "outputs": [
        {
          "output_type": "execute_result",
          "data": {
            "text/html": [
              "<div>\n",
              "<style scoped>\n",
              "    .dataframe tbody tr th:only-of-type {\n",
              "        vertical-align: middle;\n",
              "    }\n",
              "\n",
              "    .dataframe tbody tr th {\n",
              "        vertical-align: top;\n",
              "    }\n",
              "\n",
              "    .dataframe thead th {\n",
              "        text-align: right;\n",
              "    }\n",
              "</style>\n",
              "<table border=\"1\" class=\"dataframe\">\n",
              "  <thead>\n",
              "    <tr style=\"text-align: right;\">\n",
              "      <th></th>\n",
              "      <th>Date</th>\n",
              "      <th>Open</th>\n",
              "      <th>High</th>\n",
              "      <th>Low</th>\n",
              "      <th>Close</th>\n",
              "      <th>Adj Close</th>\n",
              "      <th>Volume</th>\n",
              "    </tr>\n",
              "  </thead>\n",
              "  <tbody>\n",
              "    <tr>\n",
              "      <th>0</th>\n",
              "      <td>2012-01-03</td>\n",
              "      <td>5.788000</td>\n",
              "      <td>5.900000</td>\n",
              "      <td>5.530000</td>\n",
              "      <td>5.616000</td>\n",
              "      <td>5.616000</td>\n",
              "      <td>4640500</td>\n",
              "    </tr>\n",
              "    <tr>\n",
              "      <th>1</th>\n",
              "      <td>2012-01-04</td>\n",
              "      <td>5.642000</td>\n",
              "      <td>5.734000</td>\n",
              "      <td>5.500000</td>\n",
              "      <td>5.542000</td>\n",
              "      <td>5.542000</td>\n",
              "      <td>3150500</td>\n",
              "    </tr>\n",
              "    <tr>\n",
              "      <th>2</th>\n",
              "      <td>2012-01-05</td>\n",
              "      <td>5.552000</td>\n",
              "      <td>5.586000</td>\n",
              "      <td>5.370000</td>\n",
              "      <td>5.424000</td>\n",
              "      <td>5.424000</td>\n",
              "      <td>5027500</td>\n",
              "    </tr>\n",
              "    <tr>\n",
              "      <th>3</th>\n",
              "      <td>2012-01-06</td>\n",
              "      <td>5.440000</td>\n",
              "      <td>5.558000</td>\n",
              "      <td>5.282000</td>\n",
              "      <td>5.382000</td>\n",
              "      <td>5.382000</td>\n",
              "      <td>4931500</td>\n",
              "    </tr>\n",
              "    <tr>\n",
              "      <th>4</th>\n",
              "      <td>2012-01-09</td>\n",
              "      <td>5.400000</td>\n",
              "      <td>5.498000</td>\n",
              "      <td>5.224000</td>\n",
              "      <td>5.450000</td>\n",
              "      <td>5.450000</td>\n",
              "      <td>4485000</td>\n",
              "    </tr>\n",
              "    <tr>\n",
              "      <th>...</th>\n",
              "      <td>...</td>\n",
              "      <td>...</td>\n",
              "      <td>...</td>\n",
              "      <td>...</td>\n",
              "      <td>...</td>\n",
              "      <td>...</td>\n",
              "      <td>...</td>\n",
              "    </tr>\n",
              "    <tr>\n",
              "      <th>2285</th>\n",
              "      <td>2021-02-02</td>\n",
              "      <td>844.679993</td>\n",
              "      <td>880.500000</td>\n",
              "      <td>842.200012</td>\n",
              "      <td>872.789978</td>\n",
              "      <td>872.789978</td>\n",
              "      <td>24346200</td>\n",
              "    </tr>\n",
              "    <tr>\n",
              "      <th>2286</th>\n",
              "      <td>2021-02-03</td>\n",
              "      <td>877.020020</td>\n",
              "      <td>878.080017</td>\n",
              "      <td>853.059998</td>\n",
              "      <td>854.690002</td>\n",
              "      <td>854.690002</td>\n",
              "      <td>18343500</td>\n",
              "    </tr>\n",
              "    <tr>\n",
              "      <th>2287</th>\n",
              "      <td>2021-02-04</td>\n",
              "      <td>855.000000</td>\n",
              "      <td>856.500000</td>\n",
              "      <td>833.419983</td>\n",
              "      <td>849.989990</td>\n",
              "      <td>849.989990</td>\n",
              "      <td>15812700</td>\n",
              "    </tr>\n",
              "    <tr>\n",
              "      <th>2288</th>\n",
              "      <td>2021-02-05</td>\n",
              "      <td>845.000000</td>\n",
              "      <td>864.770020</td>\n",
              "      <td>838.969971</td>\n",
              "      <td>852.229980</td>\n",
              "      <td>852.229980</td>\n",
              "      <td>18524800</td>\n",
              "    </tr>\n",
              "    <tr>\n",
              "      <th>2289</th>\n",
              "      <td>2021-02-08</td>\n",
              "      <td>869.669983</td>\n",
              "      <td>877.770020</td>\n",
              "      <td>854.750000</td>\n",
              "      <td>863.419983</td>\n",
              "      <td>863.419983</td>\n",
              "      <td>20079500</td>\n",
              "    </tr>\n",
              "  </tbody>\n",
              "</table>\n",
              "<p>2290 rows × 7 columns</p>\n",
              "</div>"
            ],
            "text/plain": [
              "            Date        Open        High  ...       Close   Adj Close    Volume\n",
              "0     2012-01-03    5.788000    5.900000  ...    5.616000    5.616000   4640500\n",
              "1     2012-01-04    5.642000    5.734000  ...    5.542000    5.542000   3150500\n",
              "2     2012-01-05    5.552000    5.586000  ...    5.424000    5.424000   5027500\n",
              "3     2012-01-06    5.440000    5.558000  ...    5.382000    5.382000   4931500\n",
              "4     2012-01-09    5.400000    5.498000  ...    5.450000    5.450000   4485000\n",
              "...          ...         ...         ...  ...         ...         ...       ...\n",
              "2285  2021-02-02  844.679993  880.500000  ...  872.789978  872.789978  24346200\n",
              "2286  2021-02-03  877.020020  878.080017  ...  854.690002  854.690002  18343500\n",
              "2287  2021-02-04  855.000000  856.500000  ...  849.989990  849.989990  15812700\n",
              "2288  2021-02-05  845.000000  864.770020  ...  852.229980  852.229980  18524800\n",
              "2289  2021-02-08  869.669983  877.770020  ...  863.419983  863.419983  20079500\n",
              "\n",
              "[2290 rows x 7 columns]"
            ]
          },
          "metadata": {
            "tags": []
          },
          "execution_count": 89
        }
      ]
    },
    {
      "cell_type": "code",
      "metadata": {
        "colab": {
          "base_uri": "https://localhost:8080/",
          "height": 626
        },
        "id": "RYE4t9E2xnqb",
        "outputId": "35e5f4bf-c632-40a0-8c15-e87940dc1c80"
      },
      "source": [
        "final = pd.merge(tesla_data1,bitcoin_data1,on='Date')\r\n",
        "final"
      ],
      "execution_count": 90,
      "outputs": [
        {
          "output_type": "execute_result",
          "data": {
            "text/html": [
              "<div>\n",
              "<style scoped>\n",
              "    .dataframe tbody tr th:only-of-type {\n",
              "        vertical-align: middle;\n",
              "    }\n",
              "\n",
              "    .dataframe tbody tr th {\n",
              "        vertical-align: top;\n",
              "    }\n",
              "\n",
              "    .dataframe thead th {\n",
              "        text-align: right;\n",
              "    }\n",
              "</style>\n",
              "<table border=\"1\" class=\"dataframe\">\n",
              "  <thead>\n",
              "    <tr style=\"text-align: right;\">\n",
              "      <th></th>\n",
              "      <th>Date</th>\n",
              "      <th>Open_x</th>\n",
              "      <th>High_x</th>\n",
              "      <th>Low_x</th>\n",
              "      <th>Close_x</th>\n",
              "      <th>Adj Close_x</th>\n",
              "      <th>Volume_x</th>\n",
              "      <th>Open_y</th>\n",
              "      <th>High_y</th>\n",
              "      <th>Low_y</th>\n",
              "      <th>Close_y</th>\n",
              "      <th>Adj Close_y</th>\n",
              "      <th>Volume_y</th>\n",
              "    </tr>\n",
              "  </thead>\n",
              "  <tbody>\n",
              "    <tr>\n",
              "      <th>0</th>\n",
              "      <td>2015-01-02</td>\n",
              "      <td>44.574001</td>\n",
              "      <td>44.650002</td>\n",
              "      <td>42.652000</td>\n",
              "      <td>43.862000</td>\n",
              "      <td>43.862000</td>\n",
              "      <td>23822000</td>\n",
              "      <td>314.079010</td>\n",
              "      <td>315.838989</td>\n",
              "      <td>313.565002</td>\n",
              "      <td>315.032013</td>\n",
              "      <td>315.032013</td>\n",
              "      <td>7.860650e+06</td>\n",
              "    </tr>\n",
              "    <tr>\n",
              "      <th>1</th>\n",
              "      <td>2015-01-05</td>\n",
              "      <td>42.910000</td>\n",
              "      <td>43.299999</td>\n",
              "      <td>41.431999</td>\n",
              "      <td>42.018002</td>\n",
              "      <td>42.018002</td>\n",
              "      <td>26842500</td>\n",
              "      <td>265.084015</td>\n",
              "      <td>278.341003</td>\n",
              "      <td>265.084015</td>\n",
              "      <td>274.473999</td>\n",
              "      <td>274.473999</td>\n",
              "      <td>4.396280e+07</td>\n",
              "    </tr>\n",
              "    <tr>\n",
              "      <th>2</th>\n",
              "      <td>2015-01-06</td>\n",
              "      <td>42.012001</td>\n",
              "      <td>42.840000</td>\n",
              "      <td>40.841999</td>\n",
              "      <td>42.256001</td>\n",
              "      <td>42.256001</td>\n",
              "      <td>31309500</td>\n",
              "      <td>274.610992</td>\n",
              "      <td>287.553009</td>\n",
              "      <td>272.696014</td>\n",
              "      <td>286.188995</td>\n",
              "      <td>286.188995</td>\n",
              "      <td>2.324570e+07</td>\n",
              "    </tr>\n",
              "    <tr>\n",
              "      <th>3</th>\n",
              "      <td>2015-01-07</td>\n",
              "      <td>42.669998</td>\n",
              "      <td>42.956001</td>\n",
              "      <td>41.956001</td>\n",
              "      <td>42.189999</td>\n",
              "      <td>42.189999</td>\n",
              "      <td>14842000</td>\n",
              "      <td>286.076996</td>\n",
              "      <td>298.753998</td>\n",
              "      <td>283.079010</td>\n",
              "      <td>294.337006</td>\n",
              "      <td>294.337006</td>\n",
              "      <td>2.486680e+07</td>\n",
              "    </tr>\n",
              "    <tr>\n",
              "      <th>4</th>\n",
              "      <td>2015-01-08</td>\n",
              "      <td>42.562000</td>\n",
              "      <td>42.759998</td>\n",
              "      <td>42.001999</td>\n",
              "      <td>42.124001</td>\n",
              "      <td>42.124001</td>\n",
              "      <td>17212500</td>\n",
              "      <td>294.135010</td>\n",
              "      <td>294.135010</td>\n",
              "      <td>282.174988</td>\n",
              "      <td>283.348999</td>\n",
              "      <td>283.348999</td>\n",
              "      <td>1.998250e+07</td>\n",
              "    </tr>\n",
              "    <tr>\n",
              "      <th>...</th>\n",
              "      <td>...</td>\n",
              "      <td>...</td>\n",
              "      <td>...</td>\n",
              "      <td>...</td>\n",
              "      <td>...</td>\n",
              "      <td>...</td>\n",
              "      <td>...</td>\n",
              "      <td>...</td>\n",
              "      <td>...</td>\n",
              "      <td>...</td>\n",
              "      <td>...</td>\n",
              "      <td>...</td>\n",
              "      <td>...</td>\n",
              "    </tr>\n",
              "    <tr>\n",
              "      <th>1531</th>\n",
              "      <td>2021-02-02</td>\n",
              "      <td>844.679993</td>\n",
              "      <td>880.500000</td>\n",
              "      <td>842.200012</td>\n",
              "      <td>872.789978</td>\n",
              "      <td>872.789978</td>\n",
              "      <td>24346200</td>\n",
              "      <td>33533.199219</td>\n",
              "      <td>35896.882813</td>\n",
              "      <td>33489.218750</td>\n",
              "      <td>35510.289063</td>\n",
              "      <td>35510.289063</td>\n",
              "      <td>6.308859e+10</td>\n",
              "    </tr>\n",
              "    <tr>\n",
              "      <th>1532</th>\n",
              "      <td>2021-02-03</td>\n",
              "      <td>877.020020</td>\n",
              "      <td>878.080017</td>\n",
              "      <td>853.059998</td>\n",
              "      <td>854.690002</td>\n",
              "      <td>854.690002</td>\n",
              "      <td>18343500</td>\n",
              "      <td>35510.820313</td>\n",
              "      <td>37480.187500</td>\n",
              "      <td>35443.984375</td>\n",
              "      <td>37472.089844</td>\n",
              "      <td>37472.089844</td>\n",
              "      <td>6.116682e+10</td>\n",
              "    </tr>\n",
              "    <tr>\n",
              "      <th>1533</th>\n",
              "      <td>2021-02-04</td>\n",
              "      <td>855.000000</td>\n",
              "      <td>856.500000</td>\n",
              "      <td>833.419983</td>\n",
              "      <td>849.989990</td>\n",
              "      <td>849.989990</td>\n",
              "      <td>15812700</td>\n",
              "      <td>37475.105469</td>\n",
              "      <td>38592.175781</td>\n",
              "      <td>36317.500000</td>\n",
              "      <td>36926.066406</td>\n",
              "      <td>36926.066406</td>\n",
              "      <td>6.883807e+10</td>\n",
              "    </tr>\n",
              "    <tr>\n",
              "      <th>1534</th>\n",
              "      <td>2021-02-05</td>\n",
              "      <td>845.000000</td>\n",
              "      <td>864.770020</td>\n",
              "      <td>838.969971</td>\n",
              "      <td>852.229980</td>\n",
              "      <td>852.229980</td>\n",
              "      <td>18524800</td>\n",
              "      <td>36931.546875</td>\n",
              "      <td>38225.906250</td>\n",
              "      <td>36658.761719</td>\n",
              "      <td>38144.308594</td>\n",
              "      <td>38144.308594</td>\n",
              "      <td>5.859807e+10</td>\n",
              "    </tr>\n",
              "    <tr>\n",
              "      <th>1535</th>\n",
              "      <td>2021-02-08</td>\n",
              "      <td>869.669983</td>\n",
              "      <td>877.770020</td>\n",
              "      <td>854.750000</td>\n",
              "      <td>863.419983</td>\n",
              "      <td>863.419983</td>\n",
              "      <td>20079500</td>\n",
              "      <td>38886.828125</td>\n",
              "      <td>46203.929688</td>\n",
              "      <td>38076.324219</td>\n",
              "      <td>46196.464844</td>\n",
              "      <td>46196.464844</td>\n",
              "      <td>1.014672e+11</td>\n",
              "    </tr>\n",
              "  </tbody>\n",
              "</table>\n",
              "<p>1536 rows × 13 columns</p>\n",
              "</div>"
            ],
            "text/plain": [
              "            Date      Open_x  ...   Adj Close_y      Volume_y\n",
              "0     2015-01-02   44.574001  ...    315.032013  7.860650e+06\n",
              "1     2015-01-05   42.910000  ...    274.473999  4.396280e+07\n",
              "2     2015-01-06   42.012001  ...    286.188995  2.324570e+07\n",
              "3     2015-01-07   42.669998  ...    294.337006  2.486680e+07\n",
              "4     2015-01-08   42.562000  ...    283.348999  1.998250e+07\n",
              "...          ...         ...  ...           ...           ...\n",
              "1531  2021-02-02  844.679993  ...  35510.289063  6.308859e+10\n",
              "1532  2021-02-03  877.020020  ...  37472.089844  6.116682e+10\n",
              "1533  2021-02-04  855.000000  ...  36926.066406  6.883807e+10\n",
              "1534  2021-02-05  845.000000  ...  38144.308594  5.859807e+10\n",
              "1535  2021-02-08  869.669983  ...  46196.464844  1.014672e+11\n",
              "\n",
              "[1536 rows x 13 columns]"
            ]
          },
          "metadata": {
            "tags": []
          },
          "execution_count": 90
        }
      ]
    },
    {
      "cell_type": "code",
      "metadata": {
        "colab": {
          "base_uri": "https://localhost:8080/",
          "height": 204
        },
        "id": "bEKycBH008Xe",
        "outputId": "6b6065fb-e0c3-471b-823c-4122dabd3616"
      },
      "source": [
        "df1 = pd.DataFrame({'item1':[1,2,3,4,5],'item2':['a1','b1','c1','d1','e1']})\r\n",
        "df1"
      ],
      "execution_count": 58,
      "outputs": [
        {
          "output_type": "execute_result",
          "data": {
            "text/html": [
              "<div>\n",
              "<style scoped>\n",
              "    .dataframe tbody tr th:only-of-type {\n",
              "        vertical-align: middle;\n",
              "    }\n",
              "\n",
              "    .dataframe tbody tr th {\n",
              "        vertical-align: top;\n",
              "    }\n",
              "\n",
              "    .dataframe thead th {\n",
              "        text-align: right;\n",
              "    }\n",
              "</style>\n",
              "<table border=\"1\" class=\"dataframe\">\n",
              "  <thead>\n",
              "    <tr style=\"text-align: right;\">\n",
              "      <th></th>\n",
              "      <th>item1</th>\n",
              "      <th>item2</th>\n",
              "    </tr>\n",
              "  </thead>\n",
              "  <tbody>\n",
              "    <tr>\n",
              "      <th>0</th>\n",
              "      <td>1</td>\n",
              "      <td>a1</td>\n",
              "    </tr>\n",
              "    <tr>\n",
              "      <th>1</th>\n",
              "      <td>2</td>\n",
              "      <td>b1</td>\n",
              "    </tr>\n",
              "    <tr>\n",
              "      <th>2</th>\n",
              "      <td>3</td>\n",
              "      <td>c1</td>\n",
              "    </tr>\n",
              "    <tr>\n",
              "      <th>3</th>\n",
              "      <td>4</td>\n",
              "      <td>d1</td>\n",
              "    </tr>\n",
              "    <tr>\n",
              "      <th>4</th>\n",
              "      <td>5</td>\n",
              "      <td>e1</td>\n",
              "    </tr>\n",
              "  </tbody>\n",
              "</table>\n",
              "</div>"
            ],
            "text/plain": [
              "   item1 item2\n",
              "0      1    a1\n",
              "1      2    b1\n",
              "2      3    c1\n",
              "3      4    d1\n",
              "4      5    e1"
            ]
          },
          "metadata": {
            "tags": []
          },
          "execution_count": 58
        }
      ]
    },
    {
      "cell_type": "code",
      "metadata": {
        "colab": {
          "base_uri": "https://localhost:8080/",
          "height": 142
        },
        "id": "OMEcSEgU70wh",
        "outputId": "91b36190-beb9-4c2b-a714-761f51a225d3"
      },
      "source": [
        "df2 = pd.DataFrame({'item1':[3,4,5],'item3':['c2','d2','e2']})\r\n",
        "df2"
      ],
      "execution_count": 57,
      "outputs": [
        {
          "output_type": "execute_result",
          "data": {
            "text/html": [
              "<div>\n",
              "<style scoped>\n",
              "    .dataframe tbody tr th:only-of-type {\n",
              "        vertical-align: middle;\n",
              "    }\n",
              "\n",
              "    .dataframe tbody tr th {\n",
              "        vertical-align: top;\n",
              "    }\n",
              "\n",
              "    .dataframe thead th {\n",
              "        text-align: right;\n",
              "    }\n",
              "</style>\n",
              "<table border=\"1\" class=\"dataframe\">\n",
              "  <thead>\n",
              "    <tr style=\"text-align: right;\">\n",
              "      <th></th>\n",
              "      <th>item1</th>\n",
              "      <th>item3</th>\n",
              "    </tr>\n",
              "  </thead>\n",
              "  <tbody>\n",
              "    <tr>\n",
              "      <th>0</th>\n",
              "      <td>3</td>\n",
              "      <td>c2</td>\n",
              "    </tr>\n",
              "    <tr>\n",
              "      <th>1</th>\n",
              "      <td>4</td>\n",
              "      <td>d2</td>\n",
              "    </tr>\n",
              "    <tr>\n",
              "      <th>2</th>\n",
              "      <td>5</td>\n",
              "      <td>e2</td>\n",
              "    </tr>\n",
              "  </tbody>\n",
              "</table>\n",
              "</div>"
            ],
            "text/plain": [
              "   item1 item3\n",
              "0      3    c2\n",
              "1      4    d2\n",
              "2      5    e2"
            ]
          },
          "metadata": {
            "tags": []
          },
          "execution_count": 57
        }
      ]
    },
    {
      "cell_type": "code",
      "metadata": {
        "colab": {
          "base_uri": "https://localhost:8080/",
          "height": 142
        },
        "id": "--VhgEIc8ZWt",
        "outputId": "dbdaa27d-f3f4-4068-b67d-fa1796aeeec2"
      },
      "source": [
        "df3 = pd.merge(df1,df2,on='item1')\r\n",
        "df3\r\n"
      ],
      "execution_count": 59,
      "outputs": [
        {
          "output_type": "execute_result",
          "data": {
            "text/html": [
              "<div>\n",
              "<style scoped>\n",
              "    .dataframe tbody tr th:only-of-type {\n",
              "        vertical-align: middle;\n",
              "    }\n",
              "\n",
              "    .dataframe tbody tr th {\n",
              "        vertical-align: top;\n",
              "    }\n",
              "\n",
              "    .dataframe thead th {\n",
              "        text-align: right;\n",
              "    }\n",
              "</style>\n",
              "<table border=\"1\" class=\"dataframe\">\n",
              "  <thead>\n",
              "    <tr style=\"text-align: right;\">\n",
              "      <th></th>\n",
              "      <th>item1</th>\n",
              "      <th>item2</th>\n",
              "      <th>item3</th>\n",
              "    </tr>\n",
              "  </thead>\n",
              "  <tbody>\n",
              "    <tr>\n",
              "      <th>0</th>\n",
              "      <td>3</td>\n",
              "      <td>c1</td>\n",
              "      <td>c2</td>\n",
              "    </tr>\n",
              "    <tr>\n",
              "      <th>1</th>\n",
              "      <td>4</td>\n",
              "      <td>d1</td>\n",
              "      <td>d2</td>\n",
              "    </tr>\n",
              "    <tr>\n",
              "      <th>2</th>\n",
              "      <td>5</td>\n",
              "      <td>e1</td>\n",
              "      <td>e2</td>\n",
              "    </tr>\n",
              "  </tbody>\n",
              "</table>\n",
              "</div>"
            ],
            "text/plain": [
              "   item1 item2 item3\n",
              "0      3    c1    c2\n",
              "1      4    d1    d2\n",
              "2      5    e1    e2"
            ]
          },
          "metadata": {
            "tags": []
          },
          "execution_count": 59
        }
      ]
    },
    {
      "cell_type": "code",
      "metadata": {
        "id": "tGlnJJD-_RDh"
      },
      "source": [
        "del df3['item3']"
      ],
      "execution_count": 61,
      "outputs": []
    },
    {
      "cell_type": "code",
      "metadata": {
        "colab": {
          "base_uri": "https://localhost:8080/",
          "height": 142
        },
        "id": "UeMG4-1l_80r",
        "outputId": "0c34cb3f-062e-4313-fdb1-3237bbcdd03c"
      },
      "source": [
        "df3"
      ],
      "execution_count": 62,
      "outputs": [
        {
          "output_type": "execute_result",
          "data": {
            "text/html": [
              "<div>\n",
              "<style scoped>\n",
              "    .dataframe tbody tr th:only-of-type {\n",
              "        vertical-align: middle;\n",
              "    }\n",
              "\n",
              "    .dataframe tbody tr th {\n",
              "        vertical-align: top;\n",
              "    }\n",
              "\n",
              "    .dataframe thead th {\n",
              "        text-align: right;\n",
              "    }\n",
              "</style>\n",
              "<table border=\"1\" class=\"dataframe\">\n",
              "  <thead>\n",
              "    <tr style=\"text-align: right;\">\n",
              "      <th></th>\n",
              "      <th>item1</th>\n",
              "      <th>item2</th>\n",
              "    </tr>\n",
              "  </thead>\n",
              "  <tbody>\n",
              "    <tr>\n",
              "      <th>0</th>\n",
              "      <td>3</td>\n",
              "      <td>c1</td>\n",
              "    </tr>\n",
              "    <tr>\n",
              "      <th>1</th>\n",
              "      <td>4</td>\n",
              "      <td>d1</td>\n",
              "    </tr>\n",
              "    <tr>\n",
              "      <th>2</th>\n",
              "      <td>5</td>\n",
              "      <td>e1</td>\n",
              "    </tr>\n",
              "  </tbody>\n",
              "</table>\n",
              "</div>"
            ],
            "text/plain": [
              "   item1 item2\n",
              "0      3    c1\n",
              "1      4    d1\n",
              "2      5    e1"
            ]
          },
          "metadata": {
            "tags": []
          },
          "execution_count": 62
        }
      ]
    },
    {
      "cell_type": "code",
      "metadata": {
        "id": "U7TsO6Dr_-Jl"
      },
      "source": [
        "final_df = final.drop(['Open_x','Open_y','High_x','High_y','Low_x','Low_y','Adj Close_x','Adj Close_y','Volume_x','Volume_y'],axis=1)"
      ],
      "execution_count": 91,
      "outputs": []
    },
    {
      "cell_type": "code",
      "metadata": {
        "id": "GoFVwx0AAZGz"
      },
      "source": [
        "final_df.rename(columns = {'Close_x':'Tesla','Close_y':'BTCUSD'},inplace=True)"
      ],
      "execution_count": 92,
      "outputs": []
    },
    {
      "cell_type": "code",
      "metadata": {
        "colab": {
          "base_uri": "https://localhost:8080/",
          "height": 419
        },
        "id": "GE2jfk9IAuTN",
        "outputId": "c26c23d3-ebc0-4188-b59a-486b26bf75e6"
      },
      "source": [
        "final_df"
      ],
      "execution_count": 93,
      "outputs": [
        {
          "output_type": "execute_result",
          "data": {
            "text/html": [
              "<div>\n",
              "<style scoped>\n",
              "    .dataframe tbody tr th:only-of-type {\n",
              "        vertical-align: middle;\n",
              "    }\n",
              "\n",
              "    .dataframe tbody tr th {\n",
              "        vertical-align: top;\n",
              "    }\n",
              "\n",
              "    .dataframe thead th {\n",
              "        text-align: right;\n",
              "    }\n",
              "</style>\n",
              "<table border=\"1\" class=\"dataframe\">\n",
              "  <thead>\n",
              "    <tr style=\"text-align: right;\">\n",
              "      <th></th>\n",
              "      <th>Date</th>\n",
              "      <th>Tesla</th>\n",
              "      <th>BTCUSD</th>\n",
              "    </tr>\n",
              "  </thead>\n",
              "  <tbody>\n",
              "    <tr>\n",
              "      <th>0</th>\n",
              "      <td>2015-01-02</td>\n",
              "      <td>43.862000</td>\n",
              "      <td>315.032013</td>\n",
              "    </tr>\n",
              "    <tr>\n",
              "      <th>1</th>\n",
              "      <td>2015-01-05</td>\n",
              "      <td>42.018002</td>\n",
              "      <td>274.473999</td>\n",
              "    </tr>\n",
              "    <tr>\n",
              "      <th>2</th>\n",
              "      <td>2015-01-06</td>\n",
              "      <td>42.256001</td>\n",
              "      <td>286.188995</td>\n",
              "    </tr>\n",
              "    <tr>\n",
              "      <th>3</th>\n",
              "      <td>2015-01-07</td>\n",
              "      <td>42.189999</td>\n",
              "      <td>294.337006</td>\n",
              "    </tr>\n",
              "    <tr>\n",
              "      <th>4</th>\n",
              "      <td>2015-01-08</td>\n",
              "      <td>42.124001</td>\n",
              "      <td>283.348999</td>\n",
              "    </tr>\n",
              "    <tr>\n",
              "      <th>...</th>\n",
              "      <td>...</td>\n",
              "      <td>...</td>\n",
              "      <td>...</td>\n",
              "    </tr>\n",
              "    <tr>\n",
              "      <th>1531</th>\n",
              "      <td>2021-02-02</td>\n",
              "      <td>872.789978</td>\n",
              "      <td>35510.289063</td>\n",
              "    </tr>\n",
              "    <tr>\n",
              "      <th>1532</th>\n",
              "      <td>2021-02-03</td>\n",
              "      <td>854.690002</td>\n",
              "      <td>37472.089844</td>\n",
              "    </tr>\n",
              "    <tr>\n",
              "      <th>1533</th>\n",
              "      <td>2021-02-04</td>\n",
              "      <td>849.989990</td>\n",
              "      <td>36926.066406</td>\n",
              "    </tr>\n",
              "    <tr>\n",
              "      <th>1534</th>\n",
              "      <td>2021-02-05</td>\n",
              "      <td>852.229980</td>\n",
              "      <td>38144.308594</td>\n",
              "    </tr>\n",
              "    <tr>\n",
              "      <th>1535</th>\n",
              "      <td>2021-02-08</td>\n",
              "      <td>863.419983</td>\n",
              "      <td>46196.464844</td>\n",
              "    </tr>\n",
              "  </tbody>\n",
              "</table>\n",
              "<p>1536 rows × 3 columns</p>\n",
              "</div>"
            ],
            "text/plain": [
              "            Date       Tesla        BTCUSD\n",
              "0     2015-01-02   43.862000    315.032013\n",
              "1     2015-01-05   42.018002    274.473999\n",
              "2     2015-01-06   42.256001    286.188995\n",
              "3     2015-01-07   42.189999    294.337006\n",
              "4     2015-01-08   42.124001    283.348999\n",
              "...          ...         ...           ...\n",
              "1531  2021-02-02  872.789978  35510.289063\n",
              "1532  2021-02-03  854.690002  37472.089844\n",
              "1533  2021-02-04  849.989990  36926.066406\n",
              "1534  2021-02-05  852.229980  38144.308594\n",
              "1535  2021-02-08  863.419983  46196.464844\n",
              "\n",
              "[1536 rows x 3 columns]"
            ]
          },
          "metadata": {
            "tags": []
          },
          "execution_count": 93
        }
      ]
    },
    {
      "cell_type": "code",
      "metadata": {
        "id": "LO75g7oBByVB"
      },
      "source": [
        "def normalized(df):\r\n",
        "  x = df.copy()\r\n",
        "\r\n",
        "  for i in x.columns[1:]:\r\n",
        "    x[i]=x[i]/x[i][0]\r\n",
        "  return x"
      ],
      "execution_count": 71,
      "outputs": []
    },
    {
      "cell_type": "code",
      "metadata": {
        "id": "9W7e7jC_DdHG"
      },
      "source": [
        "def interactiveplot(df,title):\r\n",
        "  fig = px.line(title=title)\r\n",
        "  for j in df.columns[1:]:\r\n",
        "    fig.add_scatter(x=df['Date'],y=df[j],name=j)\r\n",
        "  fig.show()"
      ],
      "execution_count": 72,
      "outputs": []
    },
    {
      "cell_type": "code",
      "metadata": {
        "colab": {
          "base_uri": "https://localhost:8080/",
          "height": 542
        },
        "id": "hLlynT7zD8yU",
        "outputId": "8ed61afc-029b-4106-8b71-4e299c61bd2c"
      },
      "source": [
        "interactiveplot(normalized(final_df),'Normalized Returns for Tesla and Bitcoin (USD)')"
      ],
      "execution_count": 94,
      "outputs": [
        {
          "output_type": "display_data",
          "data": {
            "text/html": [
              "<html>\n",
              "<head><meta charset=\"utf-8\" /></head>\n",
              "<body>\n",
              "    <div>\n",
              "            <script src=\"https://cdnjs.cloudflare.com/ajax/libs/mathjax/2.7.5/MathJax.js?config=TeX-AMS-MML_SVG\"></script><script type=\"text/javascript\">if (window.MathJax) {MathJax.Hub.Config({SVG: {font: \"STIX-Web\"}});}</script>\n",
              "                <script type=\"text/javascript\">window.PlotlyConfig = {MathJaxConfig: 'local'};</script>\n",
              "        <script src=\"https://cdn.plot.ly/plotly-latest.min.js\"></script>    \n",
              "            <div id=\"af6b2c36-7f45-468d-90ae-a1a602c2e04f\" class=\"plotly-graph-div\" style=\"height:525px; width:100%;\"></div>\n",
              "            <script type=\"text/javascript\">\n",
              "                \n",
              "                    window.PLOTLYENV=window.PLOTLYENV || {};\n",
              "                    \n",
              "                if (document.getElementById(\"af6b2c36-7f45-468d-90ae-a1a602c2e04f\")) {\n",
              "                    Plotly.newPlot(\n",
              "                        'af6b2c36-7f45-468d-90ae-a1a602c2e04f',\n",
              "                        [{\"name\": \"Tesla\", \"type\": \"scatter\", \"x\": [\"2015-01-02\", \"2015-01-05\", \"2015-01-06\", \"2015-01-07\", \"2015-01-08\", \"2015-01-09\", \"2015-01-12\", \"2015-01-13\", \"2015-01-14\", \"2015-01-15\", \"2015-01-16\", \"2015-01-20\", \"2015-01-21\", \"2015-01-22\", \"2015-01-23\", \"2015-01-26\", \"2015-01-27\", \"2015-01-28\", \"2015-01-29\", \"2015-01-30\", \"2015-02-02\", \"2015-02-03\", \"2015-02-04\", \"2015-02-05\", \"2015-02-06\", \"2015-02-09\", \"2015-02-10\", \"2015-02-11\", \"2015-02-12\", \"2015-02-13\", \"2015-02-17\", \"2015-02-18\", \"2015-02-19\", \"2015-02-20\", \"2015-02-23\", \"2015-02-24\", \"2015-02-25\", \"2015-02-26\", \"2015-02-27\", \"2015-03-02\", \"2015-03-03\", \"2015-03-04\", \"2015-03-05\", \"2015-03-06\", \"2015-03-09\", \"2015-03-10\", \"2015-03-11\", \"2015-03-12\", \"2015-03-13\", \"2015-03-16\", \"2015-03-17\", \"2015-03-18\", \"2015-03-19\", \"2015-03-20\", \"2015-03-23\", \"2015-03-24\", \"2015-03-25\", \"2015-03-26\", \"2015-03-27\", \"2015-03-30\", \"2015-03-31\", \"2015-04-01\", \"2015-04-02\", \"2015-04-06\", \"2015-04-07\", \"2015-04-08\", \"2015-04-09\", \"2015-04-10\", \"2015-04-13\", \"2015-04-14\", \"2015-04-15\", \"2015-04-16\", \"2015-04-17\", \"2015-04-20\", \"2015-04-21\", \"2015-04-22\", \"2015-04-23\", \"2015-04-24\", \"2015-04-27\", \"2015-04-28\", \"2015-04-29\", \"2015-04-30\", \"2015-05-01\", \"2015-05-04\", \"2015-05-05\", \"2015-05-06\", \"2015-05-07\", \"2015-05-08\", \"2015-05-11\", \"2015-05-12\", \"2015-05-13\", \"2015-05-14\", \"2015-05-15\", \"2015-05-18\", \"2015-05-19\", \"2015-05-20\", \"2015-05-21\", \"2015-05-22\", \"2015-05-26\", \"2015-05-27\", \"2015-05-28\", \"2015-05-29\", \"2015-06-01\", \"2015-06-02\", \"2015-06-03\", \"2015-06-04\", \"2015-06-05\", \"2015-06-08\", \"2015-06-09\", \"2015-06-10\", \"2015-06-11\", \"2015-06-12\", \"2015-06-15\", \"2015-06-16\", \"2015-06-17\", \"2015-06-18\", \"2015-06-19\", \"2015-06-22\", \"2015-06-23\", \"2015-06-24\", \"2015-06-25\", \"2015-06-26\", \"2015-06-29\", \"2015-06-30\", \"2015-07-01\", \"2015-07-02\", \"2015-07-06\", \"2015-07-07\", \"2015-07-08\", \"2015-07-09\", \"2015-07-10\", \"2015-07-13\", \"2015-07-14\", \"2015-07-15\", \"2015-07-16\", \"2015-07-17\", \"2015-07-20\", \"2015-07-21\", \"2015-07-22\", \"2015-07-23\", \"2015-07-24\", \"2015-07-27\", \"2015-07-28\", \"2015-07-29\", \"2015-07-30\", \"2015-07-31\", \"2015-08-03\", \"2015-08-04\", \"2015-08-05\", \"2015-08-06\", \"2015-08-07\", \"2015-08-10\", \"2015-08-11\", \"2015-08-12\", \"2015-08-13\", \"2015-08-14\", \"2015-08-17\", \"2015-08-18\", \"2015-08-19\", \"2015-08-20\", \"2015-08-21\", \"2015-08-24\", \"2015-08-25\", \"2015-08-26\", \"2015-08-27\", \"2015-08-28\", \"2015-08-31\", \"2015-09-01\", \"2015-09-02\", \"2015-09-03\", \"2015-09-04\", \"2015-09-08\", \"2015-09-09\", \"2015-09-10\", \"2015-09-11\", \"2015-09-14\", \"2015-09-15\", \"2015-09-16\", \"2015-09-17\", \"2015-09-18\", \"2015-09-21\", \"2015-09-22\", \"2015-09-23\", \"2015-09-24\", \"2015-09-25\", \"2015-09-28\", \"2015-09-29\", \"2015-09-30\", \"2015-10-01\", \"2015-10-02\", \"2015-10-05\", \"2015-10-06\", \"2015-10-07\", \"2015-10-08\", \"2015-10-09\", \"2015-10-12\", \"2015-10-13\", \"2015-10-14\", \"2015-10-15\", \"2015-10-16\", \"2015-10-19\", \"2015-10-20\", \"2015-10-21\", \"2015-10-22\", \"2015-10-23\", \"2015-10-26\", \"2015-10-27\", \"2015-10-28\", \"2015-10-29\", \"2015-10-30\", \"2015-11-02\", \"2015-11-03\", \"2015-11-04\", \"2015-11-05\", \"2015-11-06\", \"2015-11-09\", \"2015-11-10\", \"2015-11-11\", \"2015-11-12\", \"2015-11-13\", \"2015-11-16\", \"2015-11-17\", \"2015-11-18\", \"2015-11-19\", \"2015-11-20\", \"2015-11-23\", \"2015-11-24\", \"2015-11-25\", \"2015-11-27\", \"2015-11-30\", \"2015-12-01\", \"2015-12-02\", \"2015-12-03\", \"2015-12-04\", \"2015-12-07\", \"2015-12-08\", \"2015-12-09\", \"2015-12-10\", \"2015-12-11\", \"2015-12-14\", \"2015-12-15\", \"2015-12-16\", \"2015-12-17\", \"2015-12-18\", \"2015-12-21\", \"2015-12-22\", \"2015-12-23\", \"2015-12-24\", \"2015-12-28\", \"2015-12-29\", \"2015-12-30\", \"2015-12-31\", \"2016-01-04\", \"2016-01-05\", \"2016-01-06\", \"2016-01-07\", \"2016-01-08\", \"2016-01-11\", \"2016-01-12\", \"2016-01-13\", \"2016-01-14\", \"2016-01-15\", \"2016-01-19\", \"2016-01-20\", \"2016-01-21\", \"2016-01-22\", \"2016-01-25\", \"2016-01-26\", \"2016-01-27\", \"2016-01-28\", \"2016-01-29\", \"2016-02-01\", \"2016-02-02\", \"2016-02-03\", \"2016-02-04\", \"2016-02-05\", \"2016-02-08\", \"2016-02-09\", \"2016-02-10\", \"2016-02-11\", \"2016-02-12\", \"2016-02-16\", \"2016-02-17\", \"2016-02-18\", \"2016-02-19\", \"2016-02-22\", \"2016-02-23\", \"2016-02-24\", \"2016-02-25\", \"2016-02-26\", \"2016-02-29\", \"2016-03-01\", \"2016-03-02\", \"2016-03-03\", \"2016-03-04\", \"2016-03-07\", \"2016-03-08\", \"2016-03-09\", \"2016-03-10\", \"2016-03-11\", \"2016-03-14\", \"2016-03-15\", \"2016-03-16\", \"2016-03-17\", \"2016-03-18\", \"2016-03-21\", \"2016-03-22\", \"2016-03-23\", \"2016-03-24\", \"2016-03-28\", \"2016-03-29\", \"2016-03-30\", \"2016-03-31\", \"2016-04-01\", \"2016-04-04\", \"2016-04-05\", \"2016-04-06\", \"2016-04-07\", \"2016-04-08\", \"2016-04-11\", \"2016-04-12\", \"2016-04-13\", \"2016-04-14\", \"2016-04-15\", \"2016-04-18\", \"2016-04-19\", \"2016-04-20\", \"2016-04-21\", \"2016-04-22\", \"2016-04-25\", \"2016-04-26\", \"2016-04-27\", \"2016-04-28\", \"2016-04-29\", \"2016-05-02\", \"2016-05-03\", \"2016-05-04\", \"2016-05-05\", \"2016-05-06\", \"2016-05-09\", \"2016-05-10\", \"2016-05-11\", \"2016-05-12\", \"2016-05-13\", \"2016-05-16\", \"2016-05-17\", \"2016-05-18\", \"2016-05-19\", \"2016-05-20\", \"2016-05-23\", \"2016-05-24\", \"2016-05-25\", \"2016-05-26\", \"2016-05-27\", \"2016-05-31\", \"2016-06-01\", \"2016-06-02\", \"2016-06-03\", \"2016-06-06\", \"2016-06-07\", \"2016-06-08\", \"2016-06-09\", \"2016-06-10\", \"2016-06-13\", \"2016-06-14\", \"2016-06-15\", \"2016-06-16\", \"2016-06-17\", \"2016-06-20\", \"2016-06-21\", \"2016-06-22\", \"2016-06-23\", \"2016-06-24\", \"2016-06-27\", \"2016-06-28\", \"2016-06-29\", \"2016-06-30\", \"2016-07-01\", \"2016-07-05\", \"2016-07-06\", \"2016-07-07\", \"2016-07-08\", \"2016-07-11\", \"2016-07-12\", \"2016-07-13\", \"2016-07-14\", \"2016-07-15\", \"2016-07-18\", \"2016-07-19\", \"2016-07-20\", \"2016-07-21\", \"2016-07-22\", \"2016-07-25\", \"2016-07-26\", \"2016-07-27\", \"2016-07-28\", \"2016-07-29\", \"2016-08-01\", \"2016-08-02\", \"2016-08-03\", \"2016-08-04\", \"2016-08-05\", \"2016-08-08\", \"2016-08-09\", \"2016-08-10\", \"2016-08-11\", \"2016-08-12\", \"2016-08-15\", \"2016-08-16\", \"2016-08-17\", \"2016-08-18\", \"2016-08-19\", \"2016-08-22\", \"2016-08-23\", \"2016-08-24\", \"2016-08-25\", \"2016-08-26\", \"2016-08-29\", \"2016-08-30\", \"2016-08-31\", \"2016-09-01\", \"2016-09-02\", \"2016-09-06\", \"2016-09-07\", \"2016-09-08\", \"2016-09-09\", \"2016-09-12\", \"2016-09-13\", \"2016-09-14\", \"2016-09-15\", \"2016-09-16\", \"2016-09-19\", \"2016-09-20\", \"2016-09-21\", \"2016-09-22\", \"2016-09-23\", \"2016-09-26\", \"2016-09-27\", \"2016-09-28\", \"2016-09-29\", \"2016-09-30\", \"2016-10-03\", \"2016-10-04\", \"2016-10-05\", \"2016-10-06\", \"2016-10-07\", \"2016-10-10\", \"2016-10-11\", \"2016-10-12\", \"2016-10-13\", \"2016-10-14\", \"2016-10-17\", \"2016-10-18\", \"2016-10-19\", \"2016-10-20\", \"2016-10-21\", \"2016-10-24\", \"2016-10-25\", \"2016-10-26\", \"2016-10-27\", \"2016-10-28\", \"2016-10-31\", \"2016-11-01\", \"2016-11-02\", \"2016-11-03\", \"2016-11-04\", \"2016-11-07\", \"2016-11-08\", \"2016-11-09\", \"2016-11-10\", \"2016-11-11\", \"2016-11-14\", \"2016-11-15\", \"2016-11-16\", \"2016-11-17\", \"2016-11-18\", \"2016-11-21\", \"2016-11-22\", \"2016-11-23\", \"2016-11-25\", \"2016-11-28\", \"2016-11-29\", \"2016-11-30\", \"2016-12-01\", \"2016-12-02\", \"2016-12-05\", \"2016-12-06\", \"2016-12-07\", \"2016-12-08\", \"2016-12-09\", \"2016-12-12\", \"2016-12-13\", \"2016-12-14\", \"2016-12-15\", \"2016-12-16\", \"2016-12-19\", \"2016-12-20\", \"2016-12-21\", \"2016-12-22\", \"2016-12-23\", \"2016-12-27\", \"2016-12-28\", \"2016-12-29\", \"2016-12-30\", \"2017-01-03\", \"2017-01-04\", \"2017-01-05\", \"2017-01-06\", \"2017-01-09\", \"2017-01-10\", \"2017-01-11\", \"2017-01-12\", \"2017-01-13\", \"2017-01-17\", \"2017-01-18\", \"2017-01-19\", \"2017-01-20\", \"2017-01-23\", \"2017-01-24\", \"2017-01-25\", \"2017-01-26\", \"2017-01-27\", \"2017-01-30\", \"2017-01-31\", \"2017-02-01\", \"2017-02-02\", \"2017-02-03\", \"2017-02-06\", \"2017-02-07\", \"2017-02-08\", \"2017-02-09\", \"2017-02-10\", \"2017-02-13\", \"2017-02-14\", \"2017-02-15\", \"2017-02-16\", \"2017-02-17\", \"2017-02-21\", \"2017-02-22\", \"2017-02-23\", \"2017-02-24\", \"2017-02-27\", \"2017-02-28\", \"2017-03-01\", \"2017-03-02\", \"2017-03-03\", \"2017-03-06\", \"2017-03-07\", \"2017-03-08\", \"2017-03-09\", \"2017-03-10\", \"2017-03-13\", \"2017-03-14\", \"2017-03-15\", \"2017-03-16\", \"2017-03-17\", \"2017-03-20\", \"2017-03-21\", \"2017-03-22\", \"2017-03-23\", \"2017-03-24\", \"2017-03-27\", \"2017-03-28\", \"2017-03-29\", \"2017-03-30\", \"2017-03-31\", \"2017-04-03\", \"2017-04-04\", \"2017-04-05\", \"2017-04-06\", \"2017-04-07\", \"2017-04-10\", \"2017-04-11\", \"2017-04-12\", \"2017-04-13\", \"2017-04-17\", \"2017-04-18\", \"2017-04-19\", \"2017-04-20\", \"2017-04-21\", \"2017-04-24\", \"2017-04-25\", \"2017-04-26\", \"2017-04-27\", \"2017-04-28\", \"2017-05-01\", \"2017-05-02\", \"2017-05-03\", \"2017-05-04\", \"2017-05-05\", \"2017-05-08\", \"2017-05-09\", \"2017-05-10\", \"2017-05-11\", \"2017-05-12\", \"2017-05-15\", \"2017-05-16\", \"2017-05-17\", \"2017-05-18\", \"2017-05-19\", \"2017-05-22\", \"2017-05-23\", \"2017-05-24\", \"2017-05-25\", \"2017-05-26\", \"2017-05-30\", \"2017-05-31\", \"2017-06-01\", \"2017-06-02\", \"2017-06-05\", \"2017-06-06\", \"2017-06-07\", \"2017-06-08\", \"2017-06-09\", \"2017-06-12\", \"2017-06-13\", \"2017-06-14\", \"2017-06-15\", \"2017-06-16\", \"2017-06-19\", \"2017-06-20\", \"2017-06-21\", \"2017-06-22\", \"2017-06-23\", \"2017-06-26\", \"2017-06-27\", \"2017-06-28\", \"2017-06-29\", \"2017-06-30\", \"2017-07-03\", \"2017-07-05\", \"2017-07-06\", \"2017-07-07\", \"2017-07-10\", \"2017-07-11\", \"2017-07-12\", \"2017-07-13\", \"2017-07-14\", \"2017-07-17\", \"2017-07-18\", \"2017-07-19\", \"2017-07-20\", \"2017-07-21\", \"2017-07-24\", \"2017-07-25\", \"2017-07-26\", \"2017-07-27\", \"2017-07-28\", \"2017-07-31\", \"2017-08-01\", \"2017-08-02\", \"2017-08-03\", \"2017-08-04\", \"2017-08-07\", \"2017-08-08\", \"2017-08-09\", \"2017-08-10\", \"2017-08-11\", \"2017-08-14\", \"2017-08-15\", \"2017-08-16\", \"2017-08-17\", \"2017-08-18\", \"2017-08-21\", \"2017-08-22\", \"2017-08-23\", \"2017-08-24\", \"2017-08-25\", \"2017-08-28\", \"2017-08-29\", \"2017-08-30\", \"2017-08-31\", \"2017-09-01\", \"2017-09-05\", \"2017-09-06\", \"2017-09-07\", \"2017-09-08\", \"2017-09-11\", \"2017-09-12\", \"2017-09-13\", \"2017-09-14\", \"2017-09-15\", \"2017-09-18\", \"2017-09-19\", \"2017-09-20\", \"2017-09-21\", \"2017-09-22\", \"2017-09-25\", \"2017-09-26\", \"2017-09-27\", \"2017-09-28\", \"2017-09-29\", \"2017-10-02\", \"2017-10-03\", \"2017-10-04\", \"2017-10-05\", \"2017-10-06\", \"2017-10-09\", \"2017-10-10\", \"2017-10-11\", \"2017-10-12\", \"2017-10-13\", \"2017-10-16\", \"2017-10-17\", \"2017-10-18\", \"2017-10-19\", \"2017-10-20\", \"2017-10-23\", \"2017-10-24\", \"2017-10-25\", \"2017-10-26\", \"2017-10-27\", \"2017-10-30\", \"2017-10-31\", \"2017-11-01\", \"2017-11-02\", \"2017-11-03\", \"2017-11-06\", \"2017-11-07\", \"2017-11-08\", \"2017-11-09\", \"2017-11-10\", \"2017-11-13\", \"2017-11-14\", \"2017-11-15\", \"2017-11-16\", \"2017-11-17\", \"2017-11-20\", \"2017-11-21\", \"2017-11-22\", \"2017-11-24\", \"2017-11-27\", \"2017-11-28\", \"2017-11-29\", \"2017-11-30\", \"2017-12-01\", \"2017-12-04\", \"2017-12-05\", \"2017-12-06\", \"2017-12-07\", \"2017-12-08\", \"2017-12-11\", \"2017-12-12\", \"2017-12-13\", \"2017-12-14\", \"2017-12-15\", \"2017-12-18\", \"2017-12-19\", \"2017-12-20\", \"2017-12-21\", \"2017-12-22\", \"2017-12-26\", \"2017-12-27\", \"2017-12-28\", \"2017-12-29\", \"2018-01-02\", \"2018-01-03\", \"2018-01-04\", \"2018-01-05\", \"2018-01-08\", \"2018-01-09\", \"2018-01-10\", \"2018-01-11\", \"2018-01-12\", \"2018-01-16\", \"2018-01-17\", \"2018-01-18\", \"2018-01-19\", \"2018-01-22\", \"2018-01-23\", \"2018-01-24\", \"2018-01-25\", \"2018-01-26\", \"2018-01-29\", \"2018-01-30\", \"2018-01-31\", \"2018-02-01\", \"2018-02-02\", \"2018-02-05\", \"2018-02-06\", \"2018-02-07\", \"2018-02-08\", \"2018-02-09\", \"2018-02-12\", \"2018-02-13\", \"2018-02-14\", \"2018-02-15\", \"2018-02-16\", \"2018-02-20\", \"2018-02-21\", \"2018-02-22\", \"2018-02-23\", \"2018-02-26\", \"2018-02-27\", \"2018-02-28\", \"2018-03-01\", \"2018-03-02\", \"2018-03-05\", \"2018-03-06\", \"2018-03-07\", \"2018-03-08\", \"2018-03-09\", \"2018-03-12\", \"2018-03-13\", \"2018-03-14\", \"2018-03-15\", \"2018-03-16\", \"2018-03-19\", \"2018-03-20\", \"2018-03-21\", \"2018-03-22\", \"2018-03-23\", \"2018-03-26\", \"2018-03-27\", \"2018-03-28\", \"2018-03-29\", \"2018-04-02\", \"2018-04-03\", \"2018-04-04\", \"2018-04-05\", \"2018-04-06\", \"2018-04-09\", \"2018-04-10\", \"2018-04-11\", \"2018-04-12\", \"2018-04-13\", \"2018-04-16\", \"2018-04-17\", \"2018-04-18\", \"2018-04-19\", \"2018-04-20\", \"2018-04-23\", \"2018-04-24\", \"2018-04-25\", \"2018-04-26\", \"2018-04-27\", \"2018-04-30\", \"2018-05-01\", \"2018-05-02\", \"2018-05-03\", \"2018-05-04\", \"2018-05-07\", \"2018-05-08\", \"2018-05-09\", \"2018-05-10\", \"2018-05-11\", \"2018-05-14\", \"2018-05-15\", \"2018-05-16\", \"2018-05-17\", \"2018-05-18\", \"2018-05-21\", \"2018-05-22\", \"2018-05-23\", \"2018-05-24\", \"2018-05-25\", \"2018-05-29\", \"2018-05-30\", \"2018-05-31\", \"2018-06-01\", \"2018-06-04\", \"2018-06-05\", \"2018-06-06\", \"2018-06-07\", \"2018-06-08\", \"2018-06-11\", \"2018-06-12\", \"2018-06-13\", \"2018-06-14\", \"2018-06-15\", \"2018-06-18\", \"2018-06-19\", \"2018-06-20\", \"2018-06-21\", \"2018-06-22\", \"2018-06-25\", \"2018-06-26\", \"2018-06-27\", \"2018-06-28\", \"2018-06-29\", \"2018-07-02\", \"2018-07-03\", \"2018-07-05\", \"2018-07-06\", \"2018-07-09\", \"2018-07-10\", \"2018-07-11\", \"2018-07-12\", \"2018-07-13\", \"2018-07-16\", \"2018-07-17\", \"2018-07-18\", \"2018-07-19\", \"2018-07-20\", \"2018-07-23\", \"2018-07-24\", \"2018-07-25\", \"2018-07-26\", \"2018-07-27\", \"2018-07-30\", \"2018-07-31\", \"2018-08-01\", \"2018-08-02\", \"2018-08-03\", \"2018-08-06\", \"2018-08-07\", \"2018-08-08\", \"2018-08-09\", \"2018-08-10\", \"2018-08-13\", \"2018-08-14\", \"2018-08-15\", \"2018-08-16\", \"2018-08-17\", \"2018-08-20\", \"2018-08-21\", \"2018-08-22\", \"2018-08-23\", \"2018-08-24\", \"2018-08-27\", \"2018-08-28\", \"2018-08-29\", \"2018-08-30\", \"2018-08-31\", \"2018-09-04\", \"2018-09-05\", \"2018-09-06\", \"2018-09-07\", \"2018-09-10\", \"2018-09-11\", \"2018-09-12\", \"2018-09-13\", \"2018-09-14\", \"2018-09-17\", \"2018-09-18\", \"2018-09-19\", \"2018-09-20\", \"2018-09-21\", \"2018-09-24\", \"2018-09-25\", \"2018-09-26\", \"2018-09-27\", \"2018-09-28\", \"2018-10-01\", \"2018-10-02\", \"2018-10-03\", \"2018-10-04\", \"2018-10-05\", \"2018-10-08\", \"2018-10-09\", \"2018-10-10\", \"2018-10-11\", \"2018-10-12\", \"2018-10-15\", \"2018-10-16\", \"2018-10-17\", \"2018-10-18\", \"2018-10-19\", \"2018-10-22\", \"2018-10-23\", \"2018-10-24\", \"2018-10-25\", \"2018-10-26\", \"2018-10-29\", \"2018-10-30\", \"2018-10-31\", \"2018-11-01\", \"2018-11-02\", \"2018-11-05\", \"2018-11-06\", \"2018-11-07\", \"2018-11-08\", \"2018-11-09\", \"2018-11-12\", \"2018-11-13\", \"2018-11-14\", \"2018-11-15\", \"2018-11-16\", \"2018-11-19\", \"2018-11-20\", \"2018-11-21\", \"2018-11-23\", \"2018-11-26\", \"2018-11-27\", \"2018-11-28\", \"2018-11-29\", \"2018-11-30\", \"2018-12-03\", \"2018-12-04\", \"2018-12-06\", \"2018-12-07\", \"2018-12-10\", \"2018-12-11\", \"2018-12-12\", \"2018-12-13\", \"2018-12-14\", \"2018-12-17\", \"2018-12-18\", \"2018-12-19\", \"2018-12-20\", \"2018-12-21\", \"2018-12-24\", \"2018-12-26\", \"2018-12-27\", \"2018-12-28\", \"2018-12-31\", \"2019-01-02\", \"2019-01-03\", \"2019-01-04\", \"2019-01-07\", \"2019-01-08\", \"2019-01-09\", \"2019-01-10\", \"2019-01-11\", \"2019-01-14\", \"2019-01-15\", \"2019-01-16\", \"2019-01-17\", \"2019-01-18\", \"2019-01-22\", \"2019-01-23\", \"2019-01-24\", \"2019-01-25\", \"2019-01-28\", \"2019-01-29\", \"2019-01-30\", \"2019-01-31\", \"2019-02-01\", \"2019-02-04\", \"2019-02-05\", \"2019-02-06\", \"2019-02-07\", \"2019-02-08\", \"2019-02-11\", \"2019-02-12\", \"2019-02-13\", \"2019-02-14\", \"2019-02-15\", \"2019-02-19\", \"2019-02-20\", \"2019-02-21\", \"2019-02-22\", \"2019-02-25\", \"2019-02-26\", \"2019-02-27\", \"2019-02-28\", \"2019-03-01\", \"2019-03-04\", \"2019-03-05\", \"2019-03-06\", \"2019-03-07\", \"2019-03-08\", \"2019-03-11\", \"2019-03-12\", \"2019-03-13\", \"2019-03-14\", \"2019-03-15\", \"2019-03-18\", \"2019-03-19\", \"2019-03-20\", \"2019-03-21\", \"2019-03-22\", \"2019-03-25\", \"2019-03-26\", \"2019-03-27\", \"2019-03-28\", \"2019-03-29\", \"2019-04-01\", \"2019-04-02\", \"2019-04-03\", \"2019-04-04\", \"2019-04-05\", \"2019-04-08\", \"2019-04-09\", \"2019-04-10\", \"2019-04-11\", \"2019-04-12\", \"2019-04-15\", \"2019-04-16\", \"2019-04-17\", \"2019-04-18\", \"2019-04-22\", \"2019-04-23\", \"2019-04-24\", \"2019-04-25\", \"2019-04-26\", \"2019-04-29\", \"2019-04-30\", \"2019-05-01\", \"2019-05-02\", \"2019-05-03\", \"2019-05-06\", \"2019-05-07\", \"2019-05-08\", \"2019-05-09\", \"2019-05-10\", \"2019-05-13\", \"2019-05-14\", \"2019-05-15\", \"2019-05-16\", \"2019-05-17\", \"2019-05-20\", \"2019-05-21\", \"2019-05-22\", \"2019-05-23\", \"2019-05-24\", \"2019-05-28\", \"2019-05-29\", \"2019-05-30\", \"2019-05-31\", \"2019-06-03\", \"2019-06-04\", \"2019-06-05\", \"2019-06-06\", \"2019-06-07\", \"2019-06-10\", \"2019-06-11\", \"2019-06-12\", \"2019-06-13\", \"2019-06-14\", \"2019-06-17\", \"2019-06-18\", \"2019-06-19\", \"2019-06-20\", \"2019-06-21\", \"2019-06-24\", \"2019-06-25\", \"2019-06-26\", \"2019-06-27\", \"2019-06-28\", \"2019-07-01\", \"2019-07-02\", \"2019-07-03\", \"2019-07-05\", \"2019-07-08\", \"2019-07-09\", \"2019-07-10\", \"2019-07-11\", \"2019-07-12\", \"2019-07-15\", \"2019-07-16\", \"2019-07-17\", \"2019-07-18\", \"2019-07-19\", \"2019-07-22\", \"2019-07-23\", \"2019-07-24\", \"2019-07-25\", \"2019-07-26\", \"2019-07-29\", \"2019-07-30\", \"2019-07-31\", \"2019-08-01\", \"2019-08-02\", \"2019-08-05\", \"2019-08-06\", \"2019-08-07\", \"2019-08-08\", \"2019-08-09\", \"2019-08-12\", \"2019-08-13\", \"2019-08-14\", \"2019-08-15\", \"2019-08-16\", \"2019-08-19\", \"2019-08-20\", \"2019-08-21\", \"2019-08-22\", \"2019-08-23\", \"2019-08-26\", \"2019-08-27\", \"2019-08-28\", \"2019-08-29\", \"2019-08-30\", \"2019-09-03\", \"2019-09-04\", \"2019-09-05\", \"2019-09-06\", \"2019-09-09\", \"2019-09-10\", \"2019-09-11\", \"2019-09-12\", \"2019-09-13\", \"2019-09-16\", \"2019-09-17\", \"2019-09-18\", \"2019-09-19\", \"2019-09-20\", \"2019-09-23\", \"2019-09-24\", \"2019-09-25\", \"2019-09-26\", \"2019-09-27\", \"2019-09-30\", \"2019-10-01\", \"2019-10-02\", \"2019-10-03\", \"2019-10-04\", \"2019-10-07\", \"2019-10-08\", \"2019-10-09\", \"2019-10-10\", \"2019-10-11\", \"2019-10-14\", \"2019-10-15\", \"2019-10-16\", \"2019-10-17\", \"2019-10-18\", \"2019-10-21\", \"2019-10-22\", \"2019-10-23\", \"2019-10-24\", \"2019-10-25\", \"2019-10-28\", \"2019-10-29\", \"2019-10-30\", \"2019-10-31\", \"2019-11-01\", \"2019-11-04\", \"2019-11-05\", \"2019-11-06\", \"2019-11-07\", \"2019-11-08\", \"2019-11-11\", \"2019-11-12\", \"2019-11-13\", \"2019-11-14\", \"2019-11-15\", \"2019-11-18\", \"2019-11-19\", \"2019-11-20\", \"2019-11-21\", \"2019-11-22\", \"2019-11-25\", \"2019-11-26\", \"2019-11-27\", \"2019-11-29\", \"2019-12-02\", \"2019-12-03\", \"2019-12-04\", \"2019-12-05\", \"2019-12-06\", \"2019-12-09\", \"2019-12-10\", \"2019-12-11\", \"2019-12-12\", \"2019-12-13\", \"2019-12-16\", \"2019-12-17\", \"2019-12-18\", \"2019-12-19\", \"2019-12-20\", \"2019-12-23\", \"2019-12-24\", \"2019-12-26\", \"2019-12-27\", \"2019-12-30\", \"2019-12-31\", \"2020-01-02\", \"2020-01-03\", \"2020-01-06\", \"2020-01-07\", \"2020-01-08\", \"2020-01-09\", \"2020-01-10\", \"2020-01-13\", \"2020-01-14\", \"2020-01-15\", \"2020-01-16\", \"2020-01-17\", \"2020-01-21\", \"2020-01-22\", \"2020-01-23\", \"2020-01-24\", \"2020-01-27\", \"2020-01-28\", \"2020-01-29\", \"2020-01-30\", \"2020-01-31\", \"2020-02-03\", \"2020-02-04\", \"2020-02-05\", \"2020-02-06\", \"2020-02-07\", \"2020-02-10\", \"2020-02-11\", \"2020-02-12\", \"2020-02-13\", \"2020-02-14\", \"2020-02-18\", \"2020-02-19\", \"2020-02-20\", \"2020-02-21\", \"2020-02-24\", \"2020-02-25\", \"2020-02-26\", \"2020-02-27\", \"2020-02-28\", \"2020-03-02\", \"2020-03-03\", \"2020-03-04\", \"2020-03-05\", \"2020-03-06\", \"2020-03-09\", \"2020-03-10\", \"2020-03-11\", \"2020-03-12\", \"2020-03-13\", \"2020-03-16\", \"2020-03-17\", \"2020-03-18\", \"2020-03-19\", \"2020-03-20\", \"2020-03-23\", \"2020-03-24\", \"2020-03-25\", \"2020-03-26\", \"2020-03-27\", \"2020-03-30\", \"2020-03-31\", \"2020-04-01\", \"2020-04-02\", \"2020-04-03\", \"2020-04-06\", \"2020-04-07\", \"2020-04-08\", \"2020-04-09\", \"2020-04-13\", \"2020-04-14\", \"2020-04-15\", \"2020-04-16\", \"2020-04-17\", \"2020-04-20\", \"2020-04-21\", \"2020-04-22\", \"2020-04-23\", \"2020-04-24\", \"2020-04-27\", \"2020-04-28\", \"2020-04-29\", \"2020-04-30\", \"2020-05-01\", \"2020-05-04\", \"2020-05-05\", \"2020-05-06\", \"2020-05-07\", \"2020-05-08\", \"2020-05-11\", \"2020-05-12\", \"2020-05-13\", \"2020-05-14\", \"2020-05-15\", \"2020-05-18\", \"2020-05-19\", \"2020-05-20\", \"2020-05-21\", \"2020-05-22\", \"2020-05-26\", \"2020-05-27\", \"2020-05-28\", \"2020-05-29\", \"2020-06-01\", \"2020-06-02\", \"2020-06-03\", \"2020-06-04\", \"2020-06-05\", \"2020-06-08\", \"2020-06-09\", \"2020-06-10\", \"2020-06-11\", \"2020-06-12\", \"2020-06-15\", \"2020-06-16\", \"2020-06-17\", \"2020-06-18\", \"2020-06-19\", \"2020-06-22\", \"2020-06-23\", \"2020-06-24\", \"2020-06-25\", \"2020-06-26\", \"2020-06-29\", \"2020-06-30\", \"2020-07-01\", \"2020-07-02\", \"2020-07-06\", \"2020-07-07\", \"2020-07-08\", \"2020-07-09\", \"2020-07-10\", \"2020-07-13\", \"2020-07-14\", \"2020-07-15\", \"2020-07-16\", \"2020-07-17\", \"2020-07-20\", \"2020-07-21\", \"2020-07-22\", \"2020-07-23\", \"2020-07-24\", \"2020-07-27\", \"2020-07-28\", \"2020-07-29\", \"2020-07-30\", \"2020-07-31\", \"2020-08-03\", \"2020-08-04\", \"2020-08-05\", \"2020-08-06\", \"2020-08-07\", \"2020-08-10\", \"2020-08-11\", \"2020-08-12\", \"2020-08-13\", \"2020-08-14\", \"2020-08-17\", \"2020-08-18\", \"2020-08-19\", \"2020-08-20\", \"2020-08-21\", \"2020-08-24\", \"2020-08-25\", \"2020-08-26\", \"2020-08-27\", \"2020-08-28\", \"2020-08-31\", \"2020-09-01\", \"2020-09-02\", \"2020-09-03\", \"2020-09-04\", \"2020-09-08\", \"2020-09-09\", \"2020-09-10\", \"2020-09-11\", \"2020-09-14\", \"2020-09-15\", \"2020-09-16\", \"2020-09-17\", \"2020-09-18\", \"2020-09-21\", \"2020-09-22\", \"2020-09-23\", \"2020-09-24\", \"2020-09-25\", \"2020-09-28\", \"2020-09-29\", \"2020-09-30\", \"2020-10-01\", \"2020-10-02\", \"2020-10-05\", \"2020-10-06\", \"2020-10-07\", \"2020-10-08\", \"2020-10-09\", \"2020-10-12\", \"2020-10-13\", \"2020-10-14\", \"2020-10-15\", \"2020-10-16\", \"2020-10-19\", \"2020-10-20\", \"2020-10-21\", \"2020-10-22\", \"2020-10-23\", \"2020-10-26\", \"2020-10-27\", \"2020-10-28\", \"2020-10-29\", \"2020-10-30\", \"2020-11-02\", \"2020-11-03\", \"2020-11-04\", \"2020-11-05\", \"2020-11-06\", \"2020-11-09\", \"2020-11-10\", \"2020-11-11\", \"2020-11-12\", \"2020-11-13\", \"2020-11-16\", \"2020-11-17\", \"2020-11-18\", \"2020-11-19\", \"2020-11-20\", \"2020-11-23\", \"2020-11-24\", \"2020-11-25\", \"2020-11-27\", \"2020-11-30\", \"2020-12-01\", \"2020-12-02\", \"2020-12-03\", \"2020-12-04\", \"2020-12-07\", \"2020-12-08\", \"2020-12-09\", \"2020-12-10\", \"2020-12-11\", \"2020-12-14\", \"2020-12-15\", \"2020-12-16\", \"2020-12-17\", \"2020-12-18\", \"2020-12-21\", \"2020-12-22\", \"2020-12-23\", \"2020-12-24\", \"2020-12-28\", \"2020-12-29\", \"2020-12-30\", \"2020-12-31\", \"2021-01-04\", \"2021-01-05\", \"2021-01-06\", \"2021-01-07\", \"2021-01-08\", \"2021-01-11\", \"2021-01-12\", \"2021-01-13\", \"2021-01-14\", \"2021-01-15\", \"2021-01-19\", \"2021-01-20\", \"2021-01-21\", \"2021-01-22\", \"2021-01-25\", \"2021-01-26\", \"2021-01-27\", \"2021-01-28\", \"2021-01-29\", \"2021-02-01\", \"2021-02-02\", \"2021-02-03\", \"2021-02-04\", \"2021-02-05\", \"2021-02-08\"], \"y\": [1.0, 0.957959098992294, 0.9633851853540649, 0.961880420409466, 0.9603757466599789, 0.942319114495463, 0.922028202088368, 0.931330035110118, 0.878619260407642, 0.8748803292143541, 0.88035196753454, 0.8751539373489582, 0.8963111349231682, 0.9193379462860791, 0.9178331813414801, 0.941817541379782, 0.9392184350918791, 0.9090784961926041, 0.935661871323697, 0.9283662623683371, 0.9618348456522731, 0.995668254981533, 0.9965345629474259, 1.007660435000684, 0.991108476585655, 0.991655601659751, 0.98622951529798, 0.970316013861657, 0.925083215539647, 0.929141443618622, 0.931786033468606, 0.9322875837855091, 0.9653458346632621, 0.989968560485158, 0.945419702703935, 0.930691692125302, 0.929095777666317, 0.944735762163148, 0.9271806803155351, 0.8997765719757421, 0.9099448041584971, 0.9230769002781452, 0.9148237426473941, 0.8840454379645251, 0.8703661255756691, 0.8678126624412932, 0.8834070721809311, 0.8712325247366741, 0.8603346860608271, 0.892344147553691, 0.8879211846245041, 0.9151885002963841, 0.892116205371392, 0.9031964114723452, 0.910263987050294, 0.9197939446445671, 0.8859605353153072, 0.868223086042588, 0.8435547854634992, 0.86895257854179, 0.860745109662122, 0.8553645980575442, 0.8709133418448771, 0.926086338972231, 0.9267703707081301, 0.946924444849756, 0.957959098992294, 0.961652455428389, 0.956545551958415, 0.945966918973143, 0.9476540513428481, 0.942501481920569, 0.942911905521864, 0.935981054215494, 0.95485841958871, 1.000592768227623, 0.996762596324837, 0.9959874378733299, 1.055811431307282, 1.050932492818385, 1.05991523414345, 1.0307327299256759, 1.0306415804112898, 1.051069285486298, 1.062195066344444, 1.050704459440974, 1.079750148192057, 1.0788837490310519, 1.0920158451506998, 1.1159546304318089, 1.108841411700333, 1.113036341252109, 1.1346496283799188, 1.1342392047786238, 1.1268980210660708, 1.114176257352606, 1.1199671925584789, 1.1295882768683598, 1.1283571428571428, 1.1282203273904519, 1.146550567689572, 1.1435867037526788, 1.1374310108978158, 1.1324152569422279, 1.1353335461219278, 1.1213350508412747, 1.1360174866627148, 1.1686197391819797, 1.1672974556563769, 1.1431307053941908, 1.1463681774656878, 1.1430851306369978, 1.1416716064018968, 1.1541653595367287, 1.1874059778395878, 1.1941543477269618, 1.1969814189959418, 1.1845789065706078, 1.2205097806757557, 1.2091103916830057, 1.2256166841457297, 1.2178650996306597, 1.1947471387533628, 1.2232000364780446, 1.2272582645570198, 1.2768228078974966, 1.2754548356208106, 1.2214673293511467, 1.162555309835393, 1.1760521636040309, 1.1816607085860198, 1.1953855045369568, 1.2112990971683917, 1.1998540422233368, 1.2159955998358487, 1.2523824495007068, 1.2870366148374446, 1.2164060006383657, 1.2214217545939539, 1.2183666727463407, 1.2102047558250877, 1.1536637864210477, 1.2075145000227987, 1.2029547216269207, 1.2164972413478636, 1.2135789521681637, 1.1854908804888058, 1.2141717431945647, 1.2317268022433998, 1.1222926907117778, 1.1057863070539418, 1.0995394874834707, 1.0823491632848479, 1.0859969677625279, 1.1057863070539418, 1.108704596233642, 1.162692102503306, 1.1888195020746888, 1.1638775933609957, 1.1042816333044547, 1.0522547763439878, 0.99799366193972, 1.00328304682869, 1.025215425653185, 1.1079750125393277, 1.1330080479686289, 1.1356527290137248, 1.0880945237335278, 1.1294058182481417, 1.1197391363822897, 1.103141717203958, 1.1315945237335276, 1.1349687884729378, 1.1330080479686289, 1.1410332406183028, 1.1544845196297477, 1.156217249555424, 1.1957959281382518, 1.1949751721307738, 1.1883635265149788, 1.2046874287538187, 1.1898226255072728, 1.1903698417764808, 1.1997629155077287, 1.1714468104509597, 1.1327801057863298, 1.1246637636222698, 1.1326432903196388, 1.0937942182299027, 1.1288586931740459, 1.1223838402261637, 1.100998586475765, 1.057680862705759, 1.033787834572067, 1.006292462723998, 0.982992134421595, 0.9997263690666179, 0.988919771100269, 1.009119533992978, 1.0351101180976698, 1.0400802288997308, 0.9713647120514339, 0.957959098992294, 0.965391500615567, 0.9533993205964161, 0.9815329442341889, 0.959144589849984, 0.971045529159637, 0.964981077014272, 0.9435502713054581, 0.9748301263052299, 0.950025033058228, 1.056176188956272, 1.056814554739866, 1.059504810542155, 1.027449774292098, 0.987187063973371, 0.9989513018102231, 0.9709543796452509, 0.944735762163148, 0.9772012220145, 0.975787674980621, 1.008025192649674, 1.011353814235557, 1.003191806119192, 0.992886758469746, 0.99516670466463, 1.047102298116821, 1.0560849710455518, 1.0499292781906888, 1.0815284300761479, 1.05781767817245, 1.06110072500114, 1.050476494459897, 1.053896356755278, 1.033787834572067, 1.023756303862113, 1.0353837262322738, 0.989558136883863, 0.996671378414117, 1.00811634216406, 1.06930828507592, 1.064201381605946, 1.050841252108887, 1.060416784460353, 1.0485158451507, 1.047375837855091, 1.0513428024257898, 1.043956066754822, 1.0815284300761479, 1.0856322101135378, 1.0943869180611918, 1.018694975149332, 1.01878621585883, 0.998768843190005, 0.9833113173133919, 0.962108453786877, 0.947745200857234, 0.9574118599243081, 0.9133646436551, 0.9401304090100769, 0.934704322648306, 0.9334731658383111, 0.9060234827413252, 0.9118143039533081, 0.923578450595048, 0.8954448269572751, 0.8825863389722312, 0.85755318954904, 0.8649856139710911, 0.8718253157630752, 0.897998267292873, 0.8334321280379371, 0.7910263781861292, 0.7994619944370982, 0.7414162600884593, 0.6747982308148283, 0.6759837672700743, 0.6551000638365784, 0.6861064246956363, 0.6887054853859832, 0.7075372760020062, 0.7691395741188272, 0.7604304409283662, 0.7595641329624733, 0.8104509598285532, 0.8080343121608681, 0.8161962290821212, 0.854634991564452, 0.8679039031507911, 0.8751539373489582, 0.8497104555195842, 0.8587843463590351, 0.8925265377775751, 0.916693265240983, 0.9360722037298801, 0.9238064839724591, 0.951712165427933, 0.935570630614199, 0.946149286398249, 0.9810313939172859, 0.995577014272035, 1.0119466052619581, 1.0322374948702748, 1.061237517669053, 1.0866809766996488, 1.068077151064703, 1.014910378003739, 1.0384843144407458, 1.0499292781906888, 1.0493365783594, 1.034562901828462, 1.0476950207468878, 1.0833523779125438, 1.12621401212895, 1.1648808079886919, 1.2102503305822807, 1.172769116775341, 1.1402580821667958, 1.1395741416260088, 1.1299986092745429, 1.1605945465323058, 1.1484200902831607, 1.1605033970179197, 1.1576307737905247, 1.1279467192558479, 1.1398020838083078, 1.1321417400027358, 1.1570379827641237, 1.1482376088641648, 1.156992408006931, 1.1466417172039578, 1.1294970589576399, 1.0978067575577948, 1.102548926177557, 1.059322443117049, 1.014819228489353, 0.9645251014545619, 0.9800282704847019, 0.952624139346131, 0.95157537276002, 0.952806529570015, 0.945146162965665, 0.946650836715152, 0.949751516118736, 0.933199557703707, 0.9628836122383839, 0.98130500205189, 1.004422962929187, 0.9859103324061831, 0.9936163649628379, 1.001231134011217, 1.026492134421595, 1.0170079339747389, 1.017874241940632, 1.001139916100497, 0.998404085541015, 0.998540878208928, 1.006246910765583, 1.059413592631435, 1.0739136382289909, 1.045825589348411, 0.9976289042907299, 0.993433974738954, 0.980165085951393, 0.992658816287447, 0.993707514477224, 0.982490584104692, 1.001778281884091, 1.001367949477908, 0.896721558524463, 0.895535976471661, 0.8807168163786421, 0.905339451005426, 0.920113127536364, 0.9584149833568919, 0.967944940951165, 0.987187063973371, 0.9756965254662351, 0.977793990242123, 0.9846336236377731, 0.988463795540559, 1.0249418859149149, 1.024349094888514, 1.01468243582144, 1.010122657425562, 1.004970179198395, 1.0316447038438739, 1.027130500205189, 1.041265810952533, 1.005426063562993, 1.013496853768638, 1.0487893620901918, 1.04650950709042, 1.041858601978934, 1.051525283844786, 1.070585016643108, 1.0487893620901918, 1.0359764488623409, 1.0295472390679858, 1.051525283844786, 1.0488806027996898, 1.031234280242579, 1.044548857781223, 1.0289088732843918, 1.025534585746204, 1.028726505859286, 1.0286352651497879, 1.01960694906753, 1.017919816697825, 1.01915097350782, 1.0259450093474989, 1.016506292462724, 1.025215425653185, 1.015092745428845, 1.007523619533993, 1.003100656604806, 0.9812594272946971, 0.963658793488669, 0.96671378414117, 0.9154621084309881, 0.901828461994437, 0.9248552733573481, 0.9197482786922621, 0.8999133646436551, 0.8867356937668142, 0.904199534904929, 0.893940062012676, 0.8955816196251881, 0.9138662167707812, 0.936573845241895, 0.940860015503169, 0.9331084081893211, 0.935753020838083, 0.941270325110574, 0.9459213442159501, 0.9529433222379281, 0.9384432766403721, 0.940540832611372, 0.915142925539191, 0.930326934476312, 0.9744198166978251, 0.963977953581688, 0.950526674570243, 0.916510897815877, 0.896493525147052, 0.9162828644384661, 0.9124070949797091, 0.918836304774064, 0.9130454607633031, 0.8960375267885641, 0.8844101956135151, 0.9078473393826091, 0.9281838949432312, 0.9078473393826091, 0.9123615430212941, 0.9245359992704391, 0.922620924718435, 0.9221650175550591, 0.930235693766814, 0.9118143039533081, 0.9016004970133601, 0.869955793169486, 0.8573252473667411, 0.8545894168072591, 0.8689070265833752, 0.8809903333181341, 0.8888787332998951, 0.866627171583603, 0.8451506999224841, 0.8597875609867311, 0.8273676758925722, 0.8379463316766221, 0.8386758241758241, 0.860243445351329, 0.8436460261729971, 0.8413660799781131, 0.871688500296384, 0.880671150426337, 0.8966759837672701, 0.8942592449044731, 0.864392891341024, 0.863617732889517, 0.8293283252017691, 0.8274588254069581, 0.8517623683370572, 0.8474305321234782, 0.8807168163786421, 0.876795403766358, 0.876293853449455, 0.877433769549952, 0.9035155943641421, 0.9059778167890201, 0.9009164880762391, 0.9233049336555561, 0.9243992749988601, 0.95203134831973, 0.9470612603164471, 0.950481031416716, 0.972778236286535, 1.0010031006338058, 1.001960740504309, 0.9788883543842049, 0.97437415074552, 0.98942134421595, 1.0350189001869499, 1.033924536044868, 1.0442295836943138, 1.0545802972960647, 1.0481509963065978, 1.047512630523004, 1.04687426473941, 1.0840818704117459, 1.0741872463635949, 1.0868633669235328, 1.1114860015503167, 1.115908964479504, 1.1350143632301308, 1.160959395376408, 1.160321029592814, 1.1513838630249418, 1.153390178286444, 1.1428115225023938, 1.148739273174958, 1.1364734850212028, 1.1470065432492818, 1.1460033514203638, 1.1753682230632438, 1.1740458255437507, 1.1950207468879668, 1.2274862067393189, 1.2276230222060098, 1.2794673977474806, 1.2812001048743786, 1.2756372258446946, 1.2263462906388218, 1.2413022433997538, 1.2648306278783457, 1.2471387533628198, 1.1672518808991839, 1.1718572340522548, 1.122748575076376, 1.1398933245178058, 1.1400301399844968, 1.1421276047603848, 1.1470976927636678, 1.1454562263462678, 1.1335096210843099, 1.1256668870548538, 1.1166841457297887, 1.11116681865852, 1.1224750581368839, 1.1764168984542427, 1.166066298846382, 1.1948839542200538, 1.1923760658428708, 1.1942911631936526, 1.143039578678583, 1.1627832520176917, 1.1617345538279147, 1.1999452829328348, 1.2321371346495826, 1.2651042360129496, 1.2647850531211526, 1.2672472755460307, 1.2689799826729287, 1.3611782180475125, 1.3847978204368245, 1.3451279011444985, 1.3619990424513246, 1.3795084355478546, 1.4244220737768454, 1.4076421731795175, 1.3535178514431627, 1.3861656787196206, 1.3744926815922665, 1.3690665952304957, 1.3930965300259905, 1.3793716428799416, 1.3934612876749806, 1.4045414937759335, 1.4308056860152294, 1.4142993935525054, 1.4072774155305274, 1.4320824175824176, 1.4720259450093474, 1.4540604623592175, 1.4181751630112625, 1.3472253659203866, 1.4060005927682275, 1.4007113218731475, 1.4648670603255665, 1.4829236924900824, 1.4732571018193423, 1.4810541698964934, 1.4403355752131684, 1.4454881218366695, 1.3957867858282795, 1.4274770872281246, 1.4173088322465914, 1.4151201495599834, 1.3855273129360266, 1.4145273585335825, 1.4446673886279695, 1.4825589348410926, 1.5279740321918744, 1.5549223245634034, 1.5520039441885913, 1.5496329624732113, 1.5836942455884362, 1.6089097624367332, 1.6399161004970135, 1.6871095709269983, 1.6292918015594362, 1.6369979025124253, 1.7142401623272994, 1.7357166567871964, 1.7114586886142902, 1.6934932059641603, 1.6861975970088001, 1.6973233778669463, 1.7162919839496602, 1.744608157402763, 1.7484383293055492, 1.7212621631480551, 1.652318612922347, 1.6927636906661803, 1.6449318772513792, 1.6488531986685515, 1.6078610642469562, 1.4914504354566593, 1.4081892982536135, 1.4282066709224386, 1.4411107336646753, 1.4920432264830605, 1.5025306415576125, 1.4746705348593316, 1.4945966896174363, 1.4571611189640234, 1.4966942455884364, 1.4831061511103005, 1.5043545893940085, 1.4974237380876385, 1.5618074415211343, 1.5484929551776023, 1.5678718936664995, 1.5250558114085084, 1.5278373079202954, 1.4749441429939356, 1.4571611189640234, 1.4859787743376953, 1.5826455473986591, 1.6274224613560715, 1.6194883270256712, 1.6653139163740822, 1.6576079750125392, 1.6205371848068943, 1.6317996671378412, 1.6588391318225342, 1.6521363138935752, 1.6547809265423374, 1.6046692581277644, 1.5843326113720304, 1.5405590032374266, 1.5564725046737495, 1.6085450047877432, 1.6092745200857235, 1.5870229583694313, 1.5761252108886965, 1.5838767042086541, 1.6104145273813324, 1.6228170170078884, 1.6205371848068943, 1.5940449363914093, 1.5709725502713052, 1.5986959554967852, 1.5658200720441384, 1.6583374903105192, 1.6540514112443574, 1.6699193379234873, 1.7219461036888424, 1.7318407277369932, 1.7555059048834982, 1.7103642560758743, 1.7049381697141033, 1.6710591856276502, 1.6008846381833932, 1.5730701062423054, 1.5742556882951073, 1.5547398659431855, 1.5484929551776023, 1.5553326569695862, 1.5572933290775612, 1.5874332679768366, 1.6187588117276912, 1.6202180019150971, 1.6272855546942682, 1.5637225160731385, 1.6214034015776753, 1.6168892891341022, 1.6218139163740823, 1.6213122520632892, 1.5986503807395922, 1.6221330992658793, 1.6399161004970135, 1.6041676166157492, 1.5735715881628745, 1.5367288085358624, 1.5381879987232683, 1.4857507409602844, 1.4872555059048835, 1.4630888696365876, 1.4594865487209883, 1.5116957731065614, 1.4640463955132004, 1.3645524827869226, 1.3956955679175596, 1.3806027996899366, 1.3955131776936756, 1.3879439606037116, 1.3815603483653276, 1.3815603483653276, 1.4381469609228945, 1.4075965984223247, 1.4194518717796725, 1.4249236240937486, 1.4365509552687974, 1.4077789658474307, 1.4491359263143495, 1.4253795996534586, 1.4388309014636815, 1.4445761707172495, 1.4479503442615473, 1.4023072135333545, 1.4082805161643337, 1.3977018831790615, 1.3916374310336965, 1.3847978204368245, 1.4283890383475446, 1.4191783548401806, 1.4369158041128995, 1.4997491678446035, 1.5550134740777894, 1.5458939400848113, 1.5406958871004515, 1.5660481054215496, 1.5451644247868312, 1.5097351009985864, 1.5000683507364003, 1.5122885641329624, 1.4828325429756966, 1.4467648534038575, 1.4210022114814644, 1.4379645023026766, 1.4196799051570836, 1.4615385299347954, 1.4465824859787515, 1.4345903059596006, 1.4435274725274725, 1.5339473348228534, 1.5215448223975194, 1.5266061511103004, 1.5409693128448314, 1.5330810952532945, 1.5505905111486022, 1.5829647302904564, 1.5711550088915234, 1.5960056084993843, 1.6030275865213623, 1.6086361543021293, 1.5771738862796951, 1.5395558798048425, 1.5633122064657332, 1.5937713282568053, 1.5768547033878983, 1.6155670056084992, 1.5924945966896173, 1.5674159865031234, 1.5189913592631432, 1.5228215539647074, 1.5731156809994984, 1.4373717796726095, 1.4154393324517807, 1.4396516346723816, 1.4758105421549406, 1.4696547809037435, 1.5232776207195293, 1.5297524052710774, 1.5264694268387213, 1.5197666317085403, 1.5784506178468836, 1.6052620491541654, 1.6297478683142583, 1.6004285714285713, 1.5642697551411242, 1.5089598513519675, 1.5280653412977063, 1.5199944826957272, 1.4965117641694405, 1.5152067621175505, 1.5006155670056083, 1.4918151931056496, 1.5754410879576852, 1.5587067621175503, 1.4893528794856592, 1.4846564908120923, 1.4652773927317495, 1.4297570106242306, 1.4160321234781816, 1.4432994391500615, 1.4094204550636085, 1.3749486799507546, 1.3869864347270986, 1.2729925447995987, 1.1754137978204366, 1.2134878026537776, 1.1512470475582508, 1.2198714376909396, 1.3083762710318725, 1.3940085039441885, 1.3647348730108066, 1.3207787834572067, 1.3893575076375906, 1.3721672746340794, 1.3409329715927227, 1.3694770188317906, 1.3278464502302676, 1.3117960421321415, 1.3376042588117276, 1.3682914367789887, 1.3234234645023026, 1.2920979435502256, 1.2925083443527425, 1.2798777985499976, 1.3017190506588847, 1.3409329715927227, 1.3401121471889106, 1.3675619214810086, 1.3731703980666634, 1.2970224567963156, 1.3409785463499155, 1.3805572249327436, 1.3769094204550636, 1.3991609821713555, 1.3908166978249965, 1.3727600656604806, 1.3313118644840636, 1.2957913227850988, 1.3062788062559847, 1.2974328803976105, 1.2622314987916645, 1.2972048470201996, 1.2539783639596918, 1.2724909716839177, 1.2669280926542337, 1.2714878482513337, 1.2938762254343166, 1.3301719483835666, 1.2982991883635038, 1.3306278327481644, 1.3530618758834525, 1.3274816925812776, 1.4568419588710044, 1.4412931238885596, 1.4484519857735625, 1.5142947881993523, 1.5629474488167434, 1.5721125575669144, 1.6311157493958324, 1.6331677306096395, 1.690894168072591, 1.6075418813551592, 1.6516346723815603, 1.5845606447494414, 1.5212712142629154, 1.5184441429939355, 1.5594364598057544, 1.5708358487985044, 1.5955952760932015, 1.5637680908303313, 1.5278373079202954, 1.4174456477132826, 1.4096940631982124, 1.4085084811454105, 1.4523277552323195, 1.4703844557931696, 1.4543796452510145, 1.4441201723587616, 1.4539692216497195, 1.4139802106607087, 1.4713875792257536, 1.4766767817244997, 1.4601704892617755, 1.4298481601386166, 1.3825178742419404, 1.3562081072454515, 1.4077789658474307, 1.3982490994482695, 1.3550681911449545, 1.3231042816105056, 1.3594454881218365, 1.3717568510327847, 1.5938169030139984, 1.5875701746386395, 1.5593908850485614, 1.730746454790023, 1.68865991062879, 1.6070858146003373, 1.6209475172130774, 1.6251424467648534, 1.5851534357758426, 1.5443436003830195, 1.5295699238520815, 1.3930052893164926, 1.4064110163695225, 1.4677852583101545, 1.4665998586475766, 1.4595776982353745, 1.4719803702521543, 1.4557931694861155, 1.4220054261091606, 1.3907710318726916, 1.3822899320596416, 1.3754958962199626, 1.3175414025808216, 1.2801057635310746, 1.2810633122064656, 1.2003100405818248, 1.3018101773744926, 1.2741781040536226, 1.3247914367789886, 1.3198668095390087, 1.3460398750626967, 1.3443983174501846, 1.2993479777483927, 1.3634581414436187, 1.3603118872828415, 1.3638228990926087, 1.3664675801377044, 1.3724408827686836, 1.4116091377502165, 1.4022160868177465, 1.2072864666453877, 1.4167160412201905, 1.3725776070402624, 1.3442159272263006, 1.2850759427294698, 1.1944279558615656, 1.1424923624093748, 1.1983037937166567, 1.1713099949842687, 1.1501071314577538, 1.1799735762163146, 1.1836669326524099, 1.2611828234006657, 1.2392503533810586, 1.2033651224294377, 1.1855364552459988, 1.1898682002644658, 1.3412064885322146, 1.3154895125621267, 1.4356846473029046, 1.5088231270803887, 1.5268341844877114, 1.5042634398796224, 1.5380966896174362, 1.5698327253659203, 1.5795448907938534, 1.5567005380511605, 1.5551501983493683, 1.5875245998814465, 1.6022980940221605, 1.5982398659431853, 1.5105557658109523, 1.5445260590032375, 1.5685559937987323, 1.5888013314486344, 1.6155670056084992, 1.6117368109069354, 1.5844694952350553, 1.5420637453832475, 1.4857051662030913, 1.5776753682002642, 1.5681910765582965, 1.5862021111668412, 1.5556518398613834, 1.5981031644703843, 1.6346267384068214, 1.6401441338744245, 1.6554648670831242, 1.6322557566914413, 1.6649947334822854, 1.6723358943960602, 1.6716064018968582, 1.7180703570288631, 1.6675481738178832, 1.5887099995440244, 1.5367743832930554, 1.5182618667639414, 1.4380557202133966, 1.4580730244858875, 1.3469061830285896, 1.4868907482558933, 1.4414755825087775, 1.5223656468013314, 1.5174866171173222, 1.4140713601750945, 1.3695681683461765, 1.4485887100451413, 1.5273356664082804, 1.5291140394874831, 1.5436140850850393, 1.5729789567279195, 1.5834207970452785, 1.5247822032739045, 1.5705166659067074, 1.5779034015776754, 1.5836486708312432, 1.3782317267794446, 1.3630021430851305, 1.3113401577675436, 1.3292143085130637, 1.3544298253613605, 1.3514203866672745, 1.3563449227121427, 1.4079157813141214, 1.3999361406228625, 1.4236013177693674, 1.4267019059778394, 1.4652773927317495, 1.4464456705120605, 1.4021704208654415, 1.3943732615931785, 1.4264739637955406, 1.4217773927317496, 1.4051798595595275, 1.3851170033286215, 1.4038575532351465, 1.3936436551000866, 1.3795996762573526, 1.3279375769458757, 1.3438055948201175, 1.3623182253431216, 1.3581687793534265, 1.4351375222288085, 1.4585746659979024, 1.3441703524691075, 1.3011718343896765, 1.2609547900232547, 1.2595869089416807, 1.2611828234006657, 1.2956089325612146, 1.3265240527107744, 1.2920523687930328, 1.3175869773380147, 1.3221467557338926, 1.2558934613104737, 1.2288085130636996, 1.2195978067575577, 1.2475491541653367, 1.2494642515161187, 1.2061921025033058, 1.1874515525967808, 1.2209657790342436, 1.2531576307509917, 1.2704390816652227, 1.2760932014044046, 1.3185901007705987, 1.3035429073001685, 1.3305822807897496, 1.2210113537914367, 1.2537504217773927, 1.2457252063289406, 1.2416670922438557, 1.2587661757329809, 1.2239295517760247, 1.2206465961424469, 1.2146277187542747, 1.2464548128220327, 1.2367424650038756, 1.2459988144635448, 1.1980757603392458, 1.2033194792759108, 1.1794263371483287, 1.1291323013086498, 1.072180931102093, 1.1010441612329578, 1.0883680406730198, 1.067028361679814, 1.113036341252109, 1.1628744927271897, 1.164288016962291, 1.126533195020747, 1.1164105375951847, 1.103369659386257, 1.0921526378186128, 1.0351101180976698, 1.059276868359856, 1.0576352879485658, 1.0411289954858418, 0.96224524645479, 0.936391386621677, 0.9351146550544891, 0.8788017190278602, 0.891386621677078, 0.8692261866763941, 0.8604259267703251, 0.8657151976654052, 0.8582372212849392, 0.8442843691578131, 0.8160594364142082, 0.8827687063973372, 0.8964023756326661, 0.9390816424239661, 0.932470065204505, 0.970680771510647, 0.989922894532853, 0.9541744790479231, 0.975377342574438, 0.979982695727509, 1.0260818248141899, 1.024759518489809, 1.0324654370525739, 1.001413524235101, 1.011627422370161, 1.0197437645342209, 1.002051890018695, 0.9998176097761159, 1.016095960056541, 1.018923008526743, 1.0358396333956499, 1.023893119328804, 1.071086589758789, 1.062879006885231, 1.050294127034791, 1.0490173954676028, 1.0894168072591308, 1.087957708266837, 1.117504878938489, 1.1558980666636267, 1.1507911631936527, 1.162099311476905, 1.1560804340887327, 1.1772377456568328, 1.1658383566640829, 1.1863116136975058, 1.2077881081574027, 1.043363275728421, 1.0398067119602388, 1.075053554329488, 1.1046463909534447, 1.1016825270165518, 1.066298846381834, 1.068533126624413, 1.0410834207286488, 1.05216364962838, 1.0643381058775248, 1.0865897587889288, 1.071588140075692, 1.0442295836943138, 1.071542565318499, 1.001413524235101, 0.983265651361087, 1.002872623227395, 1.03428938488897, 1.0298664219597828, 1.006930828507592, 1.012949705895764, 0.963932310428161, 0.980347453376499, 0.9761525238247231, 0.9830377091787881, 1.010943390634262, 1.028726505859286, 1.025990584104692, 1.006246910765583, 1.0468286899822168, 1.03711645615795, 1.056905795449364, 1.0740048789384888, 1.126715562445853, 1.121107108658976, 1.1180520952076969, 1.1071542565318497, 1.1161825726141077, 1.110254935935434, 1.1244357302448589, 1.0971684145729788, 1.0999497970908758, 1.017783001231134, 1.042816150654325, 1.1060143404313527, 1.1040535999270438, 1.0983083306734758, 1.115726597054398, 1.108613355524144, 1.0625598239934337, 1.0552642150380738, 1.0839450777438329, 1.0945692854862978, 1.1149969905613057, 1.1159546304318089, 1.1303177921663399, 1.171674752633259, 1.1759153481373397, 1.1843965391455018, 1.1945191965710638, 1.1716291778760657, 1.1558980666636267, 1.165382358305595, 1.1612785782682047, 1.3664675801377044, 1.4961925812776433, 1.4942775067256395, 1.4418858921161826, 1.4363685878436914, 1.4359582554375085, 1.4286170033286216, 1.4475855866125575, 1.4464456705120605, 1.4891250284984723, 1.5299804386484883, 1.5372760248050703, 1.5735260134056812, 1.5955952760932015, 1.5781770097122791, 1.5929506862432172, 1.6058090830331495, 1.5958688842278053, 1.6393233094706123, 1.6060371164105605, 1.6179381469153253, 1.5185810496557384, 1.5336281519310562, 1.4997947426017966, 1.5106015001595914, 1.5044457389083945, 1.5269253340020972, 1.5329897861474624, 1.5185354748985453, 1.5064063882175913, 1.5315763303086953, 1.5481737722858053, 1.5906250968948061, 1.6082258218959464, 1.6400528247685924, 1.634170831243445, 1.7395468286899822, 1.7281017053485932, 1.7926678446035293, 1.842323628653504, 1.849391181432675, 1.9115407870138161, 1.939036136063107, 1.964981168209384, 1.9624275226847838, 1.8909306917149242, 1.907482558934841, 1.9618804888058, 2.020017258674935, 2.0589120195157538, 2.1387988691806115, 2.2440381423555693, 2.1947927135105556, 2.1802470703570287, 2.3932333226939035, 2.4527837307920297, 2.3642332087000133, 2.3413888559573204, 2.3277551867219914, 2.4950983083306735, 2.5970544662806074, 2.6090921982581734, 2.5754410879576852, 2.5444347270986274, 2.5849253795996536, 2.6491723587615703, 2.921937052573982, 2.966440153207788, 3.5566093657379962, 4.044776868359856, 3.3500524827869222, 3.4150747115954587, 3.4110163239250375, 3.5168482285349505, 3.5309836988737406, 3.4986547125074092, 3.66604356846473, 3.6479412019515753, 3.91409404495919, 4.183210843098809, 4.1010898727828184, 4.108339724590762, 3.801878528110893, 3.647393985682367, 3.5511375450275864, 3.096074118827231, 3.0458713008982716, 3.39072543431672, 3.3993435091879074, 3.4175366832337786, 3.3037254343167204, 3.2076968446491265, 2.772331357439241, 2.942546942683872, 2.891933815147508, 2.55597102275318, 2.492453536090465, 2.029410423601295, 1.961606880671196, 1.6470749851807944, 1.949933883543842, 1.9494322420318269, 1.9802563038621128, 2.3026765765354975, 2.4588481601386163, 2.408280607359446, 2.3453559345219093, 2.289590146368155, 2.3893120012767315, 2.1957958141443616, 2.0722720578177007, 2.1887282613651906, 2.3539282522456797, 2.4871185992430807, 2.502576216314805, 2.6127399115407415, 2.9681729515297977, 3.2369248324289814, 3.3278464958278233, 3.397975628106334, 3.4375541470977153, 3.403219255847887, 3.1312752268478405, 3.338242601796544, 3.2175005015731157, 3.3065067484382835, 3.6421047831836213, 3.5069993388354384, 3.6501300670284067, 3.5651818658519905, 3.197847977748393, 3.4708405225479915, 3.5028498016506315, 3.5683736719711825, 3.5567916647667683, 3.7363549997720122, 3.699284027176143, 3.690711869043819, 3.6065843098809904, 3.662988463818339, 3.6440198805344033, 3.709953900870913, 3.684328234006657, 3.718754274770872, 3.773653823355068, 3.72477331175049, 3.733847111394829, 3.740048447403219, 3.674296726095481, 3.807395923578496, 4.095116387761616, 4.01969805298436, 4.026081688021522, 3.94136170261274, 4.038393233322694, 4.3314029000045595, 4.2892253659203865, 4.673977360813461, 4.435912475491313, 4.264648214855684, 4.51826166157494, 4.478272650585929, 4.52232004924536, 4.577812388855957, 4.563859217545939, 4.533856139710911, 4.567872030459167, 4.381241119875974, 4.4958278008298755, 4.376179791163193, 4.60238919793899, 4.923669828097214, 5.1052390451871785, 5.511194085996991, 6.2540698098581915, 6.33742157220373, 6.228078860973052, 6.357575760339245, 7.043226323469062, 6.826227417810405, 6.916236947699603, 7.049427659477452, 6.842551434043135, 6.843463567552779, 7.49167858282796, 7.151338219871415, 7.26063569832657, 6.899229720486981, 6.461173544298025, 7.020200013679266, 6.732433632757283, 6.835575007979573, 6.7825905339473795, 6.523916100497013, 6.771237061693493, 6.780356436095025, 6.771328211207879, 6.792120400346542, 6.62400237107291, 6.468332246591583, 6.266882289909261, 7.089325520952077, 7.391364096484429, 7.526834116091377, 8.370069559071634, 8.604669166932652, 8.565637545027586, 9.12785547854635, 9.347407824540603, 9.184259632483698, 9.225935867037526, 9.817929027404132, 10.208152843007614, 10.092562879029682, 11.361087205325795, 10.830559208426427, 10.199489193379234, 9.27910264009849, 9.537184966485796, 7.528384273402946, 8.350736377730154, 8.46609812594045, 8.497560553554328, 9.56682310428161, 10.253978614746249, 10.07158839086225, 9.653686402808809, 10.080479549496149, 10.245543180885505, 9.671925835575214, 8.671742852583101, 8.841138320186037, 9.286854133418448, 9.602845561077926, 9.554284049974921, 9.780903971547124, 10.217500433176781, 9.463544662806072, 9.704983653276184, 9.438238361223839, 9.696320003647804, 9.710455815968263, 9.89466964570699, 10.083899229401304, 10.183074050430898, 10.517076011125804, 10.233915576125119, 10.023939013268889, 9.822397223108842, 9.619716428799414, 9.635675869773381, 9.707491883635036, 9.589850098034745, 9.581870388947152, 9.682184875290684, 9.256759586886142, 9.366421663398842, 8.846838014682412, 9.131138798960375, 9.664401851260774, 9.59782980712234, 9.987916556472573, 9.802334868451052, 9.6042134421595, 9.3557061921481, 9.510054375085495, 9.38762505129725, 9.31330080707674, 9.303953216907573, 10.068168004194973, 11.09479766084538, 11.382745634034015, 11.162509347498972, 11.89754174456249, 12.661985431580867, 13.086498563676987, 13.354612420774245, 12.940585837399114, 13.331813642788745, 12.968401053303543, 13.528338995029866, 13.65737946286079, 14.631343987962245, 14.816469951210614, 13.781404860699466, 14.296429870958917, 13.907026355387352, 14.587342506041676, 14.43732615931786, 14.198395422005381, 14.953719027860107, 15.845150699922483, 14.816013519675343, 14.59897011080206, 14.727554147097713, 15.08754776343988, 15.131321006794034, 15.18375792257535, 15.840135629930236, 16.08841327344854, 16.63786466645388, 16.759609342939218, 17.235419725502712, 18.604714285714284, 20.063381058775246, 18.49414075965528, 19.366194017600655, 19.47950328302403, 19.26496739774748, 18.835437804933655, 19.254707674068673, 19.38922101135379, 19.264739181979845, 19.30235773562537, 20.081163376043044, 20.133373466782178, 19.701791368382654, 19.046782932834798, 18.09151495599836, 19.14664169440518, 19.898544936391406, 19.48588760202453, 19.378733071907345, 19.429802106607088, 19.684920500661164]}, {\"name\": \"BTCUSD\", \"type\": \"scatter\", \"x\": [\"2015-01-02\", \"2015-01-05\", \"2015-01-06\", \"2015-01-07\", \"2015-01-08\", \"2015-01-09\", \"2015-01-12\", \"2015-01-13\", \"2015-01-14\", \"2015-01-15\", \"2015-01-16\", \"2015-01-20\", \"2015-01-21\", \"2015-01-22\", \"2015-01-23\", \"2015-01-26\", \"2015-01-27\", \"2015-01-28\", \"2015-01-29\", \"2015-01-30\", \"2015-02-02\", \"2015-02-03\", \"2015-02-04\", \"2015-02-05\", \"2015-02-06\", \"2015-02-09\", \"2015-02-10\", \"2015-02-11\", \"2015-02-12\", \"2015-02-13\", \"2015-02-17\", \"2015-02-18\", \"2015-02-19\", \"2015-02-20\", \"2015-02-23\", \"2015-02-24\", \"2015-02-25\", \"2015-02-26\", \"2015-02-27\", \"2015-03-02\", \"2015-03-03\", \"2015-03-04\", \"2015-03-05\", \"2015-03-06\", \"2015-03-09\", \"2015-03-10\", \"2015-03-11\", \"2015-03-12\", \"2015-03-13\", \"2015-03-16\", \"2015-03-17\", \"2015-03-18\", \"2015-03-19\", \"2015-03-20\", \"2015-03-23\", \"2015-03-24\", \"2015-03-25\", \"2015-03-26\", \"2015-03-27\", \"2015-03-30\", \"2015-03-31\", \"2015-04-01\", \"2015-04-02\", \"2015-04-06\", \"2015-04-07\", \"2015-04-08\", \"2015-04-09\", \"2015-04-10\", \"2015-04-13\", \"2015-04-14\", \"2015-04-15\", \"2015-04-16\", \"2015-04-17\", \"2015-04-20\", \"2015-04-21\", \"2015-04-22\", \"2015-04-23\", \"2015-04-24\", \"2015-04-27\", \"2015-04-28\", \"2015-04-29\", \"2015-04-30\", \"2015-05-01\", \"2015-05-04\", \"2015-05-05\", \"2015-05-06\", \"2015-05-07\", \"2015-05-08\", \"2015-05-11\", \"2015-05-12\", \"2015-05-13\", \"2015-05-14\", \"2015-05-15\", \"2015-05-18\", \"2015-05-19\", \"2015-05-20\", \"2015-05-21\", \"2015-05-22\", \"2015-05-26\", \"2015-05-27\", \"2015-05-28\", \"2015-05-29\", \"2015-06-01\", \"2015-06-02\", \"2015-06-03\", \"2015-06-04\", \"2015-06-05\", \"2015-06-08\", \"2015-06-09\", \"2015-06-10\", \"2015-06-11\", \"2015-06-12\", \"2015-06-15\", \"2015-06-16\", \"2015-06-17\", \"2015-06-18\", \"2015-06-19\", \"2015-06-22\", \"2015-06-23\", \"2015-06-24\", \"2015-06-25\", \"2015-06-26\", \"2015-06-29\", \"2015-06-30\", \"2015-07-01\", \"2015-07-02\", \"2015-07-06\", \"2015-07-07\", \"2015-07-08\", \"2015-07-09\", \"2015-07-10\", \"2015-07-13\", \"2015-07-14\", \"2015-07-15\", \"2015-07-16\", \"2015-07-17\", \"2015-07-20\", \"2015-07-21\", \"2015-07-22\", \"2015-07-23\", \"2015-07-24\", \"2015-07-27\", \"2015-07-28\", \"2015-07-29\", \"2015-07-30\", \"2015-07-31\", \"2015-08-03\", \"2015-08-04\", \"2015-08-05\", \"2015-08-06\", \"2015-08-07\", \"2015-08-10\", \"2015-08-11\", \"2015-08-12\", \"2015-08-13\", \"2015-08-14\", \"2015-08-17\", \"2015-08-18\", \"2015-08-19\", \"2015-08-20\", \"2015-08-21\", \"2015-08-24\", \"2015-08-25\", \"2015-08-26\", \"2015-08-27\", \"2015-08-28\", \"2015-08-31\", \"2015-09-01\", \"2015-09-02\", \"2015-09-03\", \"2015-09-04\", \"2015-09-08\", \"2015-09-09\", \"2015-09-10\", \"2015-09-11\", \"2015-09-14\", \"2015-09-15\", \"2015-09-16\", \"2015-09-17\", \"2015-09-18\", \"2015-09-21\", \"2015-09-22\", \"2015-09-23\", \"2015-09-24\", \"2015-09-25\", \"2015-09-28\", \"2015-09-29\", \"2015-09-30\", \"2015-10-01\", \"2015-10-02\", \"2015-10-05\", \"2015-10-06\", \"2015-10-07\", \"2015-10-08\", \"2015-10-09\", \"2015-10-12\", \"2015-10-13\", \"2015-10-14\", \"2015-10-15\", \"2015-10-16\", \"2015-10-19\", \"2015-10-20\", \"2015-10-21\", \"2015-10-22\", \"2015-10-23\", \"2015-10-26\", \"2015-10-27\", \"2015-10-28\", \"2015-10-29\", \"2015-10-30\", \"2015-11-02\", \"2015-11-03\", \"2015-11-04\", \"2015-11-05\", \"2015-11-06\", \"2015-11-09\", \"2015-11-10\", \"2015-11-11\", \"2015-11-12\", \"2015-11-13\", \"2015-11-16\", \"2015-11-17\", \"2015-11-18\", \"2015-11-19\", \"2015-11-20\", \"2015-11-23\", \"2015-11-24\", \"2015-11-25\", \"2015-11-27\", \"2015-11-30\", \"2015-12-01\", \"2015-12-02\", \"2015-12-03\", \"2015-12-04\", \"2015-12-07\", \"2015-12-08\", \"2015-12-09\", \"2015-12-10\", \"2015-12-11\", \"2015-12-14\", \"2015-12-15\", \"2015-12-16\", \"2015-12-17\", \"2015-12-18\", \"2015-12-21\", \"2015-12-22\", \"2015-12-23\", \"2015-12-24\", \"2015-12-28\", \"2015-12-29\", \"2015-12-30\", \"2015-12-31\", \"2016-01-04\", \"2016-01-05\", \"2016-01-06\", \"2016-01-07\", \"2016-01-08\", \"2016-01-11\", \"2016-01-12\", \"2016-01-13\", \"2016-01-14\", \"2016-01-15\", \"2016-01-19\", \"2016-01-20\", \"2016-01-21\", \"2016-01-22\", \"2016-01-25\", \"2016-01-26\", \"2016-01-27\", \"2016-01-28\", \"2016-01-29\", \"2016-02-01\", \"2016-02-02\", \"2016-02-03\", \"2016-02-04\", \"2016-02-05\", \"2016-02-08\", \"2016-02-09\", \"2016-02-10\", \"2016-02-11\", \"2016-02-12\", \"2016-02-16\", \"2016-02-17\", \"2016-02-18\", \"2016-02-19\", \"2016-02-22\", \"2016-02-23\", \"2016-02-24\", \"2016-02-25\", \"2016-02-26\", \"2016-02-29\", \"2016-03-01\", \"2016-03-02\", \"2016-03-03\", \"2016-03-04\", \"2016-03-07\", \"2016-03-08\", \"2016-03-09\", \"2016-03-10\", \"2016-03-11\", \"2016-03-14\", \"2016-03-15\", \"2016-03-16\", \"2016-03-17\", \"2016-03-18\", \"2016-03-21\", \"2016-03-22\", \"2016-03-23\", \"2016-03-24\", \"2016-03-28\", \"2016-03-29\", \"2016-03-30\", \"2016-03-31\", \"2016-04-01\", \"2016-04-04\", \"2016-04-05\", \"2016-04-06\", \"2016-04-07\", \"2016-04-08\", \"2016-04-11\", \"2016-04-12\", \"2016-04-13\", \"2016-04-14\", \"2016-04-15\", \"2016-04-18\", \"2016-04-19\", \"2016-04-20\", \"2016-04-21\", \"2016-04-22\", \"2016-04-25\", \"2016-04-26\", \"2016-04-27\", \"2016-04-28\", \"2016-04-29\", \"2016-05-02\", \"2016-05-03\", \"2016-05-04\", \"2016-05-05\", \"2016-05-06\", \"2016-05-09\", \"2016-05-10\", \"2016-05-11\", \"2016-05-12\", \"2016-05-13\", \"2016-05-16\", \"2016-05-17\", \"2016-05-18\", \"2016-05-19\", \"2016-05-20\", \"2016-05-23\", \"2016-05-24\", \"2016-05-25\", \"2016-05-26\", \"2016-05-27\", \"2016-05-31\", \"2016-06-01\", \"2016-06-02\", \"2016-06-03\", \"2016-06-06\", \"2016-06-07\", \"2016-06-08\", \"2016-06-09\", \"2016-06-10\", \"2016-06-13\", \"2016-06-14\", \"2016-06-15\", \"2016-06-16\", \"2016-06-17\", \"2016-06-20\", \"2016-06-21\", \"2016-06-22\", \"2016-06-23\", \"2016-06-24\", \"2016-06-27\", \"2016-06-28\", \"2016-06-29\", \"2016-06-30\", \"2016-07-01\", \"2016-07-05\", \"2016-07-06\", \"2016-07-07\", \"2016-07-08\", \"2016-07-11\", \"2016-07-12\", \"2016-07-13\", \"2016-07-14\", \"2016-07-15\", \"2016-07-18\", \"2016-07-19\", \"2016-07-20\", \"2016-07-21\", \"2016-07-22\", \"2016-07-25\", \"2016-07-26\", \"2016-07-27\", \"2016-07-28\", \"2016-07-29\", \"2016-08-01\", \"2016-08-02\", \"2016-08-03\", \"2016-08-04\", \"2016-08-05\", \"2016-08-08\", \"2016-08-09\", \"2016-08-10\", \"2016-08-11\", \"2016-08-12\", \"2016-08-15\", \"2016-08-16\", \"2016-08-17\", \"2016-08-18\", \"2016-08-19\", \"2016-08-22\", \"2016-08-23\", \"2016-08-24\", \"2016-08-25\", \"2016-08-26\", \"2016-08-29\", \"2016-08-30\", \"2016-08-31\", \"2016-09-01\", \"2016-09-02\", \"2016-09-06\", \"2016-09-07\", \"2016-09-08\", \"2016-09-09\", \"2016-09-12\", \"2016-09-13\", \"2016-09-14\", \"2016-09-15\", \"2016-09-16\", \"2016-09-19\", \"2016-09-20\", \"2016-09-21\", \"2016-09-22\", \"2016-09-23\", \"2016-09-26\", \"2016-09-27\", \"2016-09-28\", \"2016-09-29\", \"2016-09-30\", \"2016-10-03\", \"2016-10-04\", \"2016-10-05\", \"2016-10-06\", \"2016-10-07\", \"2016-10-10\", \"2016-10-11\", \"2016-10-12\", \"2016-10-13\", \"2016-10-14\", \"2016-10-17\", \"2016-10-18\", \"2016-10-19\", \"2016-10-20\", \"2016-10-21\", \"2016-10-24\", \"2016-10-25\", \"2016-10-26\", \"2016-10-27\", \"2016-10-28\", \"2016-10-31\", \"2016-11-01\", \"2016-11-02\", \"2016-11-03\", \"2016-11-04\", \"2016-11-07\", \"2016-11-08\", \"2016-11-09\", \"2016-11-10\", \"2016-11-11\", \"2016-11-14\", \"2016-11-15\", \"2016-11-16\", \"2016-11-17\", \"2016-11-18\", \"2016-11-21\", \"2016-11-22\", \"2016-11-23\", \"2016-11-25\", \"2016-11-28\", \"2016-11-29\", \"2016-11-30\", \"2016-12-01\", \"2016-12-02\", \"2016-12-05\", \"2016-12-06\", \"2016-12-07\", \"2016-12-08\", \"2016-12-09\", \"2016-12-12\", \"2016-12-13\", \"2016-12-14\", \"2016-12-15\", \"2016-12-16\", \"2016-12-19\", \"2016-12-20\", \"2016-12-21\", \"2016-12-22\", \"2016-12-23\", \"2016-12-27\", \"2016-12-28\", \"2016-12-29\", \"2016-12-30\", \"2017-01-03\", \"2017-01-04\", \"2017-01-05\", \"2017-01-06\", \"2017-01-09\", \"2017-01-10\", \"2017-01-11\", \"2017-01-12\", \"2017-01-13\", \"2017-01-17\", \"2017-01-18\", \"2017-01-19\", \"2017-01-20\", \"2017-01-23\", \"2017-01-24\", \"2017-01-25\", \"2017-01-26\", \"2017-01-27\", \"2017-01-30\", \"2017-01-31\", \"2017-02-01\", \"2017-02-02\", \"2017-02-03\", \"2017-02-06\", \"2017-02-07\", \"2017-02-08\", \"2017-02-09\", \"2017-02-10\", \"2017-02-13\", \"2017-02-14\", \"2017-02-15\", \"2017-02-16\", \"2017-02-17\", \"2017-02-21\", \"2017-02-22\", \"2017-02-23\", \"2017-02-24\", \"2017-02-27\", \"2017-02-28\", \"2017-03-01\", \"2017-03-02\", \"2017-03-03\", \"2017-03-06\", \"2017-03-07\", \"2017-03-08\", \"2017-03-09\", \"2017-03-10\", \"2017-03-13\", \"2017-03-14\", \"2017-03-15\", \"2017-03-16\", \"2017-03-17\", \"2017-03-20\", \"2017-03-21\", \"2017-03-22\", \"2017-03-23\", \"2017-03-24\", \"2017-03-27\", \"2017-03-28\", \"2017-03-29\", \"2017-03-30\", \"2017-03-31\", \"2017-04-03\", \"2017-04-04\", \"2017-04-05\", \"2017-04-06\", \"2017-04-07\", \"2017-04-10\", \"2017-04-11\", \"2017-04-12\", \"2017-04-13\", \"2017-04-17\", \"2017-04-18\", \"2017-04-19\", \"2017-04-20\", \"2017-04-21\", \"2017-04-24\", \"2017-04-25\", \"2017-04-26\", \"2017-04-27\", \"2017-04-28\", \"2017-05-01\", \"2017-05-02\", \"2017-05-03\", \"2017-05-04\", \"2017-05-05\", \"2017-05-08\", \"2017-05-09\", \"2017-05-10\", \"2017-05-11\", \"2017-05-12\", \"2017-05-15\", \"2017-05-16\", \"2017-05-17\", \"2017-05-18\", \"2017-05-19\", \"2017-05-22\", \"2017-05-23\", \"2017-05-24\", \"2017-05-25\", \"2017-05-26\", \"2017-05-30\", \"2017-05-31\", \"2017-06-01\", \"2017-06-02\", \"2017-06-05\", \"2017-06-06\", \"2017-06-07\", \"2017-06-08\", \"2017-06-09\", \"2017-06-12\", \"2017-06-13\", \"2017-06-14\", \"2017-06-15\", \"2017-06-16\", \"2017-06-19\", \"2017-06-20\", \"2017-06-21\", \"2017-06-22\", \"2017-06-23\", \"2017-06-26\", \"2017-06-27\", \"2017-06-28\", \"2017-06-29\", \"2017-06-30\", \"2017-07-03\", \"2017-07-05\", \"2017-07-06\", \"2017-07-07\", \"2017-07-10\", \"2017-07-11\", \"2017-07-12\", \"2017-07-13\", \"2017-07-14\", \"2017-07-17\", \"2017-07-18\", \"2017-07-19\", \"2017-07-20\", \"2017-07-21\", \"2017-07-24\", \"2017-07-25\", \"2017-07-26\", \"2017-07-27\", \"2017-07-28\", \"2017-07-31\", \"2017-08-01\", \"2017-08-02\", \"2017-08-03\", \"2017-08-04\", \"2017-08-07\", \"2017-08-08\", \"2017-08-09\", \"2017-08-10\", \"2017-08-11\", \"2017-08-14\", \"2017-08-15\", \"2017-08-16\", \"2017-08-17\", \"2017-08-18\", \"2017-08-21\", \"2017-08-22\", \"2017-08-23\", \"2017-08-24\", \"2017-08-25\", \"2017-08-28\", \"2017-08-29\", \"2017-08-30\", \"2017-08-31\", \"2017-09-01\", \"2017-09-05\", \"2017-09-06\", \"2017-09-07\", \"2017-09-08\", \"2017-09-11\", \"2017-09-12\", \"2017-09-13\", \"2017-09-14\", \"2017-09-15\", \"2017-09-18\", \"2017-09-19\", \"2017-09-20\", \"2017-09-21\", \"2017-09-22\", \"2017-09-25\", \"2017-09-26\", \"2017-09-27\", \"2017-09-28\", \"2017-09-29\", \"2017-10-02\", \"2017-10-03\", \"2017-10-04\", \"2017-10-05\", \"2017-10-06\", \"2017-10-09\", \"2017-10-10\", \"2017-10-11\", \"2017-10-12\", \"2017-10-13\", \"2017-10-16\", \"2017-10-17\", \"2017-10-18\", \"2017-10-19\", \"2017-10-20\", \"2017-10-23\", \"2017-10-24\", \"2017-10-25\", \"2017-10-26\", \"2017-10-27\", \"2017-10-30\", \"2017-10-31\", \"2017-11-01\", \"2017-11-02\", \"2017-11-03\", \"2017-11-06\", \"2017-11-07\", \"2017-11-08\", \"2017-11-09\", \"2017-11-10\", \"2017-11-13\", \"2017-11-14\", \"2017-11-15\", \"2017-11-16\", \"2017-11-17\", \"2017-11-20\", \"2017-11-21\", \"2017-11-22\", \"2017-11-24\", \"2017-11-27\", \"2017-11-28\", \"2017-11-29\", \"2017-11-30\", \"2017-12-01\", \"2017-12-04\", \"2017-12-05\", \"2017-12-06\", \"2017-12-07\", \"2017-12-08\", \"2017-12-11\", \"2017-12-12\", \"2017-12-13\", \"2017-12-14\", \"2017-12-15\", \"2017-12-18\", \"2017-12-19\", \"2017-12-20\", \"2017-12-21\", \"2017-12-22\", \"2017-12-26\", \"2017-12-27\", \"2017-12-28\", \"2017-12-29\", \"2018-01-02\", \"2018-01-03\", \"2018-01-04\", \"2018-01-05\", \"2018-01-08\", \"2018-01-09\", \"2018-01-10\", \"2018-01-11\", \"2018-01-12\", \"2018-01-16\", \"2018-01-17\", \"2018-01-18\", \"2018-01-19\", \"2018-01-22\", \"2018-01-23\", \"2018-01-24\", \"2018-01-25\", \"2018-01-26\", \"2018-01-29\", \"2018-01-30\", \"2018-01-31\", \"2018-02-01\", \"2018-02-02\", \"2018-02-05\", \"2018-02-06\", \"2018-02-07\", \"2018-02-08\", \"2018-02-09\", \"2018-02-12\", \"2018-02-13\", \"2018-02-14\", \"2018-02-15\", \"2018-02-16\", \"2018-02-20\", \"2018-02-21\", \"2018-02-22\", \"2018-02-23\", \"2018-02-26\", \"2018-02-27\", \"2018-02-28\", \"2018-03-01\", \"2018-03-02\", \"2018-03-05\", \"2018-03-06\", \"2018-03-07\", \"2018-03-08\", \"2018-03-09\", \"2018-03-12\", \"2018-03-13\", \"2018-03-14\", \"2018-03-15\", \"2018-03-16\", \"2018-03-19\", \"2018-03-20\", \"2018-03-21\", \"2018-03-22\", \"2018-03-23\", \"2018-03-26\", \"2018-03-27\", \"2018-03-28\", \"2018-03-29\", \"2018-04-02\", \"2018-04-03\", \"2018-04-04\", \"2018-04-05\", \"2018-04-06\", \"2018-04-09\", \"2018-04-10\", \"2018-04-11\", \"2018-04-12\", \"2018-04-13\", \"2018-04-16\", \"2018-04-17\", \"2018-04-18\", \"2018-04-19\", \"2018-04-20\", \"2018-04-23\", \"2018-04-24\", \"2018-04-25\", \"2018-04-26\", \"2018-04-27\", \"2018-04-30\", \"2018-05-01\", \"2018-05-02\", \"2018-05-03\", \"2018-05-04\", \"2018-05-07\", \"2018-05-08\", \"2018-05-09\", \"2018-05-10\", \"2018-05-11\", \"2018-05-14\", \"2018-05-15\", \"2018-05-16\", \"2018-05-17\", \"2018-05-18\", \"2018-05-21\", \"2018-05-22\", \"2018-05-23\", \"2018-05-24\", \"2018-05-25\", \"2018-05-29\", \"2018-05-30\", \"2018-05-31\", \"2018-06-01\", \"2018-06-04\", \"2018-06-05\", \"2018-06-06\", \"2018-06-07\", \"2018-06-08\", \"2018-06-11\", \"2018-06-12\", \"2018-06-13\", \"2018-06-14\", \"2018-06-15\", \"2018-06-18\", \"2018-06-19\", \"2018-06-20\", \"2018-06-21\", \"2018-06-22\", \"2018-06-25\", \"2018-06-26\", \"2018-06-27\", \"2018-06-28\", \"2018-06-29\", \"2018-07-02\", \"2018-07-03\", \"2018-07-05\", \"2018-07-06\", \"2018-07-09\", \"2018-07-10\", \"2018-07-11\", \"2018-07-12\", \"2018-07-13\", \"2018-07-16\", \"2018-07-17\", \"2018-07-18\", \"2018-07-19\", \"2018-07-20\", \"2018-07-23\", \"2018-07-24\", \"2018-07-25\", \"2018-07-26\", \"2018-07-27\", \"2018-07-30\", \"2018-07-31\", \"2018-08-01\", \"2018-08-02\", \"2018-08-03\", \"2018-08-06\", \"2018-08-07\", \"2018-08-08\", \"2018-08-09\", \"2018-08-10\", \"2018-08-13\", \"2018-08-14\", \"2018-08-15\", \"2018-08-16\", \"2018-08-17\", \"2018-08-20\", \"2018-08-21\", \"2018-08-22\", \"2018-08-23\", \"2018-08-24\", \"2018-08-27\", \"2018-08-28\", \"2018-08-29\", \"2018-08-30\", \"2018-08-31\", \"2018-09-04\", \"2018-09-05\", \"2018-09-06\", \"2018-09-07\", \"2018-09-10\", \"2018-09-11\", \"2018-09-12\", \"2018-09-13\", \"2018-09-14\", \"2018-09-17\", \"2018-09-18\", \"2018-09-19\", \"2018-09-20\", \"2018-09-21\", \"2018-09-24\", \"2018-09-25\", \"2018-09-26\", \"2018-09-27\", \"2018-09-28\", \"2018-10-01\", \"2018-10-02\", \"2018-10-03\", \"2018-10-04\", \"2018-10-05\", \"2018-10-08\", \"2018-10-09\", \"2018-10-10\", \"2018-10-11\", \"2018-10-12\", \"2018-10-15\", \"2018-10-16\", \"2018-10-17\", \"2018-10-18\", \"2018-10-19\", \"2018-10-22\", \"2018-10-23\", \"2018-10-24\", \"2018-10-25\", \"2018-10-26\", \"2018-10-29\", \"2018-10-30\", \"2018-10-31\", \"2018-11-01\", \"2018-11-02\", \"2018-11-05\", \"2018-11-06\", \"2018-11-07\", \"2018-11-08\", \"2018-11-09\", \"2018-11-12\", \"2018-11-13\", \"2018-11-14\", \"2018-11-15\", \"2018-11-16\", \"2018-11-19\", \"2018-11-20\", \"2018-11-21\", \"2018-11-23\", \"2018-11-26\", \"2018-11-27\", \"2018-11-28\", \"2018-11-29\", \"2018-11-30\", \"2018-12-03\", \"2018-12-04\", \"2018-12-06\", \"2018-12-07\", \"2018-12-10\", \"2018-12-11\", \"2018-12-12\", \"2018-12-13\", \"2018-12-14\", \"2018-12-17\", \"2018-12-18\", \"2018-12-19\", \"2018-12-20\", \"2018-12-21\", \"2018-12-24\", \"2018-12-26\", \"2018-12-27\", \"2018-12-28\", \"2018-12-31\", \"2019-01-02\", \"2019-01-03\", \"2019-01-04\", \"2019-01-07\", \"2019-01-08\", \"2019-01-09\", \"2019-01-10\", \"2019-01-11\", \"2019-01-14\", \"2019-01-15\", \"2019-01-16\", \"2019-01-17\", \"2019-01-18\", \"2019-01-22\", \"2019-01-23\", \"2019-01-24\", \"2019-01-25\", \"2019-01-28\", \"2019-01-29\", \"2019-01-30\", \"2019-01-31\", \"2019-02-01\", \"2019-02-04\", \"2019-02-05\", \"2019-02-06\", \"2019-02-07\", \"2019-02-08\", \"2019-02-11\", \"2019-02-12\", \"2019-02-13\", \"2019-02-14\", \"2019-02-15\", \"2019-02-19\", \"2019-02-20\", \"2019-02-21\", \"2019-02-22\", \"2019-02-25\", \"2019-02-26\", \"2019-02-27\", \"2019-02-28\", \"2019-03-01\", \"2019-03-04\", \"2019-03-05\", \"2019-03-06\", \"2019-03-07\", \"2019-03-08\", \"2019-03-11\", \"2019-03-12\", \"2019-03-13\", \"2019-03-14\", \"2019-03-15\", \"2019-03-18\", \"2019-03-19\", \"2019-03-20\", \"2019-03-21\", \"2019-03-22\", \"2019-03-25\", \"2019-03-26\", \"2019-03-27\", \"2019-03-28\", \"2019-03-29\", \"2019-04-01\", \"2019-04-02\", \"2019-04-03\", \"2019-04-04\", \"2019-04-05\", \"2019-04-08\", \"2019-04-09\", \"2019-04-10\", \"2019-04-11\", \"2019-04-12\", \"2019-04-15\", \"2019-04-16\", \"2019-04-17\", \"2019-04-18\", \"2019-04-22\", \"2019-04-23\", \"2019-04-24\", \"2019-04-25\", \"2019-04-26\", \"2019-04-29\", \"2019-04-30\", \"2019-05-01\", \"2019-05-02\", \"2019-05-03\", \"2019-05-06\", \"2019-05-07\", \"2019-05-08\", \"2019-05-09\", \"2019-05-10\", \"2019-05-13\", \"2019-05-14\", \"2019-05-15\", \"2019-05-16\", \"2019-05-17\", \"2019-05-20\", \"2019-05-21\", \"2019-05-22\", \"2019-05-23\", \"2019-05-24\", \"2019-05-28\", \"2019-05-29\", \"2019-05-30\", \"2019-05-31\", \"2019-06-03\", \"2019-06-04\", \"2019-06-05\", \"2019-06-06\", \"2019-06-07\", \"2019-06-10\", \"2019-06-11\", \"2019-06-12\", \"2019-06-13\", \"2019-06-14\", \"2019-06-17\", \"2019-06-18\", \"2019-06-19\", \"2019-06-20\", \"2019-06-21\", \"2019-06-24\", \"2019-06-25\", \"2019-06-26\", \"2019-06-27\", \"2019-06-28\", \"2019-07-01\", \"2019-07-02\", \"2019-07-03\", \"2019-07-05\", \"2019-07-08\", \"2019-07-09\", \"2019-07-10\", \"2019-07-11\", \"2019-07-12\", \"2019-07-15\", \"2019-07-16\", \"2019-07-17\", \"2019-07-18\", \"2019-07-19\", \"2019-07-22\", \"2019-07-23\", \"2019-07-24\", \"2019-07-25\", \"2019-07-26\", \"2019-07-29\", \"2019-07-30\", \"2019-07-31\", \"2019-08-01\", \"2019-08-02\", \"2019-08-05\", \"2019-08-06\", \"2019-08-07\", \"2019-08-08\", \"2019-08-09\", \"2019-08-12\", \"2019-08-13\", \"2019-08-14\", \"2019-08-15\", \"2019-08-16\", \"2019-08-19\", \"2019-08-20\", \"2019-08-21\", \"2019-08-22\", \"2019-08-23\", \"2019-08-26\", \"2019-08-27\", \"2019-08-28\", \"2019-08-29\", \"2019-08-30\", \"2019-09-03\", \"2019-09-04\", \"2019-09-05\", \"2019-09-06\", \"2019-09-09\", \"2019-09-10\", \"2019-09-11\", \"2019-09-12\", \"2019-09-13\", \"2019-09-16\", \"2019-09-17\", \"2019-09-18\", \"2019-09-19\", \"2019-09-20\", \"2019-09-23\", \"2019-09-24\", \"2019-09-25\", \"2019-09-26\", \"2019-09-27\", \"2019-09-30\", \"2019-10-01\", \"2019-10-02\", \"2019-10-03\", \"2019-10-04\", \"2019-10-07\", \"2019-10-08\", \"2019-10-09\", \"2019-10-10\", \"2019-10-11\", \"2019-10-14\", \"2019-10-15\", \"2019-10-16\", \"2019-10-17\", \"2019-10-18\", \"2019-10-21\", \"2019-10-22\", \"2019-10-23\", \"2019-10-24\", \"2019-10-25\", \"2019-10-28\", \"2019-10-29\", \"2019-10-30\", \"2019-10-31\", \"2019-11-01\", \"2019-11-04\", \"2019-11-05\", \"2019-11-06\", \"2019-11-07\", \"2019-11-08\", \"2019-11-11\", \"2019-11-12\", \"2019-11-13\", \"2019-11-14\", \"2019-11-15\", \"2019-11-18\", \"2019-11-19\", \"2019-11-20\", \"2019-11-21\", \"2019-11-22\", \"2019-11-25\", \"2019-11-26\", \"2019-11-27\", \"2019-11-29\", \"2019-12-02\", \"2019-12-03\", \"2019-12-04\", \"2019-12-05\", \"2019-12-06\", \"2019-12-09\", \"2019-12-10\", \"2019-12-11\", \"2019-12-12\", \"2019-12-13\", \"2019-12-16\", \"2019-12-17\", \"2019-12-18\", \"2019-12-19\", \"2019-12-20\", \"2019-12-23\", \"2019-12-24\", \"2019-12-26\", \"2019-12-27\", \"2019-12-30\", \"2019-12-31\", \"2020-01-02\", \"2020-01-03\", \"2020-01-06\", \"2020-01-07\", \"2020-01-08\", \"2020-01-09\", \"2020-01-10\", \"2020-01-13\", \"2020-01-14\", \"2020-01-15\", \"2020-01-16\", \"2020-01-17\", \"2020-01-21\", \"2020-01-22\", \"2020-01-23\", \"2020-01-24\", \"2020-01-27\", \"2020-01-28\", \"2020-01-29\", \"2020-01-30\", \"2020-01-31\", \"2020-02-03\", \"2020-02-04\", \"2020-02-05\", \"2020-02-06\", \"2020-02-07\", \"2020-02-10\", \"2020-02-11\", \"2020-02-12\", \"2020-02-13\", \"2020-02-14\", \"2020-02-18\", \"2020-02-19\", \"2020-02-20\", \"2020-02-21\", \"2020-02-24\", \"2020-02-25\", \"2020-02-26\", \"2020-02-27\", \"2020-02-28\", \"2020-03-02\", \"2020-03-03\", \"2020-03-04\", \"2020-03-05\", \"2020-03-06\", \"2020-03-09\", \"2020-03-10\", \"2020-03-11\", \"2020-03-12\", \"2020-03-13\", \"2020-03-16\", \"2020-03-17\", \"2020-03-18\", \"2020-03-19\", \"2020-03-20\", \"2020-03-23\", \"2020-03-24\", \"2020-03-25\", \"2020-03-26\", \"2020-03-27\", \"2020-03-30\", \"2020-03-31\", \"2020-04-01\", \"2020-04-02\", \"2020-04-03\", \"2020-04-06\", \"2020-04-07\", \"2020-04-08\", \"2020-04-09\", \"2020-04-13\", \"2020-04-14\", \"2020-04-15\", \"2020-04-16\", \"2020-04-17\", \"2020-04-20\", \"2020-04-21\", \"2020-04-22\", \"2020-04-23\", \"2020-04-24\", \"2020-04-27\", \"2020-04-28\", \"2020-04-29\", \"2020-04-30\", \"2020-05-01\", \"2020-05-04\", \"2020-05-05\", \"2020-05-06\", \"2020-05-07\", \"2020-05-08\", \"2020-05-11\", \"2020-05-12\", \"2020-05-13\", \"2020-05-14\", \"2020-05-15\", \"2020-05-18\", \"2020-05-19\", \"2020-05-20\", \"2020-05-21\", \"2020-05-22\", \"2020-05-26\", \"2020-05-27\", \"2020-05-28\", \"2020-05-29\", \"2020-06-01\", \"2020-06-02\", \"2020-06-03\", \"2020-06-04\", \"2020-06-05\", \"2020-06-08\", \"2020-06-09\", \"2020-06-10\", \"2020-06-11\", \"2020-06-12\", \"2020-06-15\", \"2020-06-16\", \"2020-06-17\", \"2020-06-18\", \"2020-06-19\", \"2020-06-22\", \"2020-06-23\", \"2020-06-24\", \"2020-06-25\", \"2020-06-26\", \"2020-06-29\", \"2020-06-30\", \"2020-07-01\", \"2020-07-02\", \"2020-07-06\", \"2020-07-07\", \"2020-07-08\", \"2020-07-09\", \"2020-07-10\", \"2020-07-13\", \"2020-07-14\", \"2020-07-15\", \"2020-07-16\", \"2020-07-17\", \"2020-07-20\", \"2020-07-21\", \"2020-07-22\", \"2020-07-23\", \"2020-07-24\", \"2020-07-27\", \"2020-07-28\", \"2020-07-29\", \"2020-07-30\", \"2020-07-31\", \"2020-08-03\", \"2020-08-04\", \"2020-08-05\", \"2020-08-06\", \"2020-08-07\", \"2020-08-10\", \"2020-08-11\", \"2020-08-12\", \"2020-08-13\", \"2020-08-14\", \"2020-08-17\", \"2020-08-18\", \"2020-08-19\", \"2020-08-20\", \"2020-08-21\", \"2020-08-24\", \"2020-08-25\", \"2020-08-26\", \"2020-08-27\", \"2020-08-28\", \"2020-08-31\", \"2020-09-01\", \"2020-09-02\", \"2020-09-03\", \"2020-09-04\", \"2020-09-08\", \"2020-09-09\", \"2020-09-10\", \"2020-09-11\", \"2020-09-14\", \"2020-09-15\", \"2020-09-16\", \"2020-09-17\", \"2020-09-18\", \"2020-09-21\", \"2020-09-22\", \"2020-09-23\", \"2020-09-24\", \"2020-09-25\", \"2020-09-28\", \"2020-09-29\", \"2020-09-30\", \"2020-10-01\", \"2020-10-02\", \"2020-10-05\", \"2020-10-06\", \"2020-10-07\", \"2020-10-08\", \"2020-10-09\", \"2020-10-12\", \"2020-10-13\", \"2020-10-14\", \"2020-10-15\", \"2020-10-16\", \"2020-10-19\", \"2020-10-20\", \"2020-10-21\", \"2020-10-22\", \"2020-10-23\", \"2020-10-26\", \"2020-10-27\", \"2020-10-28\", \"2020-10-29\", \"2020-10-30\", \"2020-11-02\", \"2020-11-03\", \"2020-11-04\", \"2020-11-05\", \"2020-11-06\", \"2020-11-09\", \"2020-11-10\", \"2020-11-11\", \"2020-11-12\", \"2020-11-13\", \"2020-11-16\", \"2020-11-17\", \"2020-11-18\", \"2020-11-19\", \"2020-11-20\", \"2020-11-23\", \"2020-11-24\", \"2020-11-25\", \"2020-11-27\", \"2020-11-30\", \"2020-12-01\", \"2020-12-02\", \"2020-12-03\", \"2020-12-04\", \"2020-12-07\", \"2020-12-08\", \"2020-12-09\", \"2020-12-10\", \"2020-12-11\", \"2020-12-14\", \"2020-12-15\", \"2020-12-16\", \"2020-12-17\", \"2020-12-18\", \"2020-12-21\", \"2020-12-22\", \"2020-12-23\", \"2020-12-24\", \"2020-12-28\", \"2020-12-29\", \"2020-12-30\", \"2020-12-31\", \"2021-01-04\", \"2021-01-05\", \"2021-01-06\", \"2021-01-07\", \"2021-01-08\", \"2021-01-11\", \"2021-01-12\", \"2021-01-13\", \"2021-01-14\", \"2021-01-15\", \"2021-01-19\", \"2021-01-20\", \"2021-01-21\", \"2021-01-22\", \"2021-01-25\", \"2021-01-26\", \"2021-01-27\", \"2021-01-28\", \"2021-01-29\", \"2021-02-01\", \"2021-02-02\", \"2021-02-03\", \"2021-02-04\", \"2021-02-05\", \"2021-02-08\"], \"y\": [1.0, 0.8712574839179916, 0.9084441681804574, 0.9343082412389627, 0.8994292240388917, 0.9218364420634292, 0.8500596096562415, 0.7169461600081893, 0.5653488840830916, 0.6661037143548963, 0.6605582652325559, 0.6707731064779121, 0.7202347496030506, 0.7408961514016038, 0.7392232801432786, 0.8680800068404476, 0.8363435940715016, 0.7425118189496507, 0.7412357803776596, 0.7187364891707052, 0.7562057002759272, 0.7214124140456798, 0.7200950622119792, 0.6891712049594146, 0.7055346657737923, 0.6986909009783713, 0.6978306836391258, 0.695754681921802, 0.7039411832726981, 0.7473113597506041, 0.7732864945379375, 0.7501650443378909, 0.7627256757553714, 0.7738229670011345, 0.7583102292527966, 0.7578118767250488, 0.7537964117951402, 0.750482443827066, 0.8057212998223134, 0.8750539679280149, 0.8942011744057262, 0.86687066307766, 0.87666648976401, 0.8656992964076955, 0.919293859192653, 0.9261281328891486, 0.9407900967829578, 0.9343621976602106, 0.9057397160459373, 0.9224236744473331, 0.906272992008593, 0.8135649725223322, 0.828258710964717, 0.8308647445299473, 0.8467075693669265, 0.7795874414832881, 0.7814983742620468, 0.7889102940151037, 0.7841393788763936, 0.7857169772774806, 0.7752354964636563, 0.7849107163594831, 0.8031088732560013, 0.8110033058767269, 0.8036643342656101, 0.7777685850612267, 0.7734959780103364, 0.7493587834198933, 0.7129021709930159, 0.6956721474525195, 0.7105087221723083, 0.7255548279787044, 0.7074900162606649, 0.7130259711097995, 0.7468098075480348, 0.7433403125288096, 0.7505967528449243, 0.7341095363536911, 0.7278180805072658, 0.7169271270218497, 0.7167779453575723, 0.7495904995534532, 0.7366838461588348, 0.758710210825463, 0.7495143104710441, 0.7293925331963008, 0.7533647064623874, 0.7740896065696028, 0.7686774518372518, 0.765357138482304, 0.7503269167759151, 0.7520791260029817, 0.7542249238016328, 0.7400137014011969, 0.7362648760397567, 0.7428388079404489, 0.7470478690684682, 0.7629320103414379, 0.752672703773759, 0.753202834024363, 0.7535996190964883, 0.7526092054650967, 0.7076296560375279, 0.7167620580832843, 0.716987428829971, 0.7120673320269835, 0.7140607516608162, 0.7252881884102362, 0.7270626302984643, 0.7262848998142928, 0.7291481262889941, 0.7300273797888598, 0.7517426427389777, 0.7964111380642449, 0.7912973498347294, 0.7904180963348636, 0.7764480843411935, 0.7840155755853294, 0.7754640637108838, 0.7634620898035528, 0.7707121371185854, 0.7732356838287415, 0.8159932463752502, 0.8350643113847608, 0.8209356234536075, 0.810749360256286, 0.8539767004567883, 0.8450157127364704, 0.8595475787408311, 0.8546052016624737, 0.9043335287960085, 0.9270612951960536, 0.9124913568704525, 0.9073014747869448, 0.882732476461051, 0.8871224938019235, 0.8855639315614567, 0.8755713597906636, 0.8799803625036673, 0.8762570139181379, 0.9150753037914277, 0.9320449379219122, 0.9345939137937705, 0.9192398995971244, 0.9133103085621969, 0.9035589471981693, 0.8926933720859663, 0.9053619163459429, 0.8947725226896227, 0.8842815476025924, 0.8874812065528084, 0.8395019873742163, 0.8582809836535565, 0.8455521851996671, 0.8382639735092573, 0.8433428414781453, 0.818888247398527, 0.6700239540417755, 0.7195586373629909, 0.7470669528432973, 0.7382392595129689, 0.6681701741848058, 0.7034491253433345, 0.7168509379394404, 0.7134798614895053, 0.7345158156990222, 0.7302622924229608, 0.7241200658550215, 0.727811738294673, 0.7211425811509512, 0.7310304810197178, 0.7732769526505232, 0.7560120532893272, 0.7569929250333044, 0.7621669706310134, 0.7321287598793967, 0.7310495171803381, 0.7271991211889948, 0.729481413052457, 0.7395280364729155, 0.7208315270486495, 0.7320462254101141, 0.7309828699853432, 0.7444608716638584, 0.7464130224759095, 0.7591037993970473, 0.7513109342319442, 0.7493206666587247, 0.7540471640893206, 0.7532345577844497, 0.7630430752445466, 0.7810730143161673, 0.7712517584681147, 0.7691408841043719, 0.774305435428875, 0.7786764166091273, 0.7920083855096973, 0.7998837819698026, 0.8072830585633212, 0.8344199229047874, 0.836222990455259, 0.8553512083865584, 0.8452220473225367, 0.8698259182948496, 0.8776758887675329, 0.9056222105275377, 0.932565523110821, 0.9669430357225314, 0.9962638654123065, 1.0412116910797888, 1.146515211455669, 1.2805587221385022, 1.3064163990216446, 1.22639601074447, 1.1886728508445266, 1.2070423744522751, 1.0691580096655129, 0.9874679466305539, 1.0733893510689023, 1.0689484785789056, 1.0498964973442237, 1.0636823566244997, 1.0620825255622512, 1.0352883946432454, 1.0221881894904439, 1.0254386115356473, 1.0159157698046388, 1.041817912010104, 1.136525740956999, 1.1977227660352092, 1.1506386400165622, 1.1401603557032791, 1.1460612734617546, 1.1528447872375434, 1.2555422772224738, 1.3191135213296559, 1.3254620824836616, 1.3188469325496772, 1.4345779773181335, 1.409958317474231, 1.4770594568114574, 1.4440881282753955, 1.447719546521134, 1.4716472544648977, 1.3923632834101847, 1.3858019914947501, 1.404304904720905, 1.4442500007134194, 1.3404320023819294, 1.3744095334209732, 1.3542115638895404, 1.3667404207584455, 1.37475235889757, 1.3711622094736131, 1.3620997019118817, 1.45397288243211, 1.4386792208320747, 1.4234363191527457, 1.3830023109429197, 1.3724668737078476, 1.3659119779677755, 1.156488797854331, 1.2066995458013978, 1.3339279617909816, 1.302286675862367, 1.214136939156085, 1.2434482745726543, 1.2448036987275957, 1.2537519004457494, 1.207143989522106, 1.2045569445032878, 1.184184414934364, 1.1886030071489908, 1.1743219410530192, 1.2366806480711534, 1.2270150176769496, 1.1854255300714471, 1.193621525695549, 1.211460966666902, 1.2051282927871843, 1.2197585773608346, 1.2934812659816892, 1.321522809810443, 1.3407303657104843, 1.335689665291254, 1.3895349295819026, 1.335534087451614, 1.348926361334586, 1.3476217923287688, 1.3717717253071675, 1.3893730571438783, 1.3812024430672702, 1.3458600920027766, 1.3384385827480967, 1.3044356701615591, 1.3151711473843135, 1.314063231408803, 1.3168819925611814, 1.3240908694571303, 1.3385623828648803, 1.3218910168345335, 1.323135331646438, 1.323709873256595, 1.3351690769280644, 1.3000202744474734, 1.3119524046592688, 1.3271317572414458, 1.3269793790766276, 1.3217514246718793, 1.3466281853711164, 1.3221386202423817, 1.3167424035728077, 1.3228147832709307, 1.3267222813955737, 1.3377815034943767, 1.3459901898922255, 1.3440316429048118, 1.3419112266536544, 1.3343056630882781, 1.3410795873624435, 1.34967236488439, 1.3450506345842381, 1.3467901530375581, 1.3640296708512605, 1.3604680963010576, 1.382427769332763, 1.4010925549969424, 1.4266010102281255, 1.414894301551506, 1.4646955736527005, 1.479497224937581, 1.4115613450370201, 1.4252868517206854, 1.4446055201380437, 1.4115041889409505, 1.4293911965067498, 1.418020920305645, 1.4220015570290627, 1.4589088665093854, 1.4617022492885507, 1.4312672058506002, 1.4370856875424909, 1.4435548523127395, 1.4464244717885226, 1.4416407706476484, 1.4404345313312652, 1.4430882235450782, 1.39260449064267, 1.4051778128338976, 1.4098725865044073, 1.4156687879209278, 1.4271533699656105, 1.4391680346466884, 1.502907544192977, 1.6867682142512925, 1.7043346734415845, 1.7076740229571525, 1.806781363518126, 1.858658684950853, 1.8302806102438867, 1.8463044896964171, 1.8240368638345335, 1.8330517127476817, 2.235886982698485, 2.1761566847493685, 2.2044394389848883, 2.4324765464391076, 2.3772472831197633, 2.3401622139271288, 2.1161404253859115, 1.8922395293204695, 1.980678039853683, 2.111845728516486, 2.080026781278257, 2.0537626345929483, 2.0311904460325434, 2.1373604815203335, 2.1467533237645915, 2.1287583049535983, 2.1500386184562137, 2.0333235530574476, 2.1157310447684567, 2.0558513746982277, 2.1094714110848156, 2.077465117806932, 2.088924223075704, 2.1053574799714085, 2.1366273592011105, 2.1358591706043537, 2.1130709595535615, 2.1109347512565333, 2.065247315040329, 2.076287354961605, 2.0689452820783645, 2.0770968123801437, 2.079264792051467, 2.085476957543359, 1.9244773482750783, 1.7378076017944244, 1.7977696127028207, 1.8356515437686645, 1.8253479210698498, 1.8761712829483144, 1.865845376799849, 1.8795011381906765, 1.8700321576524987, 1.8650771882030923, 1.800578882756274, 1.8329534846352267, 1.8195484247500904, 1.8230464502031416, 1.8272111444115362, 1.862518622829611, 1.8519228329979278, 1.8416604759466144, 1.8339754760097984, 1.8399749139145423, 1.8223766833499553, 1.8331565274923347, 1.8267095445947583, 1.8166502304005532, 1.8269158791808249, 1.9376950557719985, 1.9507351019593044, 1.9881026472062062, 1.9771356474810071, 1.9307338806865955, 1.9339019618936315, 1.9384824265462826, 1.9272804157842842, 1.9267026744993057, 1.9338574013428915, 1.9309530044491066, 1.8955184310110098, 1.8928170769743329, 1.9135895881159228, 1.9300991801109428, 1.9241410110279809, 1.919576430475337, 1.9226395033066053, 1.9354699200046057, 1.9430818797453453, 1.9369586385495368, 1.9442817260606464, 1.9459006408977235, 1.9589151150807012, 1.964860691792615, 2.034942464720244, 2.0194519628073477, 2.0213374664244044, 2.032739418771387, 2.0289779026362, 2.025064106738892, 2.00144745289743, 2.0025171060948654, 2.0087736385063826, 2.075220799862013, 2.087368857335778, 2.1531272632918106, 2.1848985487071753, 2.1891457773848524, 2.2250817570086125, 2.3165678403610364, 2.35159903892053, 2.1861270714732095, 2.2322651539543696, 2.2319350160772387, 2.253256788858471, 2.2958714675133667, 2.2713056688622943, 2.274089557368254, 2.2379344539819828, 2.2588784302375013, 2.362293250495784, 2.352068867363013, 2.385741737300837, 2.346580523548253, 2.3849861410751294, 2.363550252907155, 2.3542019743879172, 2.3356768761148095, 2.335013502262705, 2.367032391085918, 2.402212968115085, 2.469412433967465, 2.4083267118634066, 2.425861396505123, 2.4382665484856614, 2.446767205210983, 2.4530650032700008, 2.4762149331153847, 2.4777038452914306, 2.4806400167337914, 2.469869666864618, 2.4915149877165024, 2.5162966184011273, 2.542205058379257, 2.648241993108173, 2.7442924602078453, 2.9266359320758935, 2.9622322795493172, 3.097847141649062, 3.0901526474390395, 3.051239037094303, 3.3134409295730842, 3.6654369471968553, 3.2167524669945213, 2.8638390759354353, 2.865829394297144, 2.8812278706418324, 2.4688189990393137, 2.5547688831229984, 2.615556435529617, 2.8820499204314203, 2.8143742363097557, 2.8539099548590956, 2.841063650886807, 2.9235505789692553, 2.833639043534283, 2.861747234558032, 2.912675414355429, 2.919544560698344, 2.9215507663343403, 3.0803314423794763, 3.139436530851866, 3.211737049720087, 3.2692234169865144, 3.295379457198212, 3.3690226142192095, 3.374482281583237, 3.1564506303046733, 3.1383287101047723, 3.144575751417364, 3.1887235155368163, 3.19802413223319, 3.261382648753224, 3.320963958669178, 3.5402752830709936, 3.5470679006834778, 3.703496542746594, 3.725589799027821, 3.745555760391881, 3.745555760391881, 3.880558005385948, 3.971056776379104, 4.04717596113002, 4.0403194071581545, 3.8838593809829733, 3.6504226635532433, 3.772600691219276, 3.5447825138964526, 3.9104598680896596, 3.9361079154834973, 3.9666127042142856, 3.7704423994522736, 3.4924386557502016, 3.346421749208072, 3.5569084815516825, 3.3302647721709473, 3.2967759565438195, 2.9759515900372953, 3.319567462497851, 3.3239479823912372, 3.3011564796114863, 3.2581769840641557, 3.402162303422795, 3.6307740540641498, 3.597253463888446, 3.570367399455369, 3.7541583242208465, 3.735810887257353, 3.7682837172487607, 3.8250398698369743, 3.8103111603454725, 3.7116228851319946, 3.789805431614977, 3.8461806864053525, 3.8418001633376857, 3.901444631914281, 3.8791297346660447, 3.9683269395228096, 4.017020295648494, 4.066507221918428, 4.182844681248315, 4.178876830527061, 4.512557192084476, 4.611658136470086, 4.729963637060593, 4.880996154508272, 4.937434567959289, 5.470396356195077, 5.572005106033462, 5.672852063450453, 5.867879674818952, 5.473221510348536, 5.518264754890164, 5.505630791242794, 5.837787558434577, 5.99510508793911, 6.309549121917334, 6.898981094978433, 7.365663888894999, 7.75679864953915, 7.31665318089435, 6.991098780808667, 6.905552074798188, 7.257706574728328, 7.643286344362722, 7.899356085440116, 8.528688984379501, 9.088599992534727, 8.672642141927335, 8.905825443841481, 8.963565423428888, 8.442411479623182, 8.624583876813814, 7.955921981173387, 7.823268672063496, 7.9946162772987766, 8.220117293286, 8.63972525547745, 8.53595821069778, 8.58773013649251, 8.71311421928412, 7.867295540532892, 8.102192303231101, 8.173106010658033, 8.060514370645881, 7.874882505988367, 8.139046043552405, 8.259446286812762, 8.28030152922903, 7.994933238737233, 7.531171313056365, 7.420801513908366, 7.614591498674136, 7.484635861435454, 7.089248063180169, 7.073598301262164, 7.360775373009471, 7.216504476324443, 8.943853264842643, 8.468218783847849, 8.744698930010012, 8.178470357550616, 8.029183849960036, 8.480979452078731, 8.916585915349497, 9.12713619361598, 8.628519952986492, 8.60442688407035, 8.902999899251508, 9.192367040488676, 10.725703425575354, 10.85584892923247, 10.60993750816048, 10.733131521462234, 11.588092531408865, 13.729175780621379, 13.274619732058785, 13.892651230337025, 13.749999245314791, 13.206975625680302, 12.70264552447246, 13.016201055097216, 13.178089364524359, 13.759491090195967, 13.876685281505026, 13.91179300879495, 14.535094311193065, 14.491542499206261, 14.929879957945731, 15.52861158272191, 13.892333491199828, 14.592549097542033, 14.601309369152904, 13.423238990000677, 13.209038600150137, 13.112350137571575, 12.324430304802071, 10.0146963508753, 11.546509147944912, 12.904085246092116, 12.458955944264623, 12.398581064204416, 11.525939870117263, 11.52486033538439, 12.462447960804543, 12.355411314976424, 13.334104943804553, 13.251764289745372, 13.21475168302975, 13.996418275116694, 13.704892842112525, 13.42517486627621, 13.739588287492547, 13.874177476052251, 15.147730462554609, 15.179378719203374, 15.32060165580696, 17.290021112870203, 17.92582889345915, 18.174628633693807, 17.793460774413422, 17.746418491761343, 18.12044422291775, 19.08202959360832, 18.824499032737982, 17.543106442963303, 18.254652123243105, 18.74358742709745, 18.350198276516107, 19.460021623262776, 20.532516173205547, 21.48134087883951, 22.469145064314464, 22.879451828916192, 22.29220992217067, 22.67826629733658, 23.679148890179615, 22.675727491859693, 21.00783369276188, 20.821662444825886, 21.063732338846464, 23.221576656084157, 24.986952487904777, 24.47049796809063, 26.031131153645646, 25.620443107158124, 26.199082837336917, 26.199529220543056, 31.166196462071937, 31.92945284897126, 31.38922377390262, 32.48431647167236, 34.83963265980845, 37.003224161221986, 37.82694997095422, 45.365230866235805, 56.818667565064246, 52.595925833734235, 53.7621577556945, 55.281367201878616, 52.08422808446454, 52.578783477474715, 56.20666999007494, 60.67383132583417, 56.4282310540929, 52.771143639297385, 50.16283977146157, 43.9060134660029, 51.105281814645295, 50.27584291885917, 46.365129247991696, 46.52289161165344, 47.55738779157025, 48.25223905101987, 49.5162381957671, 55.32612331687066, 48.15415254004678, 46.32989597473067, 47.529454744651616, 42.5537699401997, 44.378345793701925, 36.4740709700509, 35.51575442271005, 36.42455343419336, 36.84514561064624, 34.69933194059233, 34.49935226424115, 36.05792402754954, 35.740495969849256, 35.46115927907301, 35.85794435119836, 32.080231176378895, 32.44463796445982, 29.109867126424383, 28.031278205367656, 22.07797853229602, 24.61337159407987, 24.19214394252688, 26.237301299280972, 27.73362740439969, 28.335438763805886, 27.29344706310847, 30.13861922343746, 32.27100729918517, 32.48527123813287, 36.19854403495177, 33.93433032153465, 31.758677172913217, 32.698580410620046, 32.90681507659985, 34.04606251555774, 33.00585325276133, 34.76154659875788, 35.191345430027766, 36.73690078284203, 34.218428433176406, 31.633516283311817, 29.82239702096561, 29.640002982807975, 29.21963399637103, 29.18703252231068, 26.250695893563044, 26.349259787766393, 26.468261208107762, 27.396105903053094, 28.29385382811873, 28.34404093719834, 27.70661192137321, 28.186405668556613, 26.058940209990656, 24.864266854683116, 25.249751300671782, 22.745942949613823, 22.485968132387864, 23.667784718120057, 21.75601069469724, 21.621517604307726, 21.065541120101976, 21.492196667644695, 21.69544517369414, 22.11940227166691, 25.0426930421195, 25.063992340994243, 25.580479409881434, 25.083450309540446, 25.91298530032248, 26.328465767699612, 28.079146604062746, 28.34911854815212, 30.78258589548485, 28.078861413998585, 29.46211617547579, 28.527417640568487, 29.3320977668387, 28.946295581712832, 29.317401219158, 30.92974666038146, 30.79293330738422, 29.75256284827155, 29.313910751667006, 29.60073676067962, 28.708004446519535, 26.795658490745193, 27.669537314609354, 27.01433356552243, 26.565014768832402, 25.693642201372086, 26.190892945854362, 26.72423717776263, 25.526865376059416, 23.99064067181007, 24.08434549792881, 23.744063550138318, 23.720096801717734, 23.51037264266854, 23.788598024163342, 23.93867887642263, 23.853036849940707, 24.231695354719392, 24.295879987282436, 24.37288884034779, 24.20363520960646, 21.924501755318435, 20.894257063963845, 20.156363924830714, 21.189434160775274, 20.494996735458756, 21.37820775693675, 21.48968886219192, 21.510670425103747, 21.362083713060617, 19.31133881622373, 19.836651254867867, 19.34301807607089, 19.544457797690548, 18.739174742218975, 19.738628292991923, 20.995263665473896, 20.726750217604074, 21.07449358487894, 21.18356143062832, 21.400206080008765, 20.093037957383714, 20.29860362476876, 19.771990788123492, 19.80132033438773, 21.400206080008765, 23.23903519925767, 23.396923108890523, 23.70190823432284, 23.34407164836292, 24.477226265255776, 26.740995147689958, 25.970027804761543, 25.240546198077972, 25.91803191125214, 25.96713871107442, 24.697299385253267, 24.203604209582345, 24.020256957187392, 23.598840213740438, 22.066963096223493, 21.436298021560116, 20.01637784347967, 20.849404850801623, 19.63200470359817, 19.99025357464227, 19.67961891225321, 20.025012569119443, 20.108210336071465, 20.888765622051242, 20.025043565969277, 20.597144094051163, 20.24146657438271, 20.743542285653362, 21.33103838243893, 21.853779466533137, 22.525583090503247, 22.369663606218964, 22.15085988737278, 22.33925375069739, 23.36797484768635, 21.56234857947595, 20.72541726735562, 20.52829413244425, 20.092244387239464, 20.06526300233494, 20.1623947500218, 20.687770734588806, 20.673168732855093, 19.93829177925483, 20.224293221273356, 20.31076136697257, 20.695261601874094, 21.37862159106986, 20.93568235555794, 20.462905193701697, 20.61695234763332, 21.193877842503582, 21.09033243869092, 20.917303147220153, 20.810901201967685, 20.641044642025, 20.876259140686123, 21.021609572104026, 21.11604441926986, 21.085603566898452, 20.90431928579906, 19.85906185984978, 19.917277670444243, 20.939268921219128, 20.937903421897637, 20.77385759522795, 20.558894632082993, 20.523025880547575, 20.592066483097387, 20.5558164465019, 20.61961824813023, 20.55756168183454, 20.55267316594901, 20.10154403895454, 20.106750293977267, 20.05386628120235, 20.24486249592672, 20.278700822065343, 20.377802544149695, 20.509057808039334, 20.728497001985634, 20.485918727884965, 20.269749909511578, 20.22419867532637, 20.186806329425323, 18.21513326012363, 17.928431244858913, 17.698359452123363, 15.463476830845126, 14.131484843732375, 14.608578595471185, 13.798946404218293, 11.99601858557784, 12.128037194112078, 13.514245366549462, 13.582259908297, 12.751937546740685, 12.36106395003101, 12.560291131428603, 11.176965075609633, 10.855840406289122, 11.118412927768075, 10.870603601164811, 11.068558276964698, 10.518541320433997, 10.29255672184655, 11.25556959190684, 11.732328555447475, 11.89069849863163, 13.123877051822031, 12.368722987526983, 12.946617971171076, 12.244144873619558, 11.601466978532116, 12.455618918322436, 11.88038130905763, 12.51748794177308, 12.17889310506358, 12.245477823868015, 12.777267467735095, 12.795042197822607, 12.809162943703756, 11.677938778240927, 11.704732620300401, 11.764049661835479, 11.524782063973923, 11.602017208327332, 11.676794145361981, 11.611008418373023, 11.44193922920462, 11.38018645425727, 11.430157350389656, 11.426666879724378, 11.016183421968611, 10.945290639399241, 11.066118670930118, 10.976004286269154, 11.071717060703923, 10.980325523298484, 11.003191037604168, 10.83625689177182, 10.790876925895146, 11.639389400720999, 11.581142593276702, 11.597324758230206, 11.529211023388914, 11.480994660056977, 11.493469366873516, 12.529185349807609, 12.696552705581702, 12.551480487159253, 12.71466532196523, 12.324767416573629, 12.234813450530185, 12.22430484548883, 12.236170423734048, 12.251401701197903, 11.940237733871191, 12.368187483219364, 12.392209254619468, 12.416148878812516, 12.383286240817691, 12.396287151299763, 12.40875875684418, 12.401016797616691, 12.457048741265542, 12.573043276716133, 12.80030967519482, 12.923099932704298, 12.974796685186403, 12.790214129762107, 12.773204296542396, 12.579897894376849, 12.649764616143946, 12.973494734962062, 12.916487880868159, 13.00939061072501, 13.19923986582278, 15.490101731343728, 15.785767057902143, 15.626344704212647, 15.98783915334979, 16.791217329395664, 16.521998657958612, 16.90162122666562, 16.076105233787782, 16.155624993578034, 16.084423769339274, 16.619135052792238, 16.671124746931675, 16.818562950299278, 17.13910019043049, 17.688241432784164, 17.347020218545218, 16.53963854460721, 16.758132275909368, 16.656569245234135, 16.984707401783957, 17.149676994890036, 17.475315091231696, 18.310169484267618, 18.241978249366042, 18.504473273958986, 18.98999870848046, 19.599686870553057, 20.248256868421812, 24.80673301922494, 25.376519484069064, 26.04550531504238, 25.028914061505233, 23.31158487058266, 25.325391556317797, 25.277836246438866, 24.378685622657656, 25.01919282723816, 25.354158474046887, 27.679605735814537, 27.487642359063997, 26.408340462846866, 27.217875006880654, 26.057653756604097, 24.46662776458848, 24.836305905838213, 24.82929707210422, 25.53375796763867, 25.395290827157936, 25.16478969710294, 25.857236997688865, 26.127261638010104, 27.596665257000403, 29.585414035366618, 28.828062927687288, 29.436759127079572, 30.241879437185958, 32.20166910783127, 34.952328920934136, 37.42767879275812, 41.31717066163685, 35.49736591690445, 39.384353078428255, 33.593839131517086, 34.28755583008004, 37.968425548548936, 34.84871221960544, 38.99907787466666, 39.912808797625274, 38.588182131826706, 36.055580513336594, 37.50725589910128, 34.58407207650989, 30.084693653022494, 30.77084973583304, 33.8584079770966, 33.42749938876847, 32.83192189423619, 31.427814220264658, 31.14580542962153, 31.46296689854183, 31.33111335894616, 30.216438695708042, 30.496658852254487, 32.014612845076165, 33.01146713937291, 33.38763798903193, 37.47445603250486, 36.434928741670454, 37.907159454299645, 37.98473403717228, 37.65628899117627, 36.131617554054735, 34.58642178691853, 31.906929096758173, 32.73173986289451, 32.93106236476355, 34.65061727234686, 34.16551962292162, 32.18101458469873, 32.15881321876961, 33.03780065043739, 32.91989348714221, 32.33163481706222, 30.963274998976054, 30.188043762396934, 30.46729675691721, 33.72209680480948, 33.629893873674355, 33.56970963773133, 32.864287776366396, 32.80610916516602, 32.11094482007452, 32.30900876730899, 33.04466379104145, 32.88728271243976, 32.62142741347369, 32.50867225674617, 32.37210069504904, 32.58848185374735, 32.31938717923248, 30.883604895734834, 27.36409650532881, 26.94009755764091, 25.771881707145745, 26.193673539457087, 26.32706462120724, 26.483900120334756, 26.64187017717466, 26.21953276856343, 26.04795422171905, 26.17392108337891, 26.12046669364996, 27.28529126974788, 27.25587647817874, 26.415591091055244, 26.583604768446182, 26.046143891414612, 25.545108188735092, 25.72408770723882, 25.309197767148824, 26.167882509768937, 25.642483276770985, 23.853676975361864, 23.786435856599756, 27.491492412233036, 29.381612204598394, 29.926125317302276, 29.22155902612983, 29.20206385818955, 29.397344110549174, 29.878272418619247, 29.655803088176945, 29.71405919626333, 29.417840538637577, 27.94916229354761, 27.799676618896505, 27.983385006018423, 27.959897189877015, 27.641935954616777, 26.955965862428084, 26.37600558074077, 26.04860829810334, 25.48080110829879, 24.260232879888306, 23.161384671722235, 22.68383368708627, 22.9131351612828, 23.90761339546784, 24.636364977930032, 23.24204518542057, 23.236195706878842, 23.0199927903835, 23.643018200185264, 23.95628466494927, 23.492531262211756, 23.102793775437675, 22.910139122908753, 22.991740452104462, 23.0760185314881, 22.005638103198102, 21.07885822067232, 23.098613581217222, 22.863848563860078, 22.914548706515106, 23.348828418907384, 23.243771822643307, 22.978511701285417, 23.140785946093676, 23.15001274806951, 22.83450196853486, 22.173842424706216, 23.314723500814498, 24.66168172566005, 25.91385016798277, 25.647751528667662, 25.010382957493277, 25.922934374926523, 25.85195789610118, 28.021801860498538, 27.9559231397858, 27.69174487990844, 28.34327216770824, 27.76192313826849, 27.555536005161482, 26.684639268708224, 26.808178919899163, 28.282266462868968, 29.706789969945053, 29.573597280730958, 30.18421230733779, 29.681203532162932, 29.500244738619628, 29.142952183084958, 30.515704535716505, 30.885120738507293, 31.095072737893467, 31.28764989353638, 32.40380630142499, 32.777794833187315, 32.42330766873524, 32.733550196373216, 32.19354121322267, 30.579072352878626, 30.499997427245592, 30.74748281534169, 30.63236244819348, 29.65319298518402, 27.998813126969416, 27.884449130571372, 27.52880570902488, 28.15482095783072, 27.89489883683662, 27.79160762306401, 28.81854008595628, 28.95752025683815, 25.151870933827922, 25.107700695801984, 25.113099143990805, 15.778676073786823, 17.660767164637328, 15.917366404283491, 16.5876138911635, 16.628273511365336, 19.652583278893626, 19.676661622322175, 20.367183893149296, 21.378156609753812, 21.20756847654083, 21.31986640354547, 20.53695520778709, 20.41012192941801, 20.438064276978732, 20.97176189836936, 21.564870335891865, 21.373660228619364, 23.08267398208829, 22.779953321759717, 23.280486840554833, 23.178880411115554, 21.728069896185442, 21.719785455581622, 21.083920328439767, 22.590733339217813, null, 21.845267185592338, 21.840076430581675, 22.592013593234412, 23.584030518828577, 23.968677999083226, 24.745425075260524, 24.781794458457146, 27.93696425385188, 27.48467886976299, 28.13925644439189, 28.291265424507824, 28.5782712279466, 29.421650297488974, 31.588912060819673, 31.243383560514527, 27.304513646363933, 27.947882042705288, 29.42554065132422, 30.897563670775263, 29.610315399914608, 30.874878722245917, 30.882696629310495, 30.22861503602175, 28.828059829589446, 29.148076287726354, 28.04493629033187, 29.14312577496688, 30.237406307656737, 29.962428050129624, 32.273763095308034, 30.2502708224767, 30.653131664431832, 31.109970779382348, 30.68111431265876, 31.017448560061098, 31.09430086713124, 31.330449985094052, 29.58994916494407, 30.09485816922358, 29.999180267435236, 30.276365640338906, 30.092988940143044, 29.875823508768296, 29.482776897978304, 30.62773741981581, 30.567236996958783, 29.564012442126, 29.409117469595063, 29.08567253766683, 29.174350900014723, 29.006554213269744, 29.29329342475426, 28.96026365422107, 29.760386951531814, 29.369324266102442, 29.928174340808976, 29.45087289589201, 29.453538796388926, 29.341825200475736, 29.34055424710123, 29.180643663664743, 28.988252501817964, 29.04908771287317, 29.08984187902199, 29.758523921821237, 30.236175651774158, 30.413011600824195, 30.27277287530776, 34.888114837395904, 34.64036285734555, 35.235999247479654, 35.2701103649425, 35.943860718053436, 35.699066027934116, 35.570647158325464, 37.28834523556817, 37.392306025737135, 36.826329316570124, 37.70445807994758, 36.22020912204881, 36.77383279139952, 37.40615940196528, 37.357698926934134, 38.89891134333703, 38.06353926957893, 37.32408999018141, 37.70528574821378, 36.797813490783234, 37.37587044209377, 36.07930082331029, 36.46728842443069, 35.94364062613535, 36.63913356005505, 37.0782010430159, 37.997657450768344, 36.231347002820314, 32.52144687594019, 33.36744534911758, 32.16027636531021, 32.512085227351164, 32.8955098033164, 33.01542259135423, 33.903976263517066, 34.27255239612743, 34.83742864252974, 34.75516703757977, 34.74118656633159, 33.21014796677187, 33.4520287657242, 32.45976229723676, 34.109386933955825, 33.97207140024845, 34.03250052558944, 34.43723059979939, 34.242926810108024, 33.72143032968526, 33.60028068956916, 34.29493045521059, 33.71614193062976, 33.89857626627933, 34.67465996860452, null, null, null, 36.280461554235764, 36.48946498970567, 35.93959527852809, 37.27252032954505, 37.82579061576196, 40.705988356173826, 41.15737787575258, 41.04833327843415, 41.504505915086156, 43.34232137227273, 42.126782702556646, 42.655610409345925, 43.00046313388475, 43.01305486055476, 44.282168812475575, 44.8643517095515, 49.45481090837585, 49.41047327466368, 48.66907106992964, 48.537614315406095, 49.840458099729695, 51.66568183024625, 51.7973028791839, 53.06162751148722, 56.01147033269917, 56.514909991068116, 56.5564422305234, 59.10927678641979, 58.29287290241198, 60.65245453007342, 59.46100815474902, 54.30686926410872, 62.29790982543733, 59.68599149001407, 60.94965274846528, 61.72515057382438, 59.3583028179425, 60.91962107673165, 58.15645323321475, 58.89533523693034, 57.97820994147664, 57.32402915191987, 61.09424990723086, 61.63524775496388, 67.64581622376264, 72.38998313799938, 73.44637999694336, 72.38338038680533, 75.49400795975615, 73.77455224844086, 75.34456258259695, 85.97478185177326, 86.85605389570361, 91.54927732693629, 92.05959872719346, 101.48782581978422, 107.90150932375242, 116.89086112337414, 124.97473699284015, 129.50305902721067, 112.89854612331096, 107.68099601991877, 118.4525947685196, 124.39157453182385, 116.89404780586536, 114.49568043740366, 112.838532381152, 97.8494183034027, 104.76954835380492, 102.74001130799363, 103.38584100975159, 96.60144245404038, 100.46472791004894, 108.92983983503925, 106.45640568915768, 112.71962085643656, 118.94692697151385, 117.21369537768213, 121.08073789313596, 146.64054108050283]}],\n",
              "                        {\"legend\": {\"tracegroupgap\": 0}, \"template\": {\"data\": {\"bar\": [{\"error_x\": {\"color\": \"#2a3f5f\"}, \"error_y\": {\"color\": \"#2a3f5f\"}, \"marker\": {\"line\": {\"color\": \"#E5ECF6\", \"width\": 0.5}}, \"type\": \"bar\"}], \"barpolar\": [{\"marker\": {\"line\": {\"color\": \"#E5ECF6\", \"width\": 0.5}}, \"type\": \"barpolar\"}], \"carpet\": [{\"aaxis\": {\"endlinecolor\": \"#2a3f5f\", \"gridcolor\": \"white\", \"linecolor\": \"white\", \"minorgridcolor\": \"white\", \"startlinecolor\": \"#2a3f5f\"}, \"baxis\": {\"endlinecolor\": \"#2a3f5f\", \"gridcolor\": \"white\", \"linecolor\": \"white\", \"minorgridcolor\": \"white\", \"startlinecolor\": \"#2a3f5f\"}, \"type\": \"carpet\"}], \"choropleth\": [{\"colorbar\": {\"outlinewidth\": 0, \"ticks\": \"\"}, \"type\": \"choropleth\"}], \"contour\": [{\"colorbar\": {\"outlinewidth\": 0, \"ticks\": \"\"}, \"colorscale\": [[0.0, \"#0d0887\"], [0.1111111111111111, \"#46039f\"], [0.2222222222222222, \"#7201a8\"], [0.3333333333333333, \"#9c179e\"], [0.4444444444444444, \"#bd3786\"], [0.5555555555555556, \"#d8576b\"], [0.6666666666666666, \"#ed7953\"], [0.7777777777777778, \"#fb9f3a\"], [0.8888888888888888, \"#fdca26\"], [1.0, \"#f0f921\"]], \"type\": \"contour\"}], \"contourcarpet\": [{\"colorbar\": {\"outlinewidth\": 0, \"ticks\": \"\"}, \"type\": \"contourcarpet\"}], \"heatmap\": [{\"colorbar\": {\"outlinewidth\": 0, \"ticks\": \"\"}, \"colorscale\": [[0.0, \"#0d0887\"], [0.1111111111111111, \"#46039f\"], [0.2222222222222222, \"#7201a8\"], [0.3333333333333333, \"#9c179e\"], [0.4444444444444444, \"#bd3786\"], [0.5555555555555556, \"#d8576b\"], [0.6666666666666666, \"#ed7953\"], [0.7777777777777778, \"#fb9f3a\"], [0.8888888888888888, \"#fdca26\"], [1.0, \"#f0f921\"]], \"type\": \"heatmap\"}], \"heatmapgl\": [{\"colorbar\": {\"outlinewidth\": 0, \"ticks\": \"\"}, \"colorscale\": [[0.0, \"#0d0887\"], [0.1111111111111111, \"#46039f\"], [0.2222222222222222, \"#7201a8\"], [0.3333333333333333, \"#9c179e\"], [0.4444444444444444, \"#bd3786\"], [0.5555555555555556, \"#d8576b\"], [0.6666666666666666, \"#ed7953\"], [0.7777777777777778, \"#fb9f3a\"], [0.8888888888888888, \"#fdca26\"], [1.0, \"#f0f921\"]], \"type\": \"heatmapgl\"}], \"histogram\": [{\"marker\": {\"colorbar\": {\"outlinewidth\": 0, \"ticks\": \"\"}}, \"type\": \"histogram\"}], \"histogram2d\": [{\"colorbar\": {\"outlinewidth\": 0, \"ticks\": \"\"}, \"colorscale\": [[0.0, \"#0d0887\"], [0.1111111111111111, \"#46039f\"], [0.2222222222222222, \"#7201a8\"], [0.3333333333333333, \"#9c179e\"], [0.4444444444444444, \"#bd3786\"], [0.5555555555555556, \"#d8576b\"], [0.6666666666666666, \"#ed7953\"], [0.7777777777777778, \"#fb9f3a\"], [0.8888888888888888, \"#fdca26\"], [1.0, \"#f0f921\"]], \"type\": \"histogram2d\"}], \"histogram2dcontour\": [{\"colorbar\": {\"outlinewidth\": 0, \"ticks\": \"\"}, \"colorscale\": [[0.0, \"#0d0887\"], [0.1111111111111111, \"#46039f\"], [0.2222222222222222, \"#7201a8\"], [0.3333333333333333, \"#9c179e\"], [0.4444444444444444, \"#bd3786\"], [0.5555555555555556, \"#d8576b\"], [0.6666666666666666, \"#ed7953\"], [0.7777777777777778, \"#fb9f3a\"], [0.8888888888888888, \"#fdca26\"], [1.0, \"#f0f921\"]], \"type\": \"histogram2dcontour\"}], \"mesh3d\": [{\"colorbar\": {\"outlinewidth\": 0, \"ticks\": \"\"}, \"type\": \"mesh3d\"}], \"parcoords\": [{\"line\": {\"colorbar\": {\"outlinewidth\": 0, \"ticks\": \"\"}}, \"type\": \"parcoords\"}], \"pie\": [{\"automargin\": true, \"type\": \"pie\"}], \"scatter\": [{\"marker\": {\"colorbar\": {\"outlinewidth\": 0, \"ticks\": \"\"}}, \"type\": \"scatter\"}], \"scatter3d\": [{\"line\": {\"colorbar\": {\"outlinewidth\": 0, \"ticks\": \"\"}}, \"marker\": {\"colorbar\": {\"outlinewidth\": 0, \"ticks\": \"\"}}, \"type\": \"scatter3d\"}], \"scattercarpet\": [{\"marker\": {\"colorbar\": {\"outlinewidth\": 0, \"ticks\": \"\"}}, \"type\": \"scattercarpet\"}], \"scattergeo\": [{\"marker\": {\"colorbar\": {\"outlinewidth\": 0, \"ticks\": \"\"}}, \"type\": \"scattergeo\"}], \"scattergl\": [{\"marker\": {\"colorbar\": {\"outlinewidth\": 0, \"ticks\": \"\"}}, \"type\": \"scattergl\"}], \"scattermapbox\": [{\"marker\": {\"colorbar\": {\"outlinewidth\": 0, \"ticks\": \"\"}}, \"type\": \"scattermapbox\"}], \"scatterpolar\": [{\"marker\": {\"colorbar\": {\"outlinewidth\": 0, \"ticks\": \"\"}}, \"type\": \"scatterpolar\"}], \"scatterpolargl\": [{\"marker\": {\"colorbar\": {\"outlinewidth\": 0, \"ticks\": \"\"}}, \"type\": \"scatterpolargl\"}], \"scatterternary\": [{\"marker\": {\"colorbar\": {\"outlinewidth\": 0, \"ticks\": \"\"}}, \"type\": \"scatterternary\"}], \"surface\": [{\"colorbar\": {\"outlinewidth\": 0, \"ticks\": \"\"}, \"colorscale\": [[0.0, \"#0d0887\"], [0.1111111111111111, \"#46039f\"], [0.2222222222222222, \"#7201a8\"], [0.3333333333333333, \"#9c179e\"], [0.4444444444444444, \"#bd3786\"], [0.5555555555555556, \"#d8576b\"], [0.6666666666666666, \"#ed7953\"], [0.7777777777777778, \"#fb9f3a\"], [0.8888888888888888, \"#fdca26\"], [1.0, \"#f0f921\"]], \"type\": \"surface\"}], \"table\": [{\"cells\": {\"fill\": {\"color\": \"#EBF0F8\"}, \"line\": {\"color\": \"white\"}}, \"header\": {\"fill\": {\"color\": \"#C8D4E3\"}, \"line\": {\"color\": \"white\"}}, \"type\": \"table\"}]}, \"layout\": {\"annotationdefaults\": {\"arrowcolor\": \"#2a3f5f\", \"arrowhead\": 0, \"arrowwidth\": 1}, \"coloraxis\": {\"colorbar\": {\"outlinewidth\": 0, \"ticks\": \"\"}}, \"colorscale\": {\"diverging\": [[0, \"#8e0152\"], [0.1, \"#c51b7d\"], [0.2, \"#de77ae\"], [0.3, \"#f1b6da\"], [0.4, \"#fde0ef\"], [0.5, \"#f7f7f7\"], [0.6, \"#e6f5d0\"], [0.7, \"#b8e186\"], [0.8, \"#7fbc41\"], [0.9, \"#4d9221\"], [1, \"#276419\"]], \"sequential\": [[0.0, \"#0d0887\"], [0.1111111111111111, \"#46039f\"], [0.2222222222222222, \"#7201a8\"], [0.3333333333333333, \"#9c179e\"], [0.4444444444444444, \"#bd3786\"], [0.5555555555555556, \"#d8576b\"], [0.6666666666666666, \"#ed7953\"], [0.7777777777777778, \"#fb9f3a\"], [0.8888888888888888, \"#fdca26\"], [1.0, \"#f0f921\"]], \"sequentialminus\": [[0.0, \"#0d0887\"], [0.1111111111111111, \"#46039f\"], [0.2222222222222222, \"#7201a8\"], [0.3333333333333333, \"#9c179e\"], [0.4444444444444444, \"#bd3786\"], [0.5555555555555556, \"#d8576b\"], [0.6666666666666666, \"#ed7953\"], [0.7777777777777778, \"#fb9f3a\"], [0.8888888888888888, \"#fdca26\"], [1.0, \"#f0f921\"]]}, \"colorway\": [\"#636efa\", \"#EF553B\", \"#00cc96\", \"#ab63fa\", \"#FFA15A\", \"#19d3f3\", \"#FF6692\", \"#B6E880\", \"#FF97FF\", \"#FECB52\"], \"font\": {\"color\": \"#2a3f5f\"}, \"geo\": {\"bgcolor\": \"white\", \"lakecolor\": \"white\", \"landcolor\": \"#E5ECF6\", \"showlakes\": true, \"showland\": true, \"subunitcolor\": \"white\"}, \"hoverlabel\": {\"align\": \"left\"}, \"hovermode\": \"closest\", \"mapbox\": {\"style\": \"light\"}, \"paper_bgcolor\": \"white\", \"plot_bgcolor\": \"#E5ECF6\", \"polar\": {\"angularaxis\": {\"gridcolor\": \"white\", \"linecolor\": \"white\", \"ticks\": \"\"}, \"bgcolor\": \"#E5ECF6\", \"radialaxis\": {\"gridcolor\": \"white\", \"linecolor\": \"white\", \"ticks\": \"\"}}, \"scene\": {\"xaxis\": {\"backgroundcolor\": \"#E5ECF6\", \"gridcolor\": \"white\", \"gridwidth\": 2, \"linecolor\": \"white\", \"showbackground\": true, \"ticks\": \"\", \"zerolinecolor\": \"white\"}, \"yaxis\": {\"backgroundcolor\": \"#E5ECF6\", \"gridcolor\": \"white\", \"gridwidth\": 2, \"linecolor\": \"white\", \"showbackground\": true, \"ticks\": \"\", \"zerolinecolor\": \"white\"}, \"zaxis\": {\"backgroundcolor\": \"#E5ECF6\", \"gridcolor\": \"white\", \"gridwidth\": 2, \"linecolor\": \"white\", \"showbackground\": true, \"ticks\": \"\", \"zerolinecolor\": \"white\"}}, \"shapedefaults\": {\"line\": {\"color\": \"#2a3f5f\"}}, \"ternary\": {\"aaxis\": {\"gridcolor\": \"white\", \"linecolor\": \"white\", \"ticks\": \"\"}, \"baxis\": {\"gridcolor\": \"white\", \"linecolor\": \"white\", \"ticks\": \"\"}, \"bgcolor\": \"#E5ECF6\", \"caxis\": {\"gridcolor\": \"white\", \"linecolor\": \"white\", \"ticks\": \"\"}}, \"title\": {\"x\": 0.05}, \"xaxis\": {\"automargin\": true, \"gridcolor\": \"white\", \"linecolor\": \"white\", \"ticks\": \"\", \"title\": {\"standoff\": 15}, \"zerolinecolor\": \"white\", \"zerolinewidth\": 2}, \"yaxis\": {\"automargin\": true, \"gridcolor\": \"white\", \"linecolor\": \"white\", \"ticks\": \"\", \"title\": {\"standoff\": 15}, \"zerolinecolor\": \"white\", \"zerolinewidth\": 2}}}, \"title\": {\"text\": \"Normalized Returns for Tesla and Bitcoin (USD)\"}, \"xaxis\": {\"anchor\": \"y\", \"domain\": [0.0, 1.0]}, \"yaxis\": {\"anchor\": \"x\", \"domain\": [0.0, 1.0]}},\n",
              "                        {\"responsive\": true}\n",
              "                    ).then(function(){\n",
              "                            \n",
              "var gd = document.getElementById('af6b2c36-7f45-468d-90ae-a1a602c2e04f');\n",
              "var x = new MutationObserver(function (mutations, observer) {{\n",
              "        var display = window.getComputedStyle(gd).display;\n",
              "        if (!display || display === 'none') {{\n",
              "            console.log([gd, 'removed!']);\n",
              "            Plotly.purge(gd);\n",
              "            observer.disconnect();\n",
              "        }}\n",
              "}});\n",
              "\n",
              "// Listen for the removal of the full notebook cells\n",
              "var notebookContainer = gd.closest('#notebook-container');\n",
              "if (notebookContainer) {{\n",
              "    x.observe(notebookContainer, {childList: true});\n",
              "}}\n",
              "\n",
              "// Listen for the clearing of the current output cell\n",
              "var outputEl = gd.closest('.output');\n",
              "if (outputEl) {{\n",
              "    x.observe(outputEl, {childList: true});\n",
              "}}\n",
              "\n",
              "                        })\n",
              "                };\n",
              "                \n",
              "            </script>\n",
              "        </div>\n",
              "</body>\n",
              "</html>"
            ]
          },
          "metadata": {
            "tags": []
          }
        }
      ]
    },
    {
      "cell_type": "code",
      "metadata": {
        "id": "q4fqR26BEJRo"
      },
      "source": [
        "def daily_return(df):\r\n",
        "  daily_return = df.copy()\r\n",
        "\r\n",
        "  for i in df.columns[1:]:\r\n",
        "    for j in range(1,len(df)):\r\n",
        "      daily_return[i][j] = ( (df[i][j]-df[i][j-1])/df[i][j-1])*100\r\n",
        "    daily_return[i][0] = 0\r\n",
        "  return daily_return\r\n"
      ],
      "execution_count": 75,
      "outputs": []
    },
    {
      "cell_type": "code",
      "metadata": {
        "colab": {
          "base_uri": "https://localhost:8080/",
          "height": 419
        },
        "id": "jGmXUQD1F-Hp",
        "outputId": "5137d4d4-d5c7-4429-9cb1-9979ea4c1c26"
      },
      "source": [
        "final_df2 = daily_return(final_df)\r\n",
        "final_df2"
      ],
      "execution_count": 95,
      "outputs": [
        {
          "output_type": "execute_result",
          "data": {
            "text/html": [
              "<div>\n",
              "<style scoped>\n",
              "    .dataframe tbody tr th:only-of-type {\n",
              "        vertical-align: middle;\n",
              "    }\n",
              "\n",
              "    .dataframe tbody tr th {\n",
              "        vertical-align: top;\n",
              "    }\n",
              "\n",
              "    .dataframe thead th {\n",
              "        text-align: right;\n",
              "    }\n",
              "</style>\n",
              "<table border=\"1\" class=\"dataframe\">\n",
              "  <thead>\n",
              "    <tr style=\"text-align: right;\">\n",
              "      <th></th>\n",
              "      <th>Date</th>\n",
              "      <th>Tesla</th>\n",
              "      <th>BTCUSD</th>\n",
              "    </tr>\n",
              "  </thead>\n",
              "  <tbody>\n",
              "    <tr>\n",
              "      <th>0</th>\n",
              "      <td>2015-01-02</td>\n",
              "      <td>0.000000</td>\n",
              "      <td>0.000000</td>\n",
              "    </tr>\n",
              "    <tr>\n",
              "      <th>1</th>\n",
              "      <td>2015-01-05</td>\n",
              "      <td>-4.204090</td>\n",
              "      <td>-12.874252</td>\n",
              "    </tr>\n",
              "    <tr>\n",
              "      <th>2</th>\n",
              "      <td>2015-01-06</td>\n",
              "      <td>0.566422</td>\n",
              "      <td>4.268162</td>\n",
              "    </tr>\n",
              "    <tr>\n",
              "      <th>3</th>\n",
              "      <td>2015-01-07</td>\n",
              "      <td>-0.156196</td>\n",
              "      <td>2.847073</td>\n",
              "    </tr>\n",
              "    <tr>\n",
              "      <th>4</th>\n",
              "      <td>2015-01-08</td>\n",
              "      <td>-0.156430</td>\n",
              "      <td>-3.733138</td>\n",
              "    </tr>\n",
              "    <tr>\n",
              "      <th>...</th>\n",
              "      <td>...</td>\n",
              "      <td>...</td>\n",
              "      <td>...</td>\n",
              "    </tr>\n",
              "    <tr>\n",
              "      <th>1531</th>\n",
              "      <td>2021-02-02</td>\n",
              "      <td>3.927076</td>\n",
              "      <td>5.883361</td>\n",
              "    </tr>\n",
              "    <tr>\n",
              "      <th>1532</th>\n",
              "      <td>2021-02-03</td>\n",
              "      <td>-2.073807</td>\n",
              "      <td>5.524598</td>\n",
              "    </tr>\n",
              "    <tr>\n",
              "      <th>1533</th>\n",
              "      <td>2021-02-04</td>\n",
              "      <td>-0.549908</td>\n",
              "      <td>-1.457147</td>\n",
              "    </tr>\n",
              "    <tr>\n",
              "      <th>1534</th>\n",
              "      <td>2021-02-05</td>\n",
              "      <td>0.263531</td>\n",
              "      <td>3.299139</td>\n",
              "    </tr>\n",
              "    <tr>\n",
              "      <th>1535</th>\n",
              "      <td>2021-02-08</td>\n",
              "      <td>1.313026</td>\n",
              "      <td>21.109719</td>\n",
              "    </tr>\n",
              "  </tbody>\n",
              "</table>\n",
              "<p>1536 rows × 3 columns</p>\n",
              "</div>"
            ],
            "text/plain": [
              "            Date     Tesla     BTCUSD\n",
              "0     2015-01-02  0.000000   0.000000\n",
              "1     2015-01-05 -4.204090 -12.874252\n",
              "2     2015-01-06  0.566422   4.268162\n",
              "3     2015-01-07 -0.156196   2.847073\n",
              "4     2015-01-08 -0.156430  -3.733138\n",
              "...          ...       ...        ...\n",
              "1531  2021-02-02  3.927076   5.883361\n",
              "1532  2021-02-03 -2.073807   5.524598\n",
              "1533  2021-02-04 -0.549908  -1.457147\n",
              "1534  2021-02-05  0.263531   3.299139\n",
              "1535  2021-02-08  1.313026  21.109719\n",
              "\n",
              "[1536 rows x 3 columns]"
            ]
          },
          "metadata": {
            "tags": []
          },
          "execution_count": 95
        }
      ]
    },
    {
      "cell_type": "code",
      "metadata": {
        "id": "tp17pLowMFI0"
      },
      "source": [
        ""
      ],
      "execution_count": null,
      "outputs": []
    },
    {
      "cell_type": "code",
      "metadata": {
        "colab": {
          "base_uri": "https://localhost:8080/",
          "height": 279
        },
        "id": "Arz2Cdi6GSYu",
        "outputId": "9243af72-c6fa-4e29-e0fd-4eb2e0ce90d1"
      },
      "source": [
        "final_df2.plot(kind='scatter',x='BTCUSD',y='Tesla');"
      ],
      "execution_count": 96,
      "outputs": [
        {
          "output_type": "display_data",
          "data": {
            "image/png": "[encoded data removed]",
            "text/plain": [
              "<Figure size 432x288 with 1 Axes>"
            ]
          },
          "metadata": {
            "tags": [],
            "needs_background": "light"
          }
        }
      ]
    },
    {
      "cell_type": "code",
      "metadata": {
        "colab": {
          "base_uri": "https://localhost:8080/",
          "height": 374
        },
        "id": "lTDiarncGzIq",
        "outputId": "211e901d-1a13-406a-d676-0eddde4958c0"
      },
      "source": [
        "beta1, alpha1 = np.polyfit(final_df2['BTCUSD'],final_df2['Tesla'],1)"
      ],
      "execution_count": 102,
      "outputs": [
        {
          "output_type": "error",
          "ename": "ValueError",
          "evalue": "ignored",
          "traceback": [
            "\u001b[0;31m---------------------------------------------------------------------------\u001b[0m",
            "\u001b[0;31mValueError\u001b[0m                                Traceback (most recent call last)",
            "\u001b[0;32m<ipython-input-102-5b9e507e88fe>\u001b[0m in \u001b[0;36m<module>\u001b[0;34m()\u001b[0m\n\u001b[0;32m----> 1\u001b[0;31m \u001b[0mbeta1\u001b[0m\u001b[0;34m,\u001b[0m \u001b[0malpha1\u001b[0m \u001b[0;34m=\u001b[0m \u001b[0mnp\u001b[0m\u001b[0;34m.\u001b[0m\u001b[0mpolyfit\u001b[0m\u001b[0;34m(\u001b[0m\u001b[0mfinal_df2\u001b[0m\u001b[0;34m[\u001b[0m\u001b[0;34m'BTCUSD'\u001b[0m\u001b[0;34m]\u001b[0m\u001b[0;34m,\u001b[0m\u001b[0mfinal_df2\u001b[0m\u001b[0;34m[\u001b[0m\u001b[0;34m'Tesla'\u001b[0m\u001b[0;34m]\u001b[0m\u001b[0;34m,\u001b[0m\u001b[0;36m1\u001b[0m\u001b[0;34m)\u001b[0m\u001b[0;34m\u001b[0m\u001b[0;34m\u001b[0m\u001b[0m\n\u001b[0m",
            "\u001b[0;32m<__array_function__ internals>\u001b[0m in \u001b[0;36mpolyfit\u001b[0;34m(*args, **kwargs)\u001b[0m\n",
            "\u001b[0;32m/usr/local/lib/python3.6/dist-packages/numpy/lib/polynomial.py\u001b[0m in \u001b[0;36mpolyfit\u001b[0;34m(x, y, deg, rcond, full, w, cov)\u001b[0m\n\u001b[1;32m    627\u001b[0m     \u001b[0mscale\u001b[0m \u001b[0;34m=\u001b[0m \u001b[0mNX\u001b[0m\u001b[0;34m.\u001b[0m\u001b[0msqrt\u001b[0m\u001b[0;34m(\u001b[0m\u001b[0;34m(\u001b[0m\u001b[0mlhs\u001b[0m\u001b[0;34m*\u001b[0m\u001b[0mlhs\u001b[0m\u001b[0;34m)\u001b[0m\u001b[0;34m.\u001b[0m\u001b[0msum\u001b[0m\u001b[0;34m(\u001b[0m\u001b[0maxis\u001b[0m\u001b[0;34m=\u001b[0m\u001b[0;36m0\u001b[0m\u001b[0;34m)\u001b[0m\u001b[0;34m)\u001b[0m\u001b[0;34m\u001b[0m\u001b[0;34m\u001b[0m\u001b[0m\n\u001b[1;32m    628\u001b[0m     \u001b[0mlhs\u001b[0m \u001b[0;34m/=\u001b[0m \u001b[0mscale\u001b[0m\u001b[0;34m\u001b[0m\u001b[0;34m\u001b[0m\u001b[0m\n\u001b[0;32m--> 629\u001b[0;31m     \u001b[0mc\u001b[0m\u001b[0;34m,\u001b[0m \u001b[0mresids\u001b[0m\u001b[0;34m,\u001b[0m \u001b[0mrank\u001b[0m\u001b[0;34m,\u001b[0m \u001b[0ms\u001b[0m \u001b[0;34m=\u001b[0m \u001b[0mlstsq\u001b[0m\u001b[0;34m(\u001b[0m\u001b[0mlhs\u001b[0m\u001b[0;34m,\u001b[0m \u001b[0mrhs\u001b[0m\u001b[0;34m,\u001b[0m \u001b[0mrcond\u001b[0m\u001b[0;34m)\u001b[0m\u001b[0;34m\u001b[0m\u001b[0;34m\u001b[0m\u001b[0m\n\u001b[0m\u001b[1;32m    630\u001b[0m     \u001b[0mc\u001b[0m \u001b[0;34m=\u001b[0m \u001b[0;34m(\u001b[0m\u001b[0mc\u001b[0m\u001b[0;34m.\u001b[0m\u001b[0mT\u001b[0m\u001b[0;34m/\u001b[0m\u001b[0mscale\u001b[0m\u001b[0;34m)\u001b[0m\u001b[0;34m.\u001b[0m\u001b[0mT\u001b[0m  \u001b[0;31m# broadcast scale coefficients\u001b[0m\u001b[0;34m\u001b[0m\u001b[0;34m\u001b[0m\u001b[0m\n\u001b[1;32m    631\u001b[0m \u001b[0;34m\u001b[0m\u001b[0m\n",
            "\u001b[0;32m<__array_function__ internals>\u001b[0m in \u001b[0;36mlstsq\u001b[0;34m(*args, **kwargs)\u001b[0m\n",
            "\u001b[0;32m/usr/local/lib/python3.6/dist-packages/numpy/linalg/linalg.py\u001b[0m in \u001b[0;36mlstsq\u001b[0;34m(a, b, rcond)\u001b[0m\n\u001b[1;32m   2304\u001b[0m         \u001b[0;31m# lapack can't handle n_rhs = 0 - so allocate the array one larger in that axis\u001b[0m\u001b[0;34m\u001b[0m\u001b[0;34m\u001b[0m\u001b[0;34m\u001b[0m\u001b[0m\n\u001b[1;32m   2305\u001b[0m         \u001b[0mb\u001b[0m \u001b[0;34m=\u001b[0m \u001b[0mzeros\u001b[0m\u001b[0;34m(\u001b[0m\u001b[0mb\u001b[0m\u001b[0;34m.\u001b[0m\u001b[0mshape\u001b[0m\u001b[0;34m[\u001b[0m\u001b[0;34m:\u001b[0m\u001b[0;34m-\u001b[0m\u001b[0;36m2\u001b[0m\u001b[0;34m]\u001b[0m \u001b[0;34m+\u001b[0m \u001b[0;34m(\u001b[0m\u001b[0mm\u001b[0m\u001b[0;34m,\u001b[0m \u001b[0mn_rhs\u001b[0m \u001b[0;34m+\u001b[0m \u001b[0;36m1\u001b[0m\u001b[0;34m)\u001b[0m\u001b[0;34m,\u001b[0m \u001b[0mdtype\u001b[0m\u001b[0;34m=\u001b[0m\u001b[0mb\u001b[0m\u001b[0;34m.\u001b[0m\u001b[0mdtype\u001b[0m\u001b[0;34m)\u001b[0m\u001b[0;34m\u001b[0m\u001b[0;34m\u001b[0m\u001b[0m\n\u001b[0;32m-> 2306\u001b[0;31m     \u001b[0mx\u001b[0m\u001b[0;34m,\u001b[0m \u001b[0mresids\u001b[0m\u001b[0;34m,\u001b[0m \u001b[0mrank\u001b[0m\u001b[0;34m,\u001b[0m \u001b[0ms\u001b[0m \u001b[0;34m=\u001b[0m \u001b[0mgufunc\u001b[0m\u001b[0;34m(\u001b[0m\u001b[0ma\u001b[0m\u001b[0;34m,\u001b[0m \u001b[0mb\u001b[0m\u001b[0;34m,\u001b[0m \u001b[0mrcond\u001b[0m\u001b[0;34m,\u001b[0m \u001b[0msignature\u001b[0m\u001b[0;34m=\u001b[0m\u001b[0msignature\u001b[0m\u001b[0;34m,\u001b[0m \u001b[0mextobj\u001b[0m\u001b[0;34m=\u001b[0m\u001b[0mextobj\u001b[0m\u001b[0;34m)\u001b[0m\u001b[0;34m\u001b[0m\u001b[0;34m\u001b[0m\u001b[0m\n\u001b[0m\u001b[1;32m   2307\u001b[0m     \u001b[0;32mif\u001b[0m \u001b[0mm\u001b[0m \u001b[0;34m==\u001b[0m \u001b[0;36m0\u001b[0m\u001b[0;34m:\u001b[0m\u001b[0;34m\u001b[0m\u001b[0;34m\u001b[0m\u001b[0m\n\u001b[1;32m   2308\u001b[0m         \u001b[0mx\u001b[0m\u001b[0;34m[\u001b[0m\u001b[0;34m...\u001b[0m\u001b[0;34m]\u001b[0m \u001b[0;34m=\u001b[0m \u001b[0;36m0\u001b[0m\u001b[0;34m\u001b[0m\u001b[0;34m\u001b[0m\u001b[0m\n",
            "\u001b[0;31mValueError\u001b[0m: On entry to DLASCL parameter number 4 had an illegal value"
          ]
        }
      ]
    },
    {
      "cell_type": "code",
      "metadata": {
        "colab": {
          "base_uri": "https://localhost:8080/",
          "height": 442
        },
        "id": "CpwD8AHLHivf",
        "outputId": "715b5a38-c2aa-41b3-dae8-0f018daf50f0"
      },
      "source": [
        "final_df2.plot(kind='scatter',x='BTCUSD',y='Tesla')\r\n",
        "plt.plot(final_df2['BTCUSD'],beta1*final_df2['BTCUSD']+alpha1,'-',color='r');\r\n"
      ],
      "execution_count": 100,
      "outputs": [
        {
          "output_type": "error",
          "ename": "NameError",
          "evalue": "ignored",
          "traceback": [
            "\u001b[0;31m---------------------------------------------------------------------------\u001b[0m",
            "\u001b[0;31mNameError\u001b[0m                                 Traceback (most recent call last)",
            "\u001b[0;32m<ipython-input-100-67a86d224e03>\u001b[0m in \u001b[0;36m<module>\u001b[0;34m()\u001b[0m\n\u001b[1;32m      1\u001b[0m \u001b[0mfinal_df2\u001b[0m\u001b[0;34m.\u001b[0m\u001b[0mplot\u001b[0m\u001b[0;34m(\u001b[0m\u001b[0mkind\u001b[0m\u001b[0;34m=\u001b[0m\u001b[0;34m'scatter'\u001b[0m\u001b[0;34m,\u001b[0m\u001b[0mx\u001b[0m\u001b[0;34m=\u001b[0m\u001b[0;34m'BTCUSD'\u001b[0m\u001b[0;34m,\u001b[0m\u001b[0my\u001b[0m\u001b[0;34m=\u001b[0m\u001b[0;34m'Tesla'\u001b[0m\u001b[0;34m)\u001b[0m\u001b[0;34m\u001b[0m\u001b[0;34m\u001b[0m\u001b[0m\n\u001b[0;32m----> 2\u001b[0;31m \u001b[0mplt\u001b[0m\u001b[0;34m.\u001b[0m\u001b[0mplot\u001b[0m\u001b[0;34m(\u001b[0m\u001b[0mfinal_df2\u001b[0m\u001b[0;34m[\u001b[0m\u001b[0;34m'BTCUSD'\u001b[0m\u001b[0;34m]\u001b[0m\u001b[0;34m,\u001b[0m\u001b[0mbeta1\u001b[0m\u001b[0;34m*\u001b[0m\u001b[0mfinal_df2\u001b[0m\u001b[0;34m[\u001b[0m\u001b[0;34m'BTCUSD'\u001b[0m\u001b[0;34m]\u001b[0m\u001b[0;34m+\u001b[0m\u001b[0malpha1\u001b[0m\u001b[0;34m,\u001b[0m\u001b[0;34m'-'\u001b[0m\u001b[0;34m,\u001b[0m\u001b[0mcolor\u001b[0m\u001b[0;34m=\u001b[0m\u001b[0;34m'r'\u001b[0m\u001b[0;34m)\u001b[0m\u001b[0;34m;\u001b[0m\u001b[0;34m\u001b[0m\u001b[0;34m\u001b[0m\u001b[0m\n\u001b[0m",
            "\u001b[0;31mNameError\u001b[0m: name 'beta1' is not defined"
          ]
        },
        {
          "output_type": "display_data",
          "data": {
            "image/png": "[encoded data removed]",
            "text/plain": [
              "<Figure size 432x288 with 1 Axes>"
            ]
          },
          "metadata": {
            "tags": [],
            "needs_background": "light"
          }
        }
      ]
    },
    {
      "cell_type": "code",
      "metadata": {
        "id": "BGBz3T-wH8tH"
      },
      "source": [
        ""
      ],
      "execution_count": null,
      "outputs": []
    }
  ]
}